{
 "cells": [
  {
   "cell_type": "markdown",
   "metadata": {},
   "source": [
    "# Pisa 2012 Dataset\n",
    "\n",
    "## David Owino\n",
    "\n",
    "## Introduction\n",
    "\n",
    "International Student Assessment (PISA) is a program initiated by OECD member states to measure how well 15-year-old students at the end of their compulsory schooling are prepared to meet today’s challenges affecting societies. The assessment, which takes place after every three years only focuses on the student's ability to use the skills and knowledge acquired at school to solve real-life challenges. \n",
    "\n",
    "PISA is an age-based survey, assessing 15-year-old students in school in grade 7 or higher. About 510,000 students in 65 economies took part in the PISA 2012 assessment of reading, mathematics, science, and financial literacy representing about 28 million 15-year-olds globally. The database also includes students' responses to Questionnaires that they completed as \n",
    "part of the assessment. Of those economies, 44 took part in an assessment of creative problem solving and 18 in an assessment of financial literacy.\n",
    "\n",
    "Two datasets are used in this project. Pisa2012.csv dataset, which contains 485490 observations and 636 coded features, and pisadict.csv containing 635 columns and their descriptions\n",
    "\n",
    "\n",
    "https://www.oecd.org/pisa/pisaproducts/PISA-2012-technical-report-final.pdf\n",
    "\n",
    "\n",
    "## Preliminary Wrangling\n"
   ]
  },
  {
   "cell_type": "code",
   "execution_count": 1198,
   "metadata": {},
   "outputs": [],
   "source": [
    "# import all packages and set plots to be embedded inline\n",
    "import numpy as np\n",
    "import pandas as pd\n",
    "import matplotlib.pyplot as plt\n",
    "import seaborn as sb\n",
    "import zipfile\n",
    "import requests\n",
    "\n",
    "%matplotlib inline"
   ]
  },
  {
   "cell_type": "markdown",
   "metadata": {},
   "source": [
    ">  Download and load the datasets. The pisa2012.csv is a zip file and is approximately 2.75GB when extracted, while pisadict is a csv file containing feature descriptions. The two datasets are programmatically downloaded from Udacity servers and stored on the local computer. And because of the large size, only data for the selected columns are uploaded for this project, however, the method used is provided in the Markdown cells\n"
   ]
  },
  {
   "cell_type": "markdown",
   "metadata": {},
   "source": [
    "Download pisa2012.csv.zip file into the working directory"
   ]
  },
  {
   "cell_type": "code",
   "execution_count": 1199,
   "metadata": {},
   "outputs": [],
   "source": [
    "# Download pisa2012.csv.zip file\n",
    "url = 'https://s3.amazonaws.com/udacity-hosted-downloads/ud507/pisa2012.csv.zip'# provided url\n",
    "\n",
    "# Downloading the file by sending the request to the URL\n",
    "#req = requests.get(url)\n",
    " \n",
    "# Split URL to get the file name\n",
    "#filename = url.split('/')[-1]\n",
    " \n",
    "# Writing the file into the working directory\n",
    "#with open(filename,'wb') as output_file:\n",
    "    #output_file.write(req.content)"
   ]
  },
  {
   "cell_type": "markdown",
   "metadata": {},
   "source": [
    "Extract the downloaded zip file"
   ]
  },
  {
   "cell_type": "code",
   "execution_count": 1200,
   "metadata": {},
   "outputs": [],
   "source": [
    "#with zipfile.ZipFile('pisa2012.csv.zip', 'r') as myzip:\n",
    "    #myzip.extractall()"
   ]
  },
  {
   "cell_type": "markdown",
   "metadata": {},
   "source": [
    "Read and load the extracted pisa data to dataframe"
   ]
  },
  {
   "cell_type": "code",
   "execution_count": 1201,
   "metadata": {},
   "outputs": [],
   "source": [
    "#path_data='C:/Users/Davie/Desktop/Data/project_3/'\n",
    "#df_pisa=pd.read_csv(path_data + 'pisa2012.csv', encoding = 'latin-1', low_memory=False, index_col=False)\n",
    "#df_pisa"
   ]
  },
  {
   "cell_type": "markdown",
   "metadata": {},
   "source": [
    "Download the the dictionary for pisa2012 features"
   ]
  },
  {
   "cell_type": "code",
   "execution_count": 1202,
   "metadata": {},
   "outputs": [],
   "source": [
    "# url for pisa dictionary\n",
    "file_url='https://s3.amazonaws.com/udacity-hosted-downloads/ud507/pisadict2012.csv'\n",
    "\n",
    "# store resquest response in csv_response\n",
    "#csv_response=requests.get(file_url)\n",
    "\n",
    "# write the response to 'pisadict2012.csv'\n",
    "#with open('pisadict2012.csv', 'w') as f:\n",
    "    #f.write(csv_response.text)"
   ]
  },
  {
   "cell_type": "code",
   "execution_count": 1203,
   "metadata": {},
   "outputs": [
    {
     "data": {
      "text/html": [
       "<div>\n",
       "<style scoped>\n",
       "    .dataframe tbody tr th:only-of-type {\n",
       "        vertical-align: middle;\n",
       "    }\n",
       "\n",
       "    .dataframe tbody tr th {\n",
       "        vertical-align: top;\n",
       "    }\n",
       "\n",
       "    .dataframe thead th {\n",
       "        text-align: right;\n",
       "    }\n",
       "</style>\n",
       "<table border=\"1\" class=\"dataframe\">\n",
       "  <thead>\n",
       "    <tr style=\"text-align: right;\">\n",
       "      <th></th>\n",
       "      <th>Unnamed: 0</th>\n",
       "      <th>x</th>\n",
       "    </tr>\n",
       "  </thead>\n",
       "  <tbody>\n",
       "    <tr>\n",
       "      <th>0</th>\n",
       "      <td>CNT</td>\n",
       "      <td>Country code 3-character</td>\n",
       "    </tr>\n",
       "    <tr>\n",
       "      <th>1</th>\n",
       "      <td>SUBNATIO</td>\n",
       "      <td>Adjudicated sub-region code 7-digit code (3-di...</td>\n",
       "    </tr>\n",
       "    <tr>\n",
       "      <th>2</th>\n",
       "      <td>STRATUM</td>\n",
       "      <td>Stratum ID 7-character (cnt + region ID + orig...</td>\n",
       "    </tr>\n",
       "    <tr>\n",
       "      <th>3</th>\n",
       "      <td>OECD</td>\n",
       "      <td>OECD country</td>\n",
       "    </tr>\n",
       "    <tr>\n",
       "      <th>4</th>\n",
       "      <td>NC</td>\n",
       "      <td>National Centre 6-digit Code</td>\n",
       "    </tr>\n",
       "  </tbody>\n",
       "</table>\n",
       "</div>"
      ],
      "text/plain": [
       "  Unnamed: 0                                                  x\n",
       "0        CNT                           Country code 3-character\n",
       "1   SUBNATIO  Adjudicated sub-region code 7-digit code (3-di...\n",
       "2    STRATUM  Stratum ID 7-character (cnt + region ID + orig...\n",
       "3       OECD                                       OECD country\n",
       "4         NC                       National Centre 6-digit Code"
      ]
     },
     "execution_count": 1203,
     "metadata": {},
     "output_type": "execute_result"
    }
   ],
   "source": [
    "# read,load and transpose pisadict.csv data\n",
    "path_dict='C:/Users/Davie/Desktop/Data/project_3/'\n",
    "pisa_dict_r=pd.read_csv(path_dict + 'pisadict2012.csv', encoding='latin-1')\n",
    "pisa_dict_r.head(5)"
   ]
  },
  {
   "cell_type": "markdown",
   "metadata": {},
   "source": [
    "### Dataset structure\n",
    "\n",
    "> There are two datasets for this project. Pisa2012.csv file for this project is contained in a compressed zip file. The csv file is 2.75GB when extracted. It contains data from 485490 sampled students with 636 features. The dataset contains the results from mathematics, science, readings, and financial literacy examinations as well as students' age, country of residence, family possessions, school and home ICT facilities, first language, education level of the father and mother, occupations, and student's interest and motivations among others. Pisadict2012.csv is 35.4kB containing 636 coded column names and their descriptions.\n",
    "\n",
    "\n",
    "### Main features of interest in the dataset\n",
    "\n",
    "> The main features of the dataset are the plausible values for mathematics, science, and reading. According to pisa 2012 report, these plausible values are not the real scores for the listed subjects but are imputed values, which resemble individual test scores and have nearly the same distribution as the latent trait being measured. Many different factors can impact these scores and therefore the average of these estimates across the subgroups will give us the best estimates of the group-level statistics of interest https://www.researchgate.net/publication/257822398_What_are_plausible_values_and_why_are_they_useful\n",
    "\n",
    "\n",
    "### Features in the dataset that will help support my investigations\n",
    "\n",
    "> Pisa2012 is a complex dataset. In this project, and after a visual assessment of the dataset, I will retain only the variable of interest to the investigation. I want to investigate (a) how the choice of school play into academic performance (b) whether there are differences in achievement based on gender, location, or student attitudes, and (c) whether there are differences in achievement based on teacher practices and attitudes. \n",
    "\n",
    "From pisa2012.sv, the following features are of interest:\n",
    "\n",
    "- Student's country of residence.\n",
    "\n",
    "- Student's country economic level (OECD or not)\n",
    "\n",
    "- Student's gender\n",
    "\n",
    "- Student's parents' level of education\n",
    "\n",
    "- Access to computer at school and at home\n",
    "\n",
    "- home posession\n",
    "\n",
    "- Age\n",
    "\n",
    "- perserverence\n",
    "\n",
    "- Sense of Belonging to School\n",
    "\n",
    "- Teacher Student Relations\n",
    "\n",
    "- teacher support\n",
    "\n",
    "- socio-economic and cultural status index\n",
    "\n",
    "- Parents Believe Studying Mathematics Is Important'\n",
    "\n",
    "- All 5 plausible Values in each subject category\n",
    "\n",
    "From the dictionary file, pisadict2012.csv, I retain only column names corresponding to the above features"
   ]
  },
  {
   "cell_type": "markdown",
   "metadata": {},
   "source": [
    "### Filtering the required columns"
   ]
  },
  {
   "cell_type": "code",
   "execution_count": 1204,
   "metadata": {},
   "outputs": [],
   "source": [
    "# create list of features to be filtered\n",
    "required_var=['CNT','OECD','SCHOOLID','STIDSTD',\n",
    "              'ST01Q01','ST03Q01','ST03Q02','ST04Q01','ST35Q04',\n",
    "              'IC01Q01','IC02Q01','AGE','ANCBELONG','CLSMAN','ESCS', 'PERSEV', 'ANCATSCHL',\n",
    "              'FISCED','HOMEPOS','HOMSCH','ICTSCH','MISCED','ANCMTSUP','ANCSTUDREL','TEACHSUP','USESCH',\n",
    "              'PV1MATH','PV2MATH','PV3MATH','PV4MATH','PV5MATH',\n",
    "              'PV1READ','PV2READ','PV3READ','PV4READ','PV5READ',\n",
    "              'PV1SCIE','PV2SCIE','PV3SCIE','PV4SCIE','PV5SCIE'\n",
    "              ]"
   ]
  },
  {
   "cell_type": "markdown",
   "metadata": {},
   "source": [
    "Filter the data based on the required_var and save the new data as pisa2012_edited.csv"
   ]
  },
  {
   "cell_type": "code",
   "execution_count": 1205,
   "metadata": {},
   "outputs": [],
   "source": [
    "#pisa2012_edited=df_pisa.filter(required_var) # filter the required features\n",
    "#pisa2012_edited.to_csv('pisa2012_edited.csv') # save the new data as pisa2012_edited"
   ]
  },
  {
   "cell_type": "markdown",
   "metadata": {},
   "source": [
    "## Data Wrangling\n",
    "\n",
    "### Assessing Data\n",
    "The data is assessed visually and programmatically for quality and tidiness issues \n",
    "\n",
    "**Quality issues**- Issues related to the data content (dirty data). We check for four quality diemnsions, completeness, validity, accuracy and consistency.\n",
    "\n",
    "**Tidiness issues**- Issues related to the data structure (messy data). We check whether or not each variable forms a column, each observation forms a row or each type of observational unit forms a table"
   ]
  },
  {
   "cell_type": "markdown",
   "metadata": {},
   "source": [
    "### **1. visual assessment**\n",
    "\n",
    "- viewing the data without code"
   ]
  },
  {
   "cell_type": "code",
   "execution_count": 1206,
   "metadata": {},
   "outputs": [
    {
     "data": {
      "text/html": [
       "<div>\n",
       "<style scoped>\n",
       "    .dataframe tbody tr th:only-of-type {\n",
       "        vertical-align: middle;\n",
       "    }\n",
       "\n",
       "    .dataframe tbody tr th {\n",
       "        vertical-align: top;\n",
       "    }\n",
       "\n",
       "    .dataframe thead th {\n",
       "        text-align: right;\n",
       "    }\n",
       "</style>\n",
       "<table border=\"1\" class=\"dataframe\">\n",
       "  <thead>\n",
       "    <tr style=\"text-align: right;\">\n",
       "      <th></th>\n",
       "      <th>Unnamed: 0</th>\n",
       "      <th>CNT</th>\n",
       "      <th>OECD</th>\n",
       "      <th>SCHOOLID</th>\n",
       "      <th>STIDSTD</th>\n",
       "      <th>ST01Q01</th>\n",
       "      <th>ST03Q01</th>\n",
       "      <th>ST03Q02</th>\n",
       "      <th>ST04Q01</th>\n",
       "      <th>ST35Q04</th>\n",
       "      <th>...</th>\n",
       "      <th>PV1READ</th>\n",
       "      <th>PV2READ</th>\n",
       "      <th>PV3READ</th>\n",
       "      <th>PV4READ</th>\n",
       "      <th>PV5READ</th>\n",
       "      <th>PV1SCIE</th>\n",
       "      <th>PV2SCIE</th>\n",
       "      <th>PV3SCIE</th>\n",
       "      <th>PV4SCIE</th>\n",
       "      <th>PV5SCIE</th>\n",
       "    </tr>\n",
       "  </thead>\n",
       "  <tbody>\n",
       "    <tr>\n",
       "      <th>0</th>\n",
       "      <td>0</td>\n",
       "      <td>Albania</td>\n",
       "      <td>Non-OECD</td>\n",
       "      <td>1</td>\n",
       "      <td>1</td>\n",
       "      <td>10</td>\n",
       "      <td>2</td>\n",
       "      <td>1996</td>\n",
       "      <td>Female</td>\n",
       "      <td>Agree</td>\n",
       "      <td>...</td>\n",
       "      <td>249.5762</td>\n",
       "      <td>254.3420</td>\n",
       "      <td>406.8496</td>\n",
       "      <td>175.7053</td>\n",
       "      <td>218.5981</td>\n",
       "      <td>341.7009</td>\n",
       "      <td>408.8400</td>\n",
       "      <td>348.2283</td>\n",
       "      <td>367.8105</td>\n",
       "      <td>392.9877</td>\n",
       "    </tr>\n",
       "    <tr>\n",
       "      <th>1</th>\n",
       "      <td>1</td>\n",
       "      <td>Albania</td>\n",
       "      <td>Non-OECD</td>\n",
       "      <td>1</td>\n",
       "      <td>2</td>\n",
       "      <td>10</td>\n",
       "      <td>2</td>\n",
       "      <td>1996</td>\n",
       "      <td>Female</td>\n",
       "      <td>Agree</td>\n",
       "      <td>...</td>\n",
       "      <td>406.2936</td>\n",
       "      <td>349.8975</td>\n",
       "      <td>400.7334</td>\n",
       "      <td>369.7553</td>\n",
       "      <td>396.7618</td>\n",
       "      <td>548.9929</td>\n",
       "      <td>471.5964</td>\n",
       "      <td>471.5964</td>\n",
       "      <td>443.6218</td>\n",
       "      <td>454.8116</td>\n",
       "    </tr>\n",
       "    <tr>\n",
       "      <th>2</th>\n",
       "      <td>2</td>\n",
       "      <td>Albania</td>\n",
       "      <td>Non-OECD</td>\n",
       "      <td>1</td>\n",
       "      <td>3</td>\n",
       "      <td>9</td>\n",
       "      <td>9</td>\n",
       "      <td>1996</td>\n",
       "      <td>Female</td>\n",
       "      <td>Strongly agree</td>\n",
       "      <td>...</td>\n",
       "      <td>401.2100</td>\n",
       "      <td>404.3872</td>\n",
       "      <td>387.7067</td>\n",
       "      <td>431.3938</td>\n",
       "      <td>401.2100</td>\n",
       "      <td>499.6643</td>\n",
       "      <td>428.7952</td>\n",
       "      <td>492.2044</td>\n",
       "      <td>512.7191</td>\n",
       "      <td>499.6643</td>\n",
       "    </tr>\n",
       "    <tr>\n",
       "      <th>3</th>\n",
       "      <td>3</td>\n",
       "      <td>Albania</td>\n",
       "      <td>Non-OECD</td>\n",
       "      <td>1</td>\n",
       "      <td>4</td>\n",
       "      <td>9</td>\n",
       "      <td>8</td>\n",
       "      <td>1996</td>\n",
       "      <td>Female</td>\n",
       "      <td>NaN</td>\n",
       "      <td>...</td>\n",
       "      <td>547.3630</td>\n",
       "      <td>481.4353</td>\n",
       "      <td>461.5776</td>\n",
       "      <td>425.0393</td>\n",
       "      <td>471.9036</td>\n",
       "      <td>438.6796</td>\n",
       "      <td>481.5740</td>\n",
       "      <td>448.9370</td>\n",
       "      <td>474.1141</td>\n",
       "      <td>426.5573</td>\n",
       "    </tr>\n",
       "    <tr>\n",
       "      <th>4</th>\n",
       "      <td>4</td>\n",
       "      <td>Albania</td>\n",
       "      <td>Non-OECD</td>\n",
       "      <td>1</td>\n",
       "      <td>5</td>\n",
       "      <td>9</td>\n",
       "      <td>10</td>\n",
       "      <td>1996</td>\n",
       "      <td>Female</td>\n",
       "      <td>Strongly agree</td>\n",
       "      <td>...</td>\n",
       "      <td>311.7707</td>\n",
       "      <td>141.7883</td>\n",
       "      <td>293.5015</td>\n",
       "      <td>272.8495</td>\n",
       "      <td>260.1405</td>\n",
       "      <td>361.5628</td>\n",
       "      <td>275.7740</td>\n",
       "      <td>372.7527</td>\n",
       "      <td>403.5248</td>\n",
       "      <td>422.1746</td>\n",
       "    </tr>\n",
       "  </tbody>\n",
       "</table>\n",
       "<p>5 rows × 42 columns</p>\n",
       "</div>"
      ],
      "text/plain": [
       "   Unnamed: 0      CNT      OECD  SCHOOLID  STIDSTD  ST01Q01  ST03Q01  \\\n",
       "0           0  Albania  Non-OECD         1        1       10        2   \n",
       "1           1  Albania  Non-OECD         1        2       10        2   \n",
       "2           2  Albania  Non-OECD         1        3        9        9   \n",
       "3           3  Albania  Non-OECD         1        4        9        8   \n",
       "4           4  Albania  Non-OECD         1        5        9       10   \n",
       "\n",
       "   ST03Q02 ST04Q01         ST35Q04  ...   PV1READ   PV2READ   PV3READ  \\\n",
       "0     1996  Female           Agree  ...  249.5762  254.3420  406.8496   \n",
       "1     1996  Female           Agree  ...  406.2936  349.8975  400.7334   \n",
       "2     1996  Female  Strongly agree  ...  401.2100  404.3872  387.7067   \n",
       "3     1996  Female             NaN  ...  547.3630  481.4353  461.5776   \n",
       "4     1996  Female  Strongly agree  ...  311.7707  141.7883  293.5015   \n",
       "\n",
       "    PV4READ   PV5READ   PV1SCIE   PV2SCIE   PV3SCIE   PV4SCIE   PV5SCIE  \n",
       "0  175.7053  218.5981  341.7009  408.8400  348.2283  367.8105  392.9877  \n",
       "1  369.7553  396.7618  548.9929  471.5964  471.5964  443.6218  454.8116  \n",
       "2  431.3938  401.2100  499.6643  428.7952  492.2044  512.7191  499.6643  \n",
       "3  425.0393  471.9036  438.6796  481.5740  448.9370  474.1141  426.5573  \n",
       "4  272.8495  260.1405  361.5628  275.7740  372.7527  403.5248  422.1746  \n",
       "\n",
       "[5 rows x 42 columns]"
      ]
     },
     "execution_count": 1206,
     "metadata": {},
     "output_type": "execute_result"
    }
   ],
   "source": [
    "# load pisa2012_edited\n",
    "path_data_edited='C:/Users/Davie/Desktop/Data/project_3/'\n",
    "df_pisa_edited=pd.read_csv(path_data_edited +'pisa2012_edited.csv', encoding = 'latin-1', low_memory=False, index_col=False)\n",
    "df_pisa_edited.head(5)"
   ]
  },
  {
   "cell_type": "markdown",
   "metadata": {},
   "source": [
    "1.Five plausible values in each category of subjects mathematics, reading and science, should be 3 variables (tidiness issue)\n",
    "\n",
    "2.Non-descriptive columns in df_pisa_edited data (quality issue)"
   ]
  },
  {
   "cell_type": "markdown",
   "metadata": {},
   "source": [
    "### **2. programmatic assessement**\n",
    "\n",
    "- checking data issues with (code) python methods.We use ```.sample() .shape, .describe(), .info(), .dtypes, .nunique()```"
   ]
  },
  {
   "cell_type": "code",
   "execution_count": 1207,
   "metadata": {},
   "outputs": [
    {
     "name": "stdout",
     "output_type": "stream",
     "text": [
      "<class 'pandas.core.frame.DataFrame'>\n",
      "RangeIndex: 485490 entries, 0 to 485489\n",
      "Data columns (total 42 columns):\n",
      " #   Column      Non-Null Count   Dtype  \n",
      "---  ------      --------------   -----  \n",
      " 0   Unnamed: 0  485490 non-null  int64  \n",
      " 1   CNT         485490 non-null  object \n",
      " 2   OECD        485490 non-null  object \n",
      " 3   SCHOOLID    485490 non-null  int64  \n",
      " 4   STIDSTD     485490 non-null  int64  \n",
      " 5   ST01Q01     485490 non-null  int64  \n",
      " 6   ST03Q01     485490 non-null  int64  \n",
      " 7   ST03Q02     485490 non-null  int64  \n",
      " 8   ST04Q01     485490 non-null  object \n",
      " 9   ST35Q04     315160 non-null  object \n",
      " 10  IC01Q01     296977 non-null  object \n",
      " 11  IC02Q01     296975 non-null  object \n",
      " 12  AGE         485374 non-null  float64\n",
      " 13  ANCBELONG   307640 non-null  float64\n",
      " 14  CLSMAN      312708 non-null  float64\n",
      " 15  ESCS        473648 non-null  float64\n",
      " 16  PERSEV      313172 non-null  float64\n",
      " 17  ANCATSCHL   306835 non-null  float64\n",
      " 18  FISCED      452903 non-null  object \n",
      " 19  HOMEPOS     479807 non-null  float64\n",
      " 20  HOMSCH      293194 non-null  float64\n",
      " 21  ICTSCH      297995 non-null  float64\n",
      " 22  MISCED      467085 non-null  object \n",
      " 23  ANCMTSUP    308631 non-null  float64\n",
      " 24  ANCSTUDREL  308058 non-null  float64\n",
      " 25  TEACHSUP    316371 non-null  float64\n",
      " 26  USESCH      292585 non-null  float64\n",
      " 27  PV1MATH     485490 non-null  float64\n",
      " 28  PV2MATH     485490 non-null  float64\n",
      " 29  PV3MATH     485490 non-null  float64\n",
      " 30  PV4MATH     485490 non-null  float64\n",
      " 31  PV5MATH     485490 non-null  float64\n",
      " 32  PV1READ     485490 non-null  float64\n",
      " 33  PV2READ     485490 non-null  float64\n",
      " 34  PV3READ     485490 non-null  float64\n",
      " 35  PV4READ     485490 non-null  float64\n",
      " 36  PV5READ     485490 non-null  float64\n",
      " 37  PV1SCIE     485490 non-null  float64\n",
      " 38  PV2SCIE     485490 non-null  float64\n",
      " 39  PV3SCIE     485490 non-null  float64\n",
      " 40  PV4SCIE     485490 non-null  float64\n",
      " 41  PV5SCIE     485490 non-null  float64\n",
      "dtypes: float64(28), int64(6), object(8)\n",
      "memory usage: 155.6+ MB\n"
     ]
    }
   ],
   "source": [
    "df_pisa_edited.info()"
   ]
  },
  {
   "cell_type": "markdown",
   "metadata": {},
   "source": [
    "3.Incorrect data types for SCHOOLID and STIDSTD columns, datatype is of integer. AGE is of float (quality issue)\n",
    "\n",
    "4.Columns ST01Q01 and ST03Q01 is date of birth, one variable (tidiness issue)"
   ]
  },
  {
   "cell_type": "code",
   "execution_count": 1208,
   "metadata": {},
   "outputs": [
    {
     "data": {
      "text/plain": [
       "ISCED 3A, ISCED 4    118890\n",
       "ISCED 5A, 6          113406\n",
       "ISCED 2               66728\n",
       "ISCED 5B              61617\n",
       "ISCED 3B, C           39789\n",
       "ISCED 1               35938\n",
       "None                  16535\n",
       "Name: FISCED, dtype: int64"
      ]
     },
     "execution_count": 1208,
     "metadata": {},
     "output_type": "execute_result"
    }
   ],
   "source": [
    "df_pisa_edited['FISCED'].value_counts()"
   ]
  },
  {
   "cell_type": "code",
   "execution_count": 1209,
   "metadata": {},
   "outputs": [
    {
     "data": {
      "text/plain": [
       "ISCED 3A, ISCED 4    126768\n",
       "ISCED 5A, 6          114452\n",
       "ISCED 5B              68219\n",
       "ISCED 2               66650\n",
       "ISCED 1               36556\n",
       "ISCED 3B, C           35672\n",
       "None                  18768\n",
       "Name: MISCED, dtype: int64"
      ]
     },
     "execution_count": 1209,
     "metadata": {},
     "output_type": "execute_result"
    }
   ],
   "source": [
    "df_pisa_edited['MISCED'].value_counts()"
   ]
  },
  {
   "cell_type": "markdown",
   "metadata": {},
   "source": [
    "5.'FISCED' and 'MISCED' for father education and mother education, are not valid, rename (quality issue)\n",
    "\n",
    "6.Missing values (quality issue)"
   ]
  },
  {
   "cell_type": "markdown",
   "metadata": {},
   "source": [
    "## Cleaning Data\n",
    "\n",
    "This aims to improve the quality and tidiness by correcting the inaccuracies, removing the irrelevant columns, renaming columns and replacing missing values, or droping rows with the missing values based on the assessment already done\n",
    "\n",
    "Cleaning data uses programmatic data cleaning process, in which every issue identified in the assessment section is first defined followed by codng and testing."
   ]
  },
  {
   "cell_type": "code",
   "execution_count": 1210,
   "metadata": {},
   "outputs": [],
   "source": [
    "# Make copies of original pieces of data: df_pisa_edited and pisa_dict_r\n",
    "df_pisa2012=df_pisa_edited.copy()\n",
    "pisadict2012=pisa_dict_r.copy()"
   ]
  },
  {
   "cell_type": "markdown",
   "metadata": {},
   "source": [
    "### Issue #1: Five plausible values in each category of subjects mathematics, reading and science, 3 variables"
   ]
  },
  {
   "cell_type": "markdown",
   "metadata": {},
   "source": [
    "#### Define: Average five pairs of plausible values in each category into 3 columns: score_in_maths, score_in_reading and score_in_science. "
   ]
  },
  {
   "cell_type": "markdown",
   "metadata": {},
   "source": [
    "#### Code"
   ]
  },
  {
   "cell_type": "markdown",
   "metadata": {},
   "source": [
    "Create 3 columns for the average of the plausible values, add column (total_score) for the sum of average values, and finally drop the plausible values"
   ]
  },
  {
   "cell_type": "code",
   "execution_count": 1211,
   "metadata": {},
   "outputs": [
    {
     "data": {
      "text/html": [
       "<div>\n",
       "<style scoped>\n",
       "    .dataframe tbody tr th:only-of-type {\n",
       "        vertical-align: middle;\n",
       "    }\n",
       "\n",
       "    .dataframe tbody tr th {\n",
       "        vertical-align: top;\n",
       "    }\n",
       "\n",
       "    .dataframe thead th {\n",
       "        text-align: right;\n",
       "    }\n",
       "</style>\n",
       "<table border=\"1\" class=\"dataframe\">\n",
       "  <thead>\n",
       "    <tr style=\"text-align: right;\">\n",
       "      <th></th>\n",
       "      <th>Unnamed: 0</th>\n",
       "      <th>CNT</th>\n",
       "      <th>OECD</th>\n",
       "      <th>SCHOOLID</th>\n",
       "      <th>STIDSTD</th>\n",
       "      <th>ST01Q01</th>\n",
       "      <th>ST03Q01</th>\n",
       "      <th>ST03Q02</th>\n",
       "      <th>ST04Q01</th>\n",
       "      <th>ST35Q04</th>\n",
       "      <th>...</th>\n",
       "      <th>PV4READ</th>\n",
       "      <th>PV5READ</th>\n",
       "      <th>PV1SCIE</th>\n",
       "      <th>PV2SCIE</th>\n",
       "      <th>PV3SCIE</th>\n",
       "      <th>PV4SCIE</th>\n",
       "      <th>PV5SCIE</th>\n",
       "      <th>math</th>\n",
       "      <th>reading</th>\n",
       "      <th>science</th>\n",
       "    </tr>\n",
       "  </thead>\n",
       "  <tbody>\n",
       "    <tr>\n",
       "      <th>0</th>\n",
       "      <td>0</td>\n",
       "      <td>Albania</td>\n",
       "      <td>Non-OECD</td>\n",
       "      <td>1</td>\n",
       "      <td>1</td>\n",
       "      <td>10</td>\n",
       "      <td>2</td>\n",
       "      <td>1996</td>\n",
       "      <td>Female</td>\n",
       "      <td>Agree</td>\n",
       "      <td>...</td>\n",
       "      <td>175.7053</td>\n",
       "      <td>218.5981</td>\n",
       "      <td>341.7009</td>\n",
       "      <td>408.8400</td>\n",
       "      <td>348.2283</td>\n",
       "      <td>367.8105</td>\n",
       "      <td>392.9877</td>\n",
       "      <td>366.18634</td>\n",
       "      <td>261.01424</td>\n",
       "      <td>371.91348</td>\n",
       "    </tr>\n",
       "    <tr>\n",
       "      <th>1</th>\n",
       "      <td>1</td>\n",
       "      <td>Albania</td>\n",
       "      <td>Non-OECD</td>\n",
       "      <td>1</td>\n",
       "      <td>2</td>\n",
       "      <td>10</td>\n",
       "      <td>2</td>\n",
       "      <td>1996</td>\n",
       "      <td>Female</td>\n",
       "      <td>Agree</td>\n",
       "      <td>...</td>\n",
       "      <td>369.7553</td>\n",
       "      <td>396.7618</td>\n",
       "      <td>548.9929</td>\n",
       "      <td>471.5964</td>\n",
       "      <td>471.5964</td>\n",
       "      <td>443.6218</td>\n",
       "      <td>454.8116</td>\n",
       "      <td>470.56396</td>\n",
       "      <td>384.68832</td>\n",
       "      <td>478.12382</td>\n",
       "    </tr>\n",
       "    <tr>\n",
       "      <th>2</th>\n",
       "      <td>2</td>\n",
       "      <td>Albania</td>\n",
       "      <td>Non-OECD</td>\n",
       "      <td>1</td>\n",
       "      <td>3</td>\n",
       "      <td>9</td>\n",
       "      <td>9</td>\n",
       "      <td>1996</td>\n",
       "      <td>Female</td>\n",
       "      <td>Strongly agree</td>\n",
       "      <td>...</td>\n",
       "      <td>431.3938</td>\n",
       "      <td>401.2100</td>\n",
       "      <td>499.6643</td>\n",
       "      <td>428.7952</td>\n",
       "      <td>492.2044</td>\n",
       "      <td>512.7191</td>\n",
       "      <td>499.6643</td>\n",
       "      <td>505.53824</td>\n",
       "      <td>405.18154</td>\n",
       "      <td>486.60946</td>\n",
       "    </tr>\n",
       "    <tr>\n",
       "      <th>3</th>\n",
       "      <td>3</td>\n",
       "      <td>Albania</td>\n",
       "      <td>Non-OECD</td>\n",
       "      <td>1</td>\n",
       "      <td>4</td>\n",
       "      <td>9</td>\n",
       "      <td>8</td>\n",
       "      <td>1996</td>\n",
       "      <td>Female</td>\n",
       "      <td>NaN</td>\n",
       "      <td>...</td>\n",
       "      <td>425.0393</td>\n",
       "      <td>471.9036</td>\n",
       "      <td>438.6796</td>\n",
       "      <td>481.5740</td>\n",
       "      <td>448.9370</td>\n",
       "      <td>474.1141</td>\n",
       "      <td>426.5573</td>\n",
       "      <td>449.45476</td>\n",
       "      <td>477.46376</td>\n",
       "      <td>453.97240</td>\n",
       "    </tr>\n",
       "    <tr>\n",
       "      <th>4</th>\n",
       "      <td>4</td>\n",
       "      <td>Albania</td>\n",
       "      <td>Non-OECD</td>\n",
       "      <td>1</td>\n",
       "      <td>5</td>\n",
       "      <td>9</td>\n",
       "      <td>10</td>\n",
       "      <td>1996</td>\n",
       "      <td>Female</td>\n",
       "      <td>Strongly agree</td>\n",
       "      <td>...</td>\n",
       "      <td>272.8495</td>\n",
       "      <td>260.1405</td>\n",
       "      <td>361.5628</td>\n",
       "      <td>275.7740</td>\n",
       "      <td>372.7527</td>\n",
       "      <td>403.5248</td>\n",
       "      <td>422.1746</td>\n",
       "      <td>385.50398</td>\n",
       "      <td>256.01010</td>\n",
       "      <td>367.15778</td>\n",
       "    </tr>\n",
       "  </tbody>\n",
       "</table>\n",
       "<p>5 rows × 45 columns</p>\n",
       "</div>"
      ],
      "text/plain": [
       "   Unnamed: 0      CNT      OECD  SCHOOLID  STIDSTD  ST01Q01  ST03Q01  \\\n",
       "0           0  Albania  Non-OECD         1        1       10        2   \n",
       "1           1  Albania  Non-OECD         1        2       10        2   \n",
       "2           2  Albania  Non-OECD         1        3        9        9   \n",
       "3           3  Albania  Non-OECD         1        4        9        8   \n",
       "4           4  Albania  Non-OECD         1        5        9       10   \n",
       "\n",
       "   ST03Q02 ST04Q01         ST35Q04  ...   PV4READ   PV5READ   PV1SCIE  \\\n",
       "0     1996  Female           Agree  ...  175.7053  218.5981  341.7009   \n",
       "1     1996  Female           Agree  ...  369.7553  396.7618  548.9929   \n",
       "2     1996  Female  Strongly agree  ...  431.3938  401.2100  499.6643   \n",
       "3     1996  Female             NaN  ...  425.0393  471.9036  438.6796   \n",
       "4     1996  Female  Strongly agree  ...  272.8495  260.1405  361.5628   \n",
       "\n",
       "    PV2SCIE   PV3SCIE   PV4SCIE   PV5SCIE       math    reading    science  \n",
       "0  408.8400  348.2283  367.8105  392.9877  366.18634  261.01424  371.91348  \n",
       "1  471.5964  471.5964  443.6218  454.8116  470.56396  384.68832  478.12382  \n",
       "2  428.7952  492.2044  512.7191  499.6643  505.53824  405.18154  486.60946  \n",
       "3  481.5740  448.9370  474.1141  426.5573  449.45476  477.46376  453.97240  \n",
       "4  275.7740  372.7527  403.5248  422.1746  385.50398  256.01010  367.15778  \n",
       "\n",
       "[5 rows x 45 columns]"
      ]
     },
     "execution_count": 1211,
     "metadata": {},
     "output_type": "execute_result"
    }
   ],
   "source": [
    "# plausible average for mathematics\n",
    "df_pisa2012['math']=np.average(df_pisa2012[['PV1MATH', 'PV2MATH', 'PV3MATH', 'PV4MATH', 'PV5MATH']], axis=1) \n",
    "# plausible average for reading\n",
    "df_pisa2012['reading']=np.average(df_pisa2012[['PV1READ', 'PV2READ', 'PV3READ', 'PV4READ', 'PV5READ']], axis=1)\n",
    "# plausible average for science\n",
    "df_pisa2012['science']=np.average(df_pisa2012[['PV1SCIE', 'PV2SCIE', 'PV3SCIE', 'PV4SCIE', 'PV5SCIE']], axis=1)\n",
    "df_pisa2012.head(5)"
   ]
  },
  {
   "cell_type": "code",
   "execution_count": 1212,
   "metadata": {},
   "outputs": [
    {
     "data": {
      "text/html": [
       "<div>\n",
       "<style scoped>\n",
       "    .dataframe tbody tr th:only-of-type {\n",
       "        vertical-align: middle;\n",
       "    }\n",
       "\n",
       "    .dataframe tbody tr th {\n",
       "        vertical-align: top;\n",
       "    }\n",
       "\n",
       "    .dataframe thead th {\n",
       "        text-align: right;\n",
       "    }\n",
       "</style>\n",
       "<table border=\"1\" class=\"dataframe\">\n",
       "  <thead>\n",
       "    <tr style=\"text-align: right;\">\n",
       "      <th></th>\n",
       "      <th>Unnamed: 0</th>\n",
       "      <th>CNT</th>\n",
       "      <th>OECD</th>\n",
       "      <th>SCHOOLID</th>\n",
       "      <th>STIDSTD</th>\n",
       "      <th>ST01Q01</th>\n",
       "      <th>ST03Q01</th>\n",
       "      <th>ST03Q02</th>\n",
       "      <th>ST04Q01</th>\n",
       "      <th>ST35Q04</th>\n",
       "      <th>...</th>\n",
       "      <th>PV5READ</th>\n",
       "      <th>PV1SCIE</th>\n",
       "      <th>PV2SCIE</th>\n",
       "      <th>PV3SCIE</th>\n",
       "      <th>PV4SCIE</th>\n",
       "      <th>PV5SCIE</th>\n",
       "      <th>math</th>\n",
       "      <th>reading</th>\n",
       "      <th>science</th>\n",
       "      <th>total</th>\n",
       "    </tr>\n",
       "  </thead>\n",
       "  <tbody>\n",
       "    <tr>\n",
       "      <th>0</th>\n",
       "      <td>0</td>\n",
       "      <td>Albania</td>\n",
       "      <td>Non-OECD</td>\n",
       "      <td>1</td>\n",
       "      <td>1</td>\n",
       "      <td>10</td>\n",
       "      <td>2</td>\n",
       "      <td>1996</td>\n",
       "      <td>Female</td>\n",
       "      <td>Agree</td>\n",
       "      <td>...</td>\n",
       "      <td>218.5981</td>\n",
       "      <td>341.7009</td>\n",
       "      <td>408.8400</td>\n",
       "      <td>348.2283</td>\n",
       "      <td>367.8105</td>\n",
       "      <td>392.9877</td>\n",
       "      <td>366.18634</td>\n",
       "      <td>261.01424</td>\n",
       "      <td>371.91348</td>\n",
       "      <td>999.11406</td>\n",
       "    </tr>\n",
       "    <tr>\n",
       "      <th>1</th>\n",
       "      <td>1</td>\n",
       "      <td>Albania</td>\n",
       "      <td>Non-OECD</td>\n",
       "      <td>1</td>\n",
       "      <td>2</td>\n",
       "      <td>10</td>\n",
       "      <td>2</td>\n",
       "      <td>1996</td>\n",
       "      <td>Female</td>\n",
       "      <td>Agree</td>\n",
       "      <td>...</td>\n",
       "      <td>396.7618</td>\n",
       "      <td>548.9929</td>\n",
       "      <td>471.5964</td>\n",
       "      <td>471.5964</td>\n",
       "      <td>443.6218</td>\n",
       "      <td>454.8116</td>\n",
       "      <td>470.56396</td>\n",
       "      <td>384.68832</td>\n",
       "      <td>478.12382</td>\n",
       "      <td>1333.37610</td>\n",
       "    </tr>\n",
       "    <tr>\n",
       "      <th>2</th>\n",
       "      <td>2</td>\n",
       "      <td>Albania</td>\n",
       "      <td>Non-OECD</td>\n",
       "      <td>1</td>\n",
       "      <td>3</td>\n",
       "      <td>9</td>\n",
       "      <td>9</td>\n",
       "      <td>1996</td>\n",
       "      <td>Female</td>\n",
       "      <td>Strongly agree</td>\n",
       "      <td>...</td>\n",
       "      <td>401.2100</td>\n",
       "      <td>499.6643</td>\n",
       "      <td>428.7952</td>\n",
       "      <td>492.2044</td>\n",
       "      <td>512.7191</td>\n",
       "      <td>499.6643</td>\n",
       "      <td>505.53824</td>\n",
       "      <td>405.18154</td>\n",
       "      <td>486.60946</td>\n",
       "      <td>1397.32924</td>\n",
       "    </tr>\n",
       "    <tr>\n",
       "      <th>3</th>\n",
       "      <td>3</td>\n",
       "      <td>Albania</td>\n",
       "      <td>Non-OECD</td>\n",
       "      <td>1</td>\n",
       "      <td>4</td>\n",
       "      <td>9</td>\n",
       "      <td>8</td>\n",
       "      <td>1996</td>\n",
       "      <td>Female</td>\n",
       "      <td>NaN</td>\n",
       "      <td>...</td>\n",
       "      <td>471.9036</td>\n",
       "      <td>438.6796</td>\n",
       "      <td>481.5740</td>\n",
       "      <td>448.9370</td>\n",
       "      <td>474.1141</td>\n",
       "      <td>426.5573</td>\n",
       "      <td>449.45476</td>\n",
       "      <td>477.46376</td>\n",
       "      <td>453.97240</td>\n",
       "      <td>1380.89092</td>\n",
       "    </tr>\n",
       "    <tr>\n",
       "      <th>4</th>\n",
       "      <td>4</td>\n",
       "      <td>Albania</td>\n",
       "      <td>Non-OECD</td>\n",
       "      <td>1</td>\n",
       "      <td>5</td>\n",
       "      <td>9</td>\n",
       "      <td>10</td>\n",
       "      <td>1996</td>\n",
       "      <td>Female</td>\n",
       "      <td>Strongly agree</td>\n",
       "      <td>...</td>\n",
       "      <td>260.1405</td>\n",
       "      <td>361.5628</td>\n",
       "      <td>275.7740</td>\n",
       "      <td>372.7527</td>\n",
       "      <td>403.5248</td>\n",
       "      <td>422.1746</td>\n",
       "      <td>385.50398</td>\n",
       "      <td>256.01010</td>\n",
       "      <td>367.15778</td>\n",
       "      <td>1008.67186</td>\n",
       "    </tr>\n",
       "  </tbody>\n",
       "</table>\n",
       "<p>5 rows × 46 columns</p>\n",
       "</div>"
      ],
      "text/plain": [
       "   Unnamed: 0      CNT      OECD  SCHOOLID  STIDSTD  ST01Q01  ST03Q01  \\\n",
       "0           0  Albania  Non-OECD         1        1       10        2   \n",
       "1           1  Albania  Non-OECD         1        2       10        2   \n",
       "2           2  Albania  Non-OECD         1        3        9        9   \n",
       "3           3  Albania  Non-OECD         1        4        9        8   \n",
       "4           4  Albania  Non-OECD         1        5        9       10   \n",
       "\n",
       "   ST03Q02 ST04Q01         ST35Q04  ...   PV5READ   PV1SCIE   PV2SCIE  \\\n",
       "0     1996  Female           Agree  ...  218.5981  341.7009  408.8400   \n",
       "1     1996  Female           Agree  ...  396.7618  548.9929  471.5964   \n",
       "2     1996  Female  Strongly agree  ...  401.2100  499.6643  428.7952   \n",
       "3     1996  Female             NaN  ...  471.9036  438.6796  481.5740   \n",
       "4     1996  Female  Strongly agree  ...  260.1405  361.5628  275.7740   \n",
       "\n",
       "    PV3SCIE   PV4SCIE   PV5SCIE       math    reading    science       total  \n",
       "0  348.2283  367.8105  392.9877  366.18634  261.01424  371.91348   999.11406  \n",
       "1  471.5964  443.6218  454.8116  470.56396  384.68832  478.12382  1333.37610  \n",
       "2  492.2044  512.7191  499.6643  505.53824  405.18154  486.60946  1397.32924  \n",
       "3  448.9370  474.1141  426.5573  449.45476  477.46376  453.97240  1380.89092  \n",
       "4  372.7527  403.5248  422.1746  385.50398  256.01010  367.15778  1008.67186  \n",
       "\n",
       "[5 rows x 46 columns]"
      ]
     },
     "execution_count": 1212,
     "metadata": {},
     "output_type": "execute_result"
    }
   ],
   "source": [
    "# sum of all scores in mathematics, reading and science\n",
    "df_pisa2012['total']=np.sum(df_pisa2012[['math', 'reading', 'science']], axis=1)\n",
    "df_pisa2012.head(5)"
   ]
  },
  {
   "cell_type": "code",
   "execution_count": 1213,
   "metadata": {},
   "outputs": [
    {
     "data": {
      "text/html": [
       "<div>\n",
       "<style scoped>\n",
       "    .dataframe tbody tr th:only-of-type {\n",
       "        vertical-align: middle;\n",
       "    }\n",
       "\n",
       "    .dataframe tbody tr th {\n",
       "        vertical-align: top;\n",
       "    }\n",
       "\n",
       "    .dataframe thead th {\n",
       "        text-align: right;\n",
       "    }\n",
       "</style>\n",
       "<table border=\"1\" class=\"dataframe\">\n",
       "  <thead>\n",
       "    <tr style=\"text-align: right;\">\n",
       "      <th></th>\n",
       "      <th>Unnamed: 0</th>\n",
       "      <th>CNT</th>\n",
       "      <th>OECD</th>\n",
       "      <th>SCHOOLID</th>\n",
       "      <th>STIDSTD</th>\n",
       "      <th>ST01Q01</th>\n",
       "      <th>ST03Q01</th>\n",
       "      <th>ST03Q02</th>\n",
       "      <th>ST04Q01</th>\n",
       "      <th>ST35Q04</th>\n",
       "      <th>...</th>\n",
       "      <th>HOMSCH</th>\n",
       "      <th>ICTSCH</th>\n",
       "      <th>MISCED</th>\n",
       "      <th>ANCMTSUP</th>\n",
       "      <th>ANCSTUDREL</th>\n",
       "      <th>TEACHSUP</th>\n",
       "      <th>math</th>\n",
       "      <th>reading</th>\n",
       "      <th>science</th>\n",
       "      <th>total</th>\n",
       "    </tr>\n",
       "  </thead>\n",
       "  <tbody>\n",
       "    <tr>\n",
       "      <th>0</th>\n",
       "      <td>0</td>\n",
       "      <td>Albania</td>\n",
       "      <td>Non-OECD</td>\n",
       "      <td>1</td>\n",
       "      <td>1</td>\n",
       "      <td>10</td>\n",
       "      <td>2</td>\n",
       "      <td>1996</td>\n",
       "      <td>Female</td>\n",
       "      <td>Agree</td>\n",
       "      <td>...</td>\n",
       "      <td>NaN</td>\n",
       "      <td>NaN</td>\n",
       "      <td>ISCED 3A, ISCED 4</td>\n",
       "      <td>-0.5983</td>\n",
       "      <td>-0.5901</td>\n",
       "      <td>1.68</td>\n",
       "      <td>366.18634</td>\n",
       "      <td>261.01424</td>\n",
       "      <td>371.91348</td>\n",
       "      <td>999.11406</td>\n",
       "    </tr>\n",
       "    <tr>\n",
       "      <th>1</th>\n",
       "      <td>1</td>\n",
       "      <td>Albania</td>\n",
       "      <td>Non-OECD</td>\n",
       "      <td>1</td>\n",
       "      <td>2</td>\n",
       "      <td>10</td>\n",
       "      <td>2</td>\n",
       "      <td>1996</td>\n",
       "      <td>Female</td>\n",
       "      <td>Agree</td>\n",
       "      <td>...</td>\n",
       "      <td>NaN</td>\n",
       "      <td>NaN</td>\n",
       "      <td>ISCED 5A, 6</td>\n",
       "      <td>NaN</td>\n",
       "      <td>NaN</td>\n",
       "      <td>NaN</td>\n",
       "      <td>470.56396</td>\n",
       "      <td>384.68832</td>\n",
       "      <td>478.12382</td>\n",
       "      <td>1333.37610</td>\n",
       "    </tr>\n",
       "    <tr>\n",
       "      <th>2</th>\n",
       "      <td>2</td>\n",
       "      <td>Albania</td>\n",
       "      <td>Non-OECD</td>\n",
       "      <td>1</td>\n",
       "      <td>3</td>\n",
       "      <td>9</td>\n",
       "      <td>9</td>\n",
       "      <td>1996</td>\n",
       "      <td>Female</td>\n",
       "      <td>Strongly agree</td>\n",
       "      <td>...</td>\n",
       "      <td>NaN</td>\n",
       "      <td>NaN</td>\n",
       "      <td>ISCED 5A, 6</td>\n",
       "      <td>NaN</td>\n",
       "      <td>NaN</td>\n",
       "      <td>NaN</td>\n",
       "      <td>505.53824</td>\n",
       "      <td>405.18154</td>\n",
       "      <td>486.60946</td>\n",
       "      <td>1397.32924</td>\n",
       "    </tr>\n",
       "    <tr>\n",
       "      <th>3</th>\n",
       "      <td>3</td>\n",
       "      <td>Albania</td>\n",
       "      <td>Non-OECD</td>\n",
       "      <td>1</td>\n",
       "      <td>4</td>\n",
       "      <td>9</td>\n",
       "      <td>8</td>\n",
       "      <td>1996</td>\n",
       "      <td>Female</td>\n",
       "      <td>NaN</td>\n",
       "      <td>...</td>\n",
       "      <td>NaN</td>\n",
       "      <td>NaN</td>\n",
       "      <td>ISCED 3B, C</td>\n",
       "      <td>NaN</td>\n",
       "      <td>NaN</td>\n",
       "      <td>1.68</td>\n",
       "      <td>449.45476</td>\n",
       "      <td>477.46376</td>\n",
       "      <td>453.97240</td>\n",
       "      <td>1380.89092</td>\n",
       "    </tr>\n",
       "    <tr>\n",
       "      <th>4</th>\n",
       "      <td>4</td>\n",
       "      <td>Albania</td>\n",
       "      <td>Non-OECD</td>\n",
       "      <td>1</td>\n",
       "      <td>5</td>\n",
       "      <td>9</td>\n",
       "      <td>10</td>\n",
       "      <td>1996</td>\n",
       "      <td>Female</td>\n",
       "      <td>Strongly agree</td>\n",
       "      <td>...</td>\n",
       "      <td>NaN</td>\n",
       "      <td>NaN</td>\n",
       "      <td>None</td>\n",
       "      <td>0.4052</td>\n",
       "      <td>0.2492</td>\n",
       "      <td>0.11</td>\n",
       "      <td>385.50398</td>\n",
       "      <td>256.01010</td>\n",
       "      <td>367.15778</td>\n",
       "      <td>1008.67186</td>\n",
       "    </tr>\n",
       "  </tbody>\n",
       "</table>\n",
       "<p>5 rows × 30 columns</p>\n",
       "</div>"
      ],
      "text/plain": [
       "   Unnamed: 0      CNT      OECD  SCHOOLID  STIDSTD  ST01Q01  ST03Q01  \\\n",
       "0           0  Albania  Non-OECD         1        1       10        2   \n",
       "1           1  Albania  Non-OECD         1        2       10        2   \n",
       "2           2  Albania  Non-OECD         1        3        9        9   \n",
       "3           3  Albania  Non-OECD         1        4        9        8   \n",
       "4           4  Albania  Non-OECD         1        5        9       10   \n",
       "\n",
       "   ST03Q02 ST04Q01         ST35Q04  ... HOMSCH ICTSCH             MISCED  \\\n",
       "0     1996  Female           Agree  ...    NaN    NaN  ISCED 3A, ISCED 4   \n",
       "1     1996  Female           Agree  ...    NaN    NaN        ISCED 5A, 6   \n",
       "2     1996  Female  Strongly agree  ...    NaN    NaN        ISCED 5A, 6   \n",
       "3     1996  Female             NaN  ...    NaN    NaN        ISCED 3B, C   \n",
       "4     1996  Female  Strongly agree  ...    NaN    NaN               None   \n",
       "\n",
       "   ANCMTSUP  ANCSTUDREL  TEACHSUP       math    reading    science       total  \n",
       "0   -0.5983     -0.5901      1.68  366.18634  261.01424  371.91348   999.11406  \n",
       "1       NaN         NaN       NaN  470.56396  384.68832  478.12382  1333.37610  \n",
       "2       NaN         NaN       NaN  505.53824  405.18154  486.60946  1397.32924  \n",
       "3       NaN         NaN      1.68  449.45476  477.46376  453.97240  1380.89092  \n",
       "4    0.4052      0.2492      0.11  385.50398  256.01010  367.15778  1008.67186  \n",
       "\n",
       "[5 rows x 30 columns]"
      ]
     },
     "execution_count": 1213,
     "metadata": {},
     "output_type": "execute_result"
    }
   ],
   "source": [
    "# drop the plausible column values\n",
    "pisa_df=df_pisa2012.iloc[:, np.r_[0:26, 42:46]]\n",
    "pisa_df.head(5)"
   ]
  },
  {
   "cell_type": "markdown",
   "metadata": {},
   "source": [
    "#### Test"
   ]
  },
  {
   "cell_type": "code",
   "execution_count": 1214,
   "metadata": {},
   "outputs": [
    {
     "data": {
      "text/plain": [
       "(485490, 30)"
      ]
     },
     "execution_count": 1214,
     "metadata": {},
     "output_type": "execute_result"
    }
   ],
   "source": [
    "pisa_df.shape"
   ]
  },
  {
   "cell_type": "markdown",
   "metadata": {},
   "source": [
    "### Issue #2: Non-descriptive columns in df_pisa_edited data"
   ]
  },
  {
   "cell_type": "markdown",
   "metadata": {},
   "source": [
    "#### Define: Rename the columns using the discription provided in the pisadict2012"
   ]
  },
  {
   "cell_type": "markdown",
   "metadata": {},
   "source": [
    "#### Code"
   ]
  },
  {
   "cell_type": "markdown",
   "metadata": {},
   "source": [
    "Rename columns on pisadict2012, filter the required features from the dictionary, create dictionary to for renaming columns, rename the columns"
   ]
  },
  {
   "cell_type": "code",
   "execution_count": 1215,
   "metadata": {},
   "outputs": [
    {
     "data": {
      "text/html": [
       "<div>\n",
       "<style scoped>\n",
       "    .dataframe tbody tr th:only-of-type {\n",
       "        vertical-align: middle;\n",
       "    }\n",
       "\n",
       "    .dataframe tbody tr th {\n",
       "        vertical-align: top;\n",
       "    }\n",
       "\n",
       "    .dataframe thead th {\n",
       "        text-align: right;\n",
       "    }\n",
       "</style>\n",
       "<table border=\"1\" class=\"dataframe\">\n",
       "  <thead>\n",
       "    <tr style=\"text-align: right;\">\n",
       "      <th>short_name</th>\n",
       "      <th>CNT</th>\n",
       "      <th>SUBNATIO</th>\n",
       "      <th>STRATUM</th>\n",
       "      <th>OECD</th>\n",
       "      <th>NC</th>\n",
       "      <th>SCHOOLID</th>\n",
       "      <th>STIDSTD</th>\n",
       "      <th>ST01Q01</th>\n",
       "      <th>ST02Q01</th>\n",
       "      <th>ST03Q01</th>\n",
       "      <th>...</th>\n",
       "      <th>W_FSTR75</th>\n",
       "      <th>W_FSTR76</th>\n",
       "      <th>W_FSTR77</th>\n",
       "      <th>W_FSTR78</th>\n",
       "      <th>W_FSTR79</th>\n",
       "      <th>W_FSTR80</th>\n",
       "      <th>WVARSTRR</th>\n",
       "      <th>VAR_UNIT</th>\n",
       "      <th>SENWGT_STU</th>\n",
       "      <th>VER_STU</th>\n",
       "    </tr>\n",
       "  </thead>\n",
       "  <tbody>\n",
       "    <tr>\n",
       "      <th>description</th>\n",
       "      <td>Country code 3-character</td>\n",
       "      <td>Adjudicated sub-region code 7-digit code (3-di...</td>\n",
       "      <td>Stratum ID 7-character (cnt + region ID + orig...</td>\n",
       "      <td>OECD country</td>\n",
       "      <td>National Centre 6-digit Code</td>\n",
       "      <td>School ID 7-digit (region ID + stratum ID + 3-...</td>\n",
       "      <td>Student ID</td>\n",
       "      <td>International Grade</td>\n",
       "      <td>National Study Programme</td>\n",
       "      <td>Birth - Month</td>\n",
       "      <td>...</td>\n",
       "      <td>FINAL STUDENT REPLICATE BRR-FAY WEIGHT75</td>\n",
       "      <td>FINAL STUDENT REPLICATE BRR-FAY WEIGHT76</td>\n",
       "      <td>FINAL STUDENT REPLICATE BRR-FAY WEIGHT77</td>\n",
       "      <td>FINAL STUDENT REPLICATE BRR-FAY WEIGHT78</td>\n",
       "      <td>FINAL STUDENT REPLICATE BRR-FAY WEIGHT79</td>\n",
       "      <td>FINAL STUDENT REPLICATE BRR-FAY WEIGHT80</td>\n",
       "      <td>RANDOMIZED FINAL VARIANCE STRATUM (1-80)</td>\n",
       "      <td>RANDOMLY ASSIGNED VARIANCE UNIT</td>\n",
       "      <td>Senate weight - sum of weight within the count...</td>\n",
       "      <td>Date of the database creation</td>\n",
       "    </tr>\n",
       "  </tbody>\n",
       "</table>\n",
       "<p>1 rows × 635 columns</p>\n",
       "</div>"
      ],
      "text/plain": [
       "short_name                        CNT  \\\n",
       "description  Country code 3-character   \n",
       "\n",
       "short_name                                            SUBNATIO  \\\n",
       "description  Adjudicated sub-region code 7-digit code (3-di...   \n",
       "\n",
       "short_name                                             STRATUM          OECD  \\\n",
       "description  Stratum ID 7-character (cnt + region ID + orig...  OECD country   \n",
       "\n",
       "short_name                             NC  \\\n",
       "description  National Centre 6-digit Code   \n",
       "\n",
       "short_name                                            SCHOOLID     STIDSTD  \\\n",
       "description  School ID 7-digit (region ID + stratum ID + 3-...  Student ID   \n",
       "\n",
       "short_name               ST01Q01                   ST02Q01        ST03Q01  \\\n",
       "description  International Grade  National Study Programme  Birth - Month   \n",
       "\n",
       "short_name   ...                                  W_FSTR75  \\\n",
       "description  ...  FINAL STUDENT REPLICATE BRR-FAY WEIGHT75   \n",
       "\n",
       "short_name                                   W_FSTR76  \\\n",
       "description  FINAL STUDENT REPLICATE BRR-FAY WEIGHT76   \n",
       "\n",
       "short_name                                   W_FSTR77  \\\n",
       "description  FINAL STUDENT REPLICATE BRR-FAY WEIGHT77   \n",
       "\n",
       "short_name                                   W_FSTR78  \\\n",
       "description  FINAL STUDENT REPLICATE BRR-FAY WEIGHT78   \n",
       "\n",
       "short_name                                   W_FSTR79  \\\n",
       "description  FINAL STUDENT REPLICATE BRR-FAY WEIGHT79   \n",
       "\n",
       "short_name                                   W_FSTR80  \\\n",
       "description  FINAL STUDENT REPLICATE BRR-FAY WEIGHT80   \n",
       "\n",
       "short_name                                   WVARSTRR  \\\n",
       "description  RANDOMIZED FINAL VARIANCE STRATUM (1-80)   \n",
       "\n",
       "short_name                          VAR_UNIT  \\\n",
       "description  RANDOMLY ASSIGNED VARIANCE UNIT   \n",
       "\n",
       "short_name                                          SENWGT_STU  \\\n",
       "description  Senate weight - sum of weight within the count...   \n",
       "\n",
       "short_name                         VER_STU  \n",
       "description  Date of the database creation  \n",
       "\n",
       "[1 rows x 635 columns]"
      ]
     },
     "execution_count": 1215,
     "metadata": {},
     "output_type": "execute_result"
    }
   ],
   "source": [
    "# rename columns\n",
    "pisadict2012.set_axis(['short_name', 'description'],axis=1,inplace=True)\n",
    "# transpose using short _name as index\n",
    "pisa_dict_trans=pisadict2012.set_index('short_name').T\n",
    "pisa_dict_trans"
   ]
  },
  {
   "cell_type": "code",
   "execution_count": 1216,
   "metadata": {},
   "outputs": [
    {
     "data": {
      "text/html": [
       "<div>\n",
       "<style scoped>\n",
       "    .dataframe tbody tr th:only-of-type {\n",
       "        vertical-align: middle;\n",
       "    }\n",
       "\n",
       "    .dataframe tbody tr th {\n",
       "        vertical-align: top;\n",
       "    }\n",
       "\n",
       "    .dataframe thead th {\n",
       "        text-align: right;\n",
       "    }\n",
       "</style>\n",
       "<table border=\"1\" class=\"dataframe\">\n",
       "  <thead>\n",
       "    <tr style=\"text-align: right;\">\n",
       "      <th></th>\n",
       "      <th>short_name</th>\n",
       "      <th>description</th>\n",
       "    </tr>\n",
       "  </thead>\n",
       "  <tbody>\n",
       "    <tr>\n",
       "      <th>0</th>\n",
       "      <td>CNT</td>\n",
       "      <td>Country code 3-character</td>\n",
       "    </tr>\n",
       "    <tr>\n",
       "      <th>1</th>\n",
       "      <td>OECD</td>\n",
       "      <td>OECD country</td>\n",
       "    </tr>\n",
       "    <tr>\n",
       "      <th>2</th>\n",
       "      <td>SCHOOLID</td>\n",
       "      <td>School ID 7-digit (region ID + stratum ID + 3-...</td>\n",
       "    </tr>\n",
       "    <tr>\n",
       "      <th>3</th>\n",
       "      <td>STIDSTD</td>\n",
       "      <td>Student ID</td>\n",
       "    </tr>\n",
       "    <tr>\n",
       "      <th>4</th>\n",
       "      <td>ST01Q01</td>\n",
       "      <td>International Grade</td>\n",
       "    </tr>\n",
       "    <tr>\n",
       "      <th>5</th>\n",
       "      <td>ST03Q01</td>\n",
       "      <td>Birth - Month</td>\n",
       "    </tr>\n",
       "    <tr>\n",
       "      <th>6</th>\n",
       "      <td>ST03Q02</td>\n",
       "      <td>Birth -Year</td>\n",
       "    </tr>\n",
       "    <tr>\n",
       "      <th>7</th>\n",
       "      <td>ST04Q01</td>\n",
       "      <td>Gender</td>\n",
       "    </tr>\n",
       "    <tr>\n",
       "      <th>8</th>\n",
       "      <td>ST35Q04</td>\n",
       "      <td>Subjective Norms - Parents Believe Studying Ma...</td>\n",
       "    </tr>\n",
       "    <tr>\n",
       "      <th>9</th>\n",
       "      <td>IC01Q01</td>\n",
       "      <td>At Home - Desktop Computer</td>\n",
       "    </tr>\n",
       "    <tr>\n",
       "      <th>10</th>\n",
       "      <td>IC02Q01</td>\n",
       "      <td>At school - Desktop Computer</td>\n",
       "    </tr>\n",
       "    <tr>\n",
       "      <th>11</th>\n",
       "      <td>AGE</td>\n",
       "      <td>Age of student</td>\n",
       "    </tr>\n",
       "    <tr>\n",
       "      <th>12</th>\n",
       "      <td>ANCBELONG</td>\n",
       "      <td>Sense of Belonging to School (Anchored)</td>\n",
       "    </tr>\n",
       "    <tr>\n",
       "      <th>13</th>\n",
       "      <td>CLSMAN</td>\n",
       "      <td>Mathematics Teacher's Classroom Management</td>\n",
       "    </tr>\n",
       "    <tr>\n",
       "      <th>14</th>\n",
       "      <td>ESCS</td>\n",
       "      <td>Index of economic, social and cultural status</td>\n",
       "    </tr>\n",
       "    <tr>\n",
       "      <th>15</th>\n",
       "      <td>PERSEV</td>\n",
       "      <td>Perseverance</td>\n",
       "    </tr>\n",
       "    <tr>\n",
       "      <th>16</th>\n",
       "      <td>ANCATSCHL</td>\n",
       "      <td>Attitude towards School: Learning Outcomes (An...</td>\n",
       "    </tr>\n",
       "    <tr>\n",
       "      <th>17</th>\n",
       "      <td>FISCED</td>\n",
       "      <td>Educational level of father (ISCED)</td>\n",
       "    </tr>\n",
       "    <tr>\n",
       "      <th>18</th>\n",
       "      <td>HOMEPOS</td>\n",
       "      <td>Home Possessions</td>\n",
       "    </tr>\n",
       "    <tr>\n",
       "      <th>19</th>\n",
       "      <td>HOMSCH</td>\n",
       "      <td>ICT Use at Home for School-related Tasks</td>\n",
       "    </tr>\n",
       "    <tr>\n",
       "      <th>20</th>\n",
       "      <td>ICTSCH</td>\n",
       "      <td>ICT Availability at School</td>\n",
       "    </tr>\n",
       "    <tr>\n",
       "      <th>21</th>\n",
       "      <td>MISCED</td>\n",
       "      <td>Educational level of mother (ISCED)</td>\n",
       "    </tr>\n",
       "    <tr>\n",
       "      <th>22</th>\n",
       "      <td>ANCMTSUP</td>\n",
       "      <td>Mathematics Teacher's Support (Anchored)</td>\n",
       "    </tr>\n",
       "    <tr>\n",
       "      <th>23</th>\n",
       "      <td>ANCSTUDREL</td>\n",
       "      <td>Teacher Student Relations (Anchored)</td>\n",
       "    </tr>\n",
       "    <tr>\n",
       "      <th>24</th>\n",
       "      <td>TEACHSUP</td>\n",
       "      <td>Teacher Support</td>\n",
       "    </tr>\n",
       "    <tr>\n",
       "      <th>25</th>\n",
       "      <td>USESCH</td>\n",
       "      <td>Use of ICT at School</td>\n",
       "    </tr>\n",
       "    <tr>\n",
       "      <th>26</th>\n",
       "      <td>PV1MATH</td>\n",
       "      <td>Plausible value 1 in mathematics</td>\n",
       "    </tr>\n",
       "    <tr>\n",
       "      <th>27</th>\n",
       "      <td>PV2MATH</td>\n",
       "      <td>Plausible value 2 in mathematics</td>\n",
       "    </tr>\n",
       "    <tr>\n",
       "      <th>28</th>\n",
       "      <td>PV3MATH</td>\n",
       "      <td>Plausible value 3 in mathematics</td>\n",
       "    </tr>\n",
       "    <tr>\n",
       "      <th>29</th>\n",
       "      <td>PV4MATH</td>\n",
       "      <td>Plausible value 4 in mathematics</td>\n",
       "    </tr>\n",
       "    <tr>\n",
       "      <th>30</th>\n",
       "      <td>PV5MATH</td>\n",
       "      <td>Plausible value 5 in mathematics</td>\n",
       "    </tr>\n",
       "    <tr>\n",
       "      <th>31</th>\n",
       "      <td>PV1READ</td>\n",
       "      <td>Plausible value 1 in reading</td>\n",
       "    </tr>\n",
       "    <tr>\n",
       "      <th>32</th>\n",
       "      <td>PV2READ</td>\n",
       "      <td>Plausible value 2 in reading</td>\n",
       "    </tr>\n",
       "    <tr>\n",
       "      <th>33</th>\n",
       "      <td>PV3READ</td>\n",
       "      <td>Plausible value 3 in reading</td>\n",
       "    </tr>\n",
       "    <tr>\n",
       "      <th>34</th>\n",
       "      <td>PV4READ</td>\n",
       "      <td>Plausible value 4 in reading</td>\n",
       "    </tr>\n",
       "    <tr>\n",
       "      <th>35</th>\n",
       "      <td>PV5READ</td>\n",
       "      <td>Plausible value 5 in reading</td>\n",
       "    </tr>\n",
       "    <tr>\n",
       "      <th>36</th>\n",
       "      <td>PV1SCIE</td>\n",
       "      <td>Plausible value 1 in science</td>\n",
       "    </tr>\n",
       "    <tr>\n",
       "      <th>37</th>\n",
       "      <td>PV2SCIE</td>\n",
       "      <td>Plausible value 2 in science</td>\n",
       "    </tr>\n",
       "    <tr>\n",
       "      <th>38</th>\n",
       "      <td>PV3SCIE</td>\n",
       "      <td>Plausible value 3 in science</td>\n",
       "    </tr>\n",
       "    <tr>\n",
       "      <th>39</th>\n",
       "      <td>PV4SCIE</td>\n",
       "      <td>Plausible value 4 in science</td>\n",
       "    </tr>\n",
       "    <tr>\n",
       "      <th>40</th>\n",
       "      <td>PV5SCIE</td>\n",
       "      <td>Plausible value 5 in science</td>\n",
       "    </tr>\n",
       "  </tbody>\n",
       "</table>\n",
       "</div>"
      ],
      "text/plain": [
       "    short_name                                        description\n",
       "0          CNT                           Country code 3-character\n",
       "1         OECD                                       OECD country\n",
       "2     SCHOOLID  School ID 7-digit (region ID + stratum ID + 3-...\n",
       "3      STIDSTD                                         Student ID\n",
       "4      ST01Q01                                International Grade\n",
       "5      ST03Q01                                      Birth - Month\n",
       "6      ST03Q02                                        Birth -Year\n",
       "7      ST04Q01                                             Gender\n",
       "8      ST35Q04  Subjective Norms - Parents Believe Studying Ma...\n",
       "9      IC01Q01                         At Home - Desktop Computer\n",
       "10     IC02Q01                       At school - Desktop Computer\n",
       "11         AGE                                     Age of student\n",
       "12   ANCBELONG            Sense of Belonging to School (Anchored)\n",
       "13      CLSMAN         Mathematics Teacher's Classroom Management\n",
       "14        ESCS      Index of economic, social and cultural status\n",
       "15      PERSEV                                       Perseverance\n",
       "16   ANCATSCHL  Attitude towards School: Learning Outcomes (An...\n",
       "17      FISCED                Educational level of father (ISCED)\n",
       "18     HOMEPOS                                   Home Possessions\n",
       "19      HOMSCH           ICT Use at Home for School-related Tasks\n",
       "20      ICTSCH                         ICT Availability at School\n",
       "21      MISCED                Educational level of mother (ISCED)\n",
       "22    ANCMTSUP           Mathematics Teacher's Support (Anchored)\n",
       "23  ANCSTUDREL               Teacher Student Relations (Anchored)\n",
       "24    TEACHSUP                                    Teacher Support\n",
       "25      USESCH                               Use of ICT at School\n",
       "26     PV1MATH                   Plausible value 1 in mathematics\n",
       "27     PV2MATH                   Plausible value 2 in mathematics\n",
       "28     PV3MATH                   Plausible value 3 in mathematics\n",
       "29     PV4MATH                   Plausible value 4 in mathematics\n",
       "30     PV5MATH                   Plausible value 5 in mathematics\n",
       "31     PV1READ                       Plausible value 1 in reading\n",
       "32     PV2READ                       Plausible value 2 in reading\n",
       "33     PV3READ                       Plausible value 3 in reading\n",
       "34     PV4READ                       Plausible value 4 in reading\n",
       "35     PV5READ                       Plausible value 5 in reading\n",
       "36     PV1SCIE                       Plausible value 1 in science\n",
       "37     PV2SCIE                       Plausible value 2 in science\n",
       "38     PV3SCIE                       Plausible value 3 in science\n",
       "39     PV4SCIE                       Plausible value 4 in science\n",
       "40     PV5SCIE                       Plausible value 5 in science"
      ]
     },
     "execution_count": 1216,
     "metadata": {},
     "output_type": "execute_result"
    }
   ],
   "source": [
    "# filter the required features from the dictionary\n",
    "pisa_dict_f=pisa_dict_trans.filter(required_var)\n",
    "# tranpose to two columns\n",
    "pisa_dict_filtered=pisa_dict_f.T\n",
    "# reset index\n",
    "pisa_dict_filtered=pisa_dict_filtered.reset_index(level=0) # alternative df['index']=df.index\n",
    "pisa_dict_filtered"
   ]
  },
  {
   "cell_type": "code",
   "execution_count": 1217,
   "metadata": {},
   "outputs": [
    {
     "data": {
      "text/plain": [
       "{'CNT': 'Country code 3-character',\n",
       " 'OECD': 'OECD country',\n",
       " 'SCHOOLID': 'School ID 7-digit (region ID + stratum ID + 3-digit school ID)',\n",
       " 'STIDSTD': 'Student ID',\n",
       " 'ST01Q01': 'International Grade',\n",
       " 'ST03Q01': 'Birth - Month',\n",
       " 'ST03Q02': 'Birth -Year',\n",
       " 'ST04Q01': 'Gender',\n",
       " 'ST35Q04': 'Subjective Norms - Parents Believe Studying Mathematics Is Important',\n",
       " 'IC01Q01': 'At Home - Desktop Computer',\n",
       " 'IC02Q01': 'At school - Desktop Computer',\n",
       " 'AGE': 'Age of student',\n",
       " 'ANCBELONG': 'Sense of Belonging to School (Anchored)',\n",
       " 'CLSMAN': \"Mathematics Teacher's Classroom Management\",\n",
       " 'ESCS': 'Index of economic, social and cultural status',\n",
       " 'PERSEV': 'Perseverance',\n",
       " 'ANCATSCHL': 'Attitude towards School: Learning Outcomes (Anchored)',\n",
       " 'FISCED': 'Educational level of father (ISCED)',\n",
       " 'HOMEPOS': 'Home Possessions',\n",
       " 'HOMSCH': 'ICT Use at Home for School-related Tasks',\n",
       " 'ICTSCH': 'ICT Availability at School',\n",
       " 'MISCED': 'Educational level of mother (ISCED)',\n",
       " 'ANCMTSUP': \"Mathematics Teacher's Support (Anchored)\",\n",
       " 'ANCSTUDREL': 'Teacher Student Relations (Anchored)',\n",
       " 'TEACHSUP': 'Teacher Support',\n",
       " 'USESCH': 'Use of ICT at School',\n",
       " 'PV1MATH': 'Plausible value 1 in mathematics',\n",
       " 'PV2MATH': 'Plausible value 2 in mathematics',\n",
       " 'PV3MATH': 'Plausible value 3 in mathematics',\n",
       " 'PV4MATH': 'Plausible value 4 in mathematics',\n",
       " 'PV5MATH': 'Plausible value 5 in mathematics',\n",
       " 'PV1READ': 'Plausible value 1 in reading',\n",
       " 'PV2READ': 'Plausible value 2 in reading',\n",
       " 'PV3READ': 'Plausible value 3 in reading',\n",
       " 'PV4READ': 'Plausible value 4 in reading',\n",
       " 'PV5READ': 'Plausible value 5 in reading',\n",
       " 'PV1SCIE': 'Plausible value 1 in science',\n",
       " 'PV2SCIE': 'Plausible value 2 in science',\n",
       " 'PV3SCIE': 'Plausible value 3 in science',\n",
       " 'PV4SCIE': 'Plausible value 4 in science',\n",
       " 'PV5SCIE': 'Plausible value 5 in science'}"
      ]
     },
     "execution_count": 1217,
     "metadata": {},
     "output_type": "execute_result"
    }
   ],
   "source": [
    "# create dictionary to for renaming columns\n",
    "col_rename_dict=pisa_dict_filtered.set_index('short_name')['description'].to_dict()\n",
    "col_rename_dict"
   ]
  },
  {
   "cell_type": "markdown",
   "metadata": {},
   "source": [
    "Copy the above cell and edit accordingly"
   ]
  },
  {
   "cell_type": "code",
   "execution_count": 1218,
   "metadata": {},
   "outputs": [],
   "source": [
    "# dictionary for descriptive names\n",
    "_dict={'CNT': 'country',\n",
    "       'OECD': 'oecd',\n",
    "       'SCHOOLID': 'school_id',\n",
    "       'STIDSTD': 'student_id',\n",
    "       'ST01Q01': 'international_grade',\n",
    "       'ST03Q01': 'month_of_birth',\n",
    "       'ST03Q02': 'year_of_birth', \n",
    "       'ST04Q01': 'gender',\n",
    "       'AGE': 'student_age', \n",
    "       \n",
    "       'PERSEV': 'perseverance',\n",
    "       'ANCATSCHL': 'attitude_towards_school_learning_outcomes', \n",
    "       'ANCBELONG': 'sense_of_belonging_to_school',\n",
    "       \n",
    "       'HOMEPOS': 'home_possessions', \n",
    "       'HOMSCH': 'ICT_use_at_home_for_school_tasks',\n",
    "       'IC01Q01': 'home_desktop_computer',\n",
    "       \n",
    "       'ST35Q04': 'parents_believe_maths_is_important',\n",
    "       'ESCS': 'social_economic&cultural_index_status',  \n",
    "       'FISCED': 'father_educational_level', \n",
    "       'MISCED': 'mother_educational_level',\n",
    "       \n",
    "       'IC02Q01': 'school_desktop_computer',\n",
    "       'CLSMAN': \"maths_teacher_classroom_management\",\n",
    "       'ICTSCH': 'ICT_at_school',\n",
    "       'ANCMTSUP': \"maths_teacher_support\",\n",
    "       'ANCSTUDREL': 'teacher_student_relations',\n",
    "       'TEACHSUP': 'teacher_support',\n",
    "       'USESCH': 'ICT_use_at_school',\n",
    "       \n",
    "       'math': 'score_in_mathematics',\n",
    "       'reading': 'score_in_reading',\n",
    "       'science': 'score_in_science',\n",
    "       'total':'total_score'\n",
    "      }"
   ]
  },
  {
   "cell_type": "code",
   "execution_count": 1219,
   "metadata": {},
   "outputs": [
    {
     "data": {
      "text/html": [
       "<div>\n",
       "<style scoped>\n",
       "    .dataframe tbody tr th:only-of-type {\n",
       "        vertical-align: middle;\n",
       "    }\n",
       "\n",
       "    .dataframe tbody tr th {\n",
       "        vertical-align: top;\n",
       "    }\n",
       "\n",
       "    .dataframe thead th {\n",
       "        text-align: right;\n",
       "    }\n",
       "</style>\n",
       "<table border=\"1\" class=\"dataframe\">\n",
       "  <thead>\n",
       "    <tr style=\"text-align: right;\">\n",
       "      <th></th>\n",
       "      <th>Unnamed: 0</th>\n",
       "      <th>country</th>\n",
       "      <th>oecd</th>\n",
       "      <th>school_id</th>\n",
       "      <th>student_id</th>\n",
       "      <th>international_grade</th>\n",
       "      <th>month_of_birth</th>\n",
       "      <th>year_of_birth</th>\n",
       "      <th>gender</th>\n",
       "      <th>parents_believe_maths_is_important</th>\n",
       "      <th>...</th>\n",
       "      <th>ICT_use_at_home_for_school_tasks</th>\n",
       "      <th>ICT_at_school</th>\n",
       "      <th>mother_educational_level</th>\n",
       "      <th>maths_teacher_support</th>\n",
       "      <th>teacher_student_relations</th>\n",
       "      <th>teacher_support</th>\n",
       "      <th>score_in_mathematics</th>\n",
       "      <th>score_in_reading</th>\n",
       "      <th>score_in_science</th>\n",
       "      <th>total_score</th>\n",
       "    </tr>\n",
       "  </thead>\n",
       "  <tbody>\n",
       "    <tr>\n",
       "      <th>0</th>\n",
       "      <td>0</td>\n",
       "      <td>Albania</td>\n",
       "      <td>Non-OECD</td>\n",
       "      <td>1</td>\n",
       "      <td>1</td>\n",
       "      <td>10</td>\n",
       "      <td>2</td>\n",
       "      <td>1996</td>\n",
       "      <td>Female</td>\n",
       "      <td>Agree</td>\n",
       "      <td>...</td>\n",
       "      <td>NaN</td>\n",
       "      <td>NaN</td>\n",
       "      <td>ISCED 3A, ISCED 4</td>\n",
       "      <td>-0.5983</td>\n",
       "      <td>-0.5901</td>\n",
       "      <td>1.68</td>\n",
       "      <td>366.18634</td>\n",
       "      <td>261.01424</td>\n",
       "      <td>371.91348</td>\n",
       "      <td>999.11406</td>\n",
       "    </tr>\n",
       "    <tr>\n",
       "      <th>1</th>\n",
       "      <td>1</td>\n",
       "      <td>Albania</td>\n",
       "      <td>Non-OECD</td>\n",
       "      <td>1</td>\n",
       "      <td>2</td>\n",
       "      <td>10</td>\n",
       "      <td>2</td>\n",
       "      <td>1996</td>\n",
       "      <td>Female</td>\n",
       "      <td>Agree</td>\n",
       "      <td>...</td>\n",
       "      <td>NaN</td>\n",
       "      <td>NaN</td>\n",
       "      <td>ISCED 5A, 6</td>\n",
       "      <td>NaN</td>\n",
       "      <td>NaN</td>\n",
       "      <td>NaN</td>\n",
       "      <td>470.56396</td>\n",
       "      <td>384.68832</td>\n",
       "      <td>478.12382</td>\n",
       "      <td>1333.37610</td>\n",
       "    </tr>\n",
       "    <tr>\n",
       "      <th>2</th>\n",
       "      <td>2</td>\n",
       "      <td>Albania</td>\n",
       "      <td>Non-OECD</td>\n",
       "      <td>1</td>\n",
       "      <td>3</td>\n",
       "      <td>9</td>\n",
       "      <td>9</td>\n",
       "      <td>1996</td>\n",
       "      <td>Female</td>\n",
       "      <td>Strongly agree</td>\n",
       "      <td>...</td>\n",
       "      <td>NaN</td>\n",
       "      <td>NaN</td>\n",
       "      <td>ISCED 5A, 6</td>\n",
       "      <td>NaN</td>\n",
       "      <td>NaN</td>\n",
       "      <td>NaN</td>\n",
       "      <td>505.53824</td>\n",
       "      <td>405.18154</td>\n",
       "      <td>486.60946</td>\n",
       "      <td>1397.32924</td>\n",
       "    </tr>\n",
       "    <tr>\n",
       "      <th>3</th>\n",
       "      <td>3</td>\n",
       "      <td>Albania</td>\n",
       "      <td>Non-OECD</td>\n",
       "      <td>1</td>\n",
       "      <td>4</td>\n",
       "      <td>9</td>\n",
       "      <td>8</td>\n",
       "      <td>1996</td>\n",
       "      <td>Female</td>\n",
       "      <td>NaN</td>\n",
       "      <td>...</td>\n",
       "      <td>NaN</td>\n",
       "      <td>NaN</td>\n",
       "      <td>ISCED 3B, C</td>\n",
       "      <td>NaN</td>\n",
       "      <td>NaN</td>\n",
       "      <td>1.68</td>\n",
       "      <td>449.45476</td>\n",
       "      <td>477.46376</td>\n",
       "      <td>453.97240</td>\n",
       "      <td>1380.89092</td>\n",
       "    </tr>\n",
       "    <tr>\n",
       "      <th>4</th>\n",
       "      <td>4</td>\n",
       "      <td>Albania</td>\n",
       "      <td>Non-OECD</td>\n",
       "      <td>1</td>\n",
       "      <td>5</td>\n",
       "      <td>9</td>\n",
       "      <td>10</td>\n",
       "      <td>1996</td>\n",
       "      <td>Female</td>\n",
       "      <td>Strongly agree</td>\n",
       "      <td>...</td>\n",
       "      <td>NaN</td>\n",
       "      <td>NaN</td>\n",
       "      <td>None</td>\n",
       "      <td>0.4052</td>\n",
       "      <td>0.2492</td>\n",
       "      <td>0.11</td>\n",
       "      <td>385.50398</td>\n",
       "      <td>256.01010</td>\n",
       "      <td>367.15778</td>\n",
       "      <td>1008.67186</td>\n",
       "    </tr>\n",
       "  </tbody>\n",
       "</table>\n",
       "<p>5 rows × 30 columns</p>\n",
       "</div>"
      ],
      "text/plain": [
       "   Unnamed: 0  country      oecd  school_id  student_id  international_grade  \\\n",
       "0           0  Albania  Non-OECD          1           1                   10   \n",
       "1           1  Albania  Non-OECD          1           2                   10   \n",
       "2           2  Albania  Non-OECD          1           3                    9   \n",
       "3           3  Albania  Non-OECD          1           4                    9   \n",
       "4           4  Albania  Non-OECD          1           5                    9   \n",
       "\n",
       "   month_of_birth  year_of_birth  gender parents_believe_maths_is_important  \\\n",
       "0               2           1996  Female                              Agree   \n",
       "1               2           1996  Female                              Agree   \n",
       "2               9           1996  Female                     Strongly agree   \n",
       "3               8           1996  Female                                NaN   \n",
       "4              10           1996  Female                     Strongly agree   \n",
       "\n",
       "   ... ICT_use_at_home_for_school_tasks ICT_at_school  \\\n",
       "0  ...                              NaN           NaN   \n",
       "1  ...                              NaN           NaN   \n",
       "2  ...                              NaN           NaN   \n",
       "3  ...                              NaN           NaN   \n",
       "4  ...                              NaN           NaN   \n",
       "\n",
       "   mother_educational_level  maths_teacher_support  teacher_student_relations  \\\n",
       "0         ISCED 3A, ISCED 4                -0.5983                    -0.5901   \n",
       "1               ISCED 5A, 6                    NaN                        NaN   \n",
       "2               ISCED 5A, 6                    NaN                        NaN   \n",
       "3               ISCED 3B, C                    NaN                        NaN   \n",
       "4                      None                 0.4052                     0.2492   \n",
       "\n",
       "   teacher_support  score_in_mathematics  score_in_reading score_in_science  \\\n",
       "0             1.68             366.18634         261.01424        371.91348   \n",
       "1              NaN             470.56396         384.68832        478.12382   \n",
       "2              NaN             505.53824         405.18154        486.60946   \n",
       "3             1.68             449.45476         477.46376        453.97240   \n",
       "4             0.11             385.50398         256.01010        367.15778   \n",
       "\n",
       "   total_score  \n",
       "0    999.11406  \n",
       "1   1333.37610  \n",
       "2   1397.32924  \n",
       "3   1380.89092  \n",
       "4   1008.67186  \n",
       "\n",
       "[5 rows x 30 columns]"
      ]
     },
     "execution_count": 1219,
     "metadata": {},
     "output_type": "execute_result"
    }
   ],
   "source": [
    "# rename the columns\n",
    "pisa_df=pisa_df.rename(columns=_dict)\n",
    "pisa_df.head(5)"
   ]
  },
  {
   "cell_type": "code",
   "execution_count": 1220,
   "metadata": {},
   "outputs": [],
   "source": [
    "# index columns\n",
    "values_list = list(_dict.values())\n",
    "pisa_df = pisa_df.reindex(columns=values_list)"
   ]
  },
  {
   "cell_type": "markdown",
   "metadata": {},
   "source": [
    "#### Test"
   ]
  },
  {
   "cell_type": "code",
   "execution_count": 1221,
   "metadata": {},
   "outputs": [
    {
     "data": {
      "text/plain": [
       "Index(['country', 'oecd', 'school_id', 'student_id', 'international_grade',\n",
       "       'month_of_birth', 'year_of_birth', 'gender', 'student_age',\n",
       "       'perseverance', 'attitude_towards_school_learning_outcomes',\n",
       "       'sense_of_belonging_to_school', 'home_possessions',\n",
       "       'ICT_use_at_home_for_school_tasks', 'home_desktop_computer',\n",
       "       'parents_believe_maths_is_important',\n",
       "       'social_economic&cultural_index_status', 'father_educational_level',\n",
       "       'mother_educational_level', 'school_desktop_computer',\n",
       "       'maths_teacher_classroom_management', 'ICT_at_school',\n",
       "       'maths_teacher_support', 'teacher_student_relations', 'teacher_support',\n",
       "       'ICT_use_at_school', 'score_in_mathematics', 'score_in_reading',\n",
       "       'score_in_science', 'total_score'],\n",
       "      dtype='object')"
      ]
     },
     "execution_count": 1221,
     "metadata": {},
     "output_type": "execute_result"
    }
   ],
   "source": [
    "pisa_df.columns"
   ]
  },
  {
   "cell_type": "markdown",
   "metadata": {},
   "source": [
    "### Issue #3: Incorrect data types for SCHOOLID and STIDSTD columns, datatype is of integer. AGE is of float "
   ]
  },
  {
   "cell_type": "markdown",
   "metadata": {},
   "source": [
    "#### Define: Change the data types for school_id , student_id , international_grade, month_of_birth, year_of_birth and student_age to object  "
   ]
  },
  {
   "cell_type": "markdown",
   "metadata": {},
   "source": [
    "#### Code"
   ]
  },
  {
   "cell_type": "code",
   "execution_count": 1222,
   "metadata": {},
   "outputs": [],
   "source": [
    "# columns with wrong data type (float) to be changed to string\n",
    "num_type=['school_id','student_id', 'international_grade', 'month_of_birth', 'year_of_birth', 'student_age']\n",
    "# change data type to string\n",
    "pisa_df[num_type]=pisa_df[num_type].astype(str)"
   ]
  },
  {
   "cell_type": "markdown",
   "metadata": {},
   "source": [
    "#### Test"
   ]
  },
  {
   "cell_type": "code",
   "execution_count": 1223,
   "metadata": {},
   "outputs": [
    {
     "name": "stdout",
     "output_type": "stream",
     "text": [
      "<class 'pandas.core.frame.DataFrame'>\n",
      "RangeIndex: 485490 entries, 0 to 485489\n",
      "Data columns (total 30 columns):\n",
      " #   Column                                     Non-Null Count   Dtype  \n",
      "---  ------                                     --------------   -----  \n",
      " 0   country                                    485490 non-null  object \n",
      " 1   oecd                                       485490 non-null  object \n",
      " 2   school_id                                  485490 non-null  object \n",
      " 3   student_id                                 485490 non-null  object \n",
      " 4   international_grade                        485490 non-null  object \n",
      " 5   month_of_birth                             485490 non-null  object \n",
      " 6   year_of_birth                              485490 non-null  object \n",
      " 7   gender                                     485490 non-null  object \n",
      " 8   student_age                                485490 non-null  object \n",
      " 9   perseverance                               313172 non-null  float64\n",
      " 10  attitude_towards_school_learning_outcomes  306835 non-null  float64\n",
      " 11  sense_of_belonging_to_school               307640 non-null  float64\n",
      " 12  home_possessions                           479807 non-null  float64\n",
      " 13  ICT_use_at_home_for_school_tasks           293194 non-null  float64\n",
      " 14  home_desktop_computer                      296977 non-null  object \n",
      " 15  parents_believe_maths_is_important         315160 non-null  object \n",
      " 16  social_economic&cultural_index_status      473648 non-null  float64\n",
      " 17  father_educational_level                   452903 non-null  object \n",
      " 18  mother_educational_level                   467085 non-null  object \n",
      " 19  school_desktop_computer                    296975 non-null  object \n",
      " 20  maths_teacher_classroom_management         312708 non-null  float64\n",
      " 21  ICT_at_school                              297995 non-null  float64\n",
      " 22  maths_teacher_support                      308631 non-null  float64\n",
      " 23  teacher_student_relations                  308058 non-null  float64\n",
      " 24  teacher_support                            316371 non-null  float64\n",
      " 25  ICT_use_at_school                          0 non-null       float64\n",
      " 26  score_in_mathematics                       485490 non-null  float64\n",
      " 27  score_in_reading                           485490 non-null  float64\n",
      " 28  score_in_science                           485490 non-null  float64\n",
      " 29  total_score                                485490 non-null  float64\n",
      "dtypes: float64(16), object(14)\n",
      "memory usage: 111.1+ MB\n"
     ]
    }
   ],
   "source": [
    "pisa_df.info()"
   ]
  },
  {
   "cell_type": "markdown",
   "metadata": {},
   "source": [
    "### Issue #4: Columns ST01Q01 and ST03Q01 is date of birth, one variable"
   ]
  },
  {
   "cell_type": "markdown",
   "metadata": {},
   "source": [
    "#### Define: Merge month of birth and year of birth into one column, called date of birth"
   ]
  },
  {
   "cell_type": "markdown",
   "metadata": {},
   "source": [
    "#### Code"
   ]
  },
  {
   "cell_type": "code",
   "execution_count": 1224,
   "metadata": {},
   "outputs": [],
   "source": [
    "# combine month and year of birth to date of birth\n",
    "pisa_df['date_of_birth']=pisa_df[['month_of_birth', 'year_of_birth']].agg('/'.join, axis=1)"
   ]
  },
  {
   "cell_type": "code",
   "execution_count": 1225,
   "metadata": {},
   "outputs": [],
   "source": [
    "# drop the month and year of birth columns\n",
    "pisa_df=pisa_df.iloc[:, np.r_[0:5, 7:31]]              "
   ]
  },
  {
   "cell_type": "markdown",
   "metadata": {},
   "source": [
    "#### Test"
   ]
  },
  {
   "cell_type": "code",
   "execution_count": 1226,
   "metadata": {},
   "outputs": [
    {
     "data": {
      "text/plain": [
       "Index(['country', 'oecd', 'school_id', 'student_id', 'international_grade',\n",
       "       'gender', 'student_age', 'perseverance',\n",
       "       'attitude_towards_school_learning_outcomes',\n",
       "       'sense_of_belonging_to_school', 'home_possessions',\n",
       "       'ICT_use_at_home_for_school_tasks', 'home_desktop_computer',\n",
       "       'parents_believe_maths_is_important',\n",
       "       'social_economic&cultural_index_status', 'father_educational_level',\n",
       "       'mother_educational_level', 'school_desktop_computer',\n",
       "       'maths_teacher_classroom_management', 'ICT_at_school',\n",
       "       'maths_teacher_support', 'teacher_student_relations', 'teacher_support',\n",
       "       'ICT_use_at_school', 'score_in_mathematics', 'score_in_reading',\n",
       "       'score_in_science', 'total_score', 'date_of_birth'],\n",
       "      dtype='object')"
      ]
     },
     "execution_count": 1226,
     "metadata": {},
     "output_type": "execute_result"
    }
   ],
   "source": [
    "pisa_df.columns"
   ]
  },
  {
   "cell_type": "markdown",
   "metadata": {},
   "source": [
    "### Issue #5: 'FISCED' and 'MISCED'for father education and mother education, are not valid, rename"
   ]
  },
  {
   "cell_type": "code",
   "execution_count": 1227,
   "metadata": {},
   "outputs": [
    {
     "data": {
      "text/plain": [
       "ISCED 3A, ISCED 4    118890\n",
       "ISCED 5A, 6          113406\n",
       "ISCED 2               66728\n",
       "ISCED 5B              61617\n",
       "ISCED 3B, C           39789\n",
       "ISCED 1               35938\n",
       "None                  16535\n",
       "Name: father_educational_level, dtype: int64"
      ]
     },
     "execution_count": 1227,
     "metadata": {},
     "output_type": "execute_result"
    }
   ],
   "source": [
    "# assess the eduactional level of the father\n",
    "pisa_df['father_educational_level'].value_counts()"
   ]
  },
  {
   "cell_type": "markdown",
   "metadata": {},
   "source": [
    "#### Define: Replace father education and mother education\n",
    "\n",
    "Indices on parental education were constructed by recoding educational qualifications into the following categories and provided in MISCED for mother education and FISCED for father education:\n",
    "\n",
    "(0) None\n",
    "\n",
    "(1) <ISCED level 1> (primary education)\n",
    "\n",
    "(2) <ISCED level 2> (lower secondary)\n",
    "\n",
    "(3) <ISCED level 3B or 3C> (vocational/pre-vocational upper secondary)\n",
    "\n",
    "(4) <ISCED level 3A> (general upper secondary) and/or <ISCED level 4> (non-tertiary post-secondary)\n",
    "\n",
    "(5) <ISCED level 5B> (vocational tertiary)\n",
    " \n",
    "(6) <ISCED level 5A> and/or <ISCED level 6> (theoretically oriented tertiary and post-graduate) \n",
    "\n",
    "https://www.oecd-ilibrary.org/sites/0a428b07-en/index.html?itemId=/content/component/0a428b07-en\n",
    "\n",
    "\n",
    "Replace the values as follow:\n",
    "\n",
    "\n",
    "0 None\n",
    "\n",
    "ISCED level 1 - primary education\n",
    "\n",
    "ISCED level 2 - lower secondary\n",
    "\n",
    "ISCED level 3B, C - pre-vocational/vocational upper secondary\n",
    "\n",
    "ISCED level 3A, 4 - general upper secondary/non-tertiary post-secondary\n",
    "\n",
    "ISCED level 5B - vocational tertiary\n",
    " \n",
    "ISCED level 5A, 6 -theoretically oriented tertiary/post-graduate"
   ]
  },
  {
   "cell_type": "markdown",
   "metadata": {},
   "source": [
    "#### Code"
   ]
  },
  {
   "cell_type": "code",
   "execution_count": 1228,
   "metadata": {},
   "outputs": [],
   "source": [
    "# make copy\n",
    "pisa_data_df=pisa_df.copy()\n",
    "# create function to replace educational values\n",
    "def parent_education(parent):\n",
    "    if parent=='father':\n",
    "        parent='father_educational_level'\n",
    "    if parent=='mother':\n",
    "        parent='mother_educational_level'\n",
    "    pisa_data_df.loc[(pisa_data_df[parent]== 'ISCED 1'),parent] = 'Primary Education'\n",
    "    pisa_data_df.loc[(pisa_data_df[parent]== 'ISCED 2'),parent] = 'Lower Secondary'\n",
    "    pisa_data_df.loc[(pisa_data_df[parent]== 'ISCED 3B, C'),parent] = 'Upper Secondary'\n",
    "    pisa_data_df.loc[(pisa_data_df[parent]== 'ISCED 3A, ISCED 4'),parent] = 'Post Secondary'\n",
    "    pisa_data_df.loc[(pisa_data_df[parent]== 'ISCED 5B'),parent] = 'Vocational Tertiary'\n",
    "    pisa_data_df.loc[(pisa_data_df[parent]== 'ISCED 5A, 6'),parent] = 'Post Graduate'"
   ]
  },
  {
   "cell_type": "code",
   "execution_count": 1229,
   "metadata": {},
   "outputs": [],
   "source": [
    "# rename father educational values\n",
    "parent_education('father')  "
   ]
  },
  {
   "cell_type": "code",
   "execution_count": 1230,
   "metadata": {},
   "outputs": [],
   "source": [
    "# rename mother educational values\n",
    "parent_education('mother')  "
   ]
  },
  {
   "cell_type": "code",
   "execution_count": 1231,
   "metadata": {},
   "outputs": [
    {
     "data": {
      "text/html": [
       "<div>\n",
       "<style scoped>\n",
       "    .dataframe tbody tr th:only-of-type {\n",
       "        vertical-align: middle;\n",
       "    }\n",
       "\n",
       "    .dataframe tbody tr th {\n",
       "        vertical-align: top;\n",
       "    }\n",
       "\n",
       "    .dataframe thead th {\n",
       "        text-align: right;\n",
       "    }\n",
       "</style>\n",
       "<table border=\"1\" class=\"dataframe\">\n",
       "  <thead>\n",
       "    <tr style=\"text-align: right;\">\n",
       "      <th></th>\n",
       "      <th>country</th>\n",
       "      <th>oecd</th>\n",
       "      <th>school_id</th>\n",
       "      <th>student_id</th>\n",
       "      <th>international_grade</th>\n",
       "      <th>gender</th>\n",
       "      <th>student_age</th>\n",
       "      <th>perseverance</th>\n",
       "      <th>attitude_towards_school_learning_outcomes</th>\n",
       "      <th>sense_of_belonging_to_school</th>\n",
       "      <th>...</th>\n",
       "      <th>ICT_at_school</th>\n",
       "      <th>maths_teacher_support</th>\n",
       "      <th>teacher_student_relations</th>\n",
       "      <th>teacher_support</th>\n",
       "      <th>ICT_use_at_school</th>\n",
       "      <th>score_in_mathematics</th>\n",
       "      <th>score_in_reading</th>\n",
       "      <th>score_in_science</th>\n",
       "      <th>total_score</th>\n",
       "      <th>date_of_birth</th>\n",
       "    </tr>\n",
       "  </thead>\n",
       "  <tbody>\n",
       "    <tr>\n",
       "      <th>0</th>\n",
       "      <td>Albania</td>\n",
       "      <td>Non-OECD</td>\n",
       "      <td>1</td>\n",
       "      <td>1</td>\n",
       "      <td>10</td>\n",
       "      <td>Female</td>\n",
       "      <td>16.17</td>\n",
       "      <td>-0.3407</td>\n",
       "      <td>-1.8636</td>\n",
       "      <td>-0.7351</td>\n",
       "      <td>...</td>\n",
       "      <td>NaN</td>\n",
       "      <td>-0.5983</td>\n",
       "      <td>-0.5901</td>\n",
       "      <td>1.68</td>\n",
       "      <td>NaN</td>\n",
       "      <td>366.18634</td>\n",
       "      <td>261.01424</td>\n",
       "      <td>371.91348</td>\n",
       "      <td>999.11406</td>\n",
       "      <td>2/1996</td>\n",
       "    </tr>\n",
       "    <tr>\n",
       "      <th>1</th>\n",
       "      <td>Albania</td>\n",
       "      <td>Non-OECD</td>\n",
       "      <td>1</td>\n",
       "      <td>2</td>\n",
       "      <td>10</td>\n",
       "      <td>Female</td>\n",
       "      <td>16.17</td>\n",
       "      <td>1.3116</td>\n",
       "      <td>NaN</td>\n",
       "      <td>NaN</td>\n",
       "      <td>...</td>\n",
       "      <td>NaN</td>\n",
       "      <td>NaN</td>\n",
       "      <td>NaN</td>\n",
       "      <td>NaN</td>\n",
       "      <td>NaN</td>\n",
       "      <td>470.56396</td>\n",
       "      <td>384.68832</td>\n",
       "      <td>478.12382</td>\n",
       "      <td>1333.37610</td>\n",
       "      <td>2/1996</td>\n",
       "    </tr>\n",
       "    <tr>\n",
       "      <th>2</th>\n",
       "      <td>Albania</td>\n",
       "      <td>Non-OECD</td>\n",
       "      <td>1</td>\n",
       "      <td>3</td>\n",
       "      <td>9</td>\n",
       "      <td>Female</td>\n",
       "      <td>15.58</td>\n",
       "      <td>0.9918</td>\n",
       "      <td>NaN</td>\n",
       "      <td>NaN</td>\n",
       "      <td>...</td>\n",
       "      <td>NaN</td>\n",
       "      <td>NaN</td>\n",
       "      <td>NaN</td>\n",
       "      <td>NaN</td>\n",
       "      <td>NaN</td>\n",
       "      <td>505.53824</td>\n",
       "      <td>405.18154</td>\n",
       "      <td>486.60946</td>\n",
       "      <td>1397.32924</td>\n",
       "      <td>9/1996</td>\n",
       "    </tr>\n",
       "    <tr>\n",
       "      <th>3</th>\n",
       "      <td>Albania</td>\n",
       "      <td>Non-OECD</td>\n",
       "      <td>1</td>\n",
       "      <td>4</td>\n",
       "      <td>9</td>\n",
       "      <td>Female</td>\n",
       "      <td>15.67</td>\n",
       "      <td>NaN</td>\n",
       "      <td>NaN</td>\n",
       "      <td>NaN</td>\n",
       "      <td>...</td>\n",
       "      <td>NaN</td>\n",
       "      <td>NaN</td>\n",
       "      <td>NaN</td>\n",
       "      <td>1.68</td>\n",
       "      <td>NaN</td>\n",
       "      <td>449.45476</td>\n",
       "      <td>477.46376</td>\n",
       "      <td>453.97240</td>\n",
       "      <td>1380.89092</td>\n",
       "      <td>8/1996</td>\n",
       "    </tr>\n",
       "    <tr>\n",
       "      <th>4</th>\n",
       "      <td>Albania</td>\n",
       "      <td>Non-OECD</td>\n",
       "      <td>1</td>\n",
       "      <td>5</td>\n",
       "      <td>9</td>\n",
       "      <td>Female</td>\n",
       "      <td>15.5</td>\n",
       "      <td>1.0819</td>\n",
       "      <td>0.6517</td>\n",
       "      <td>0.8675</td>\n",
       "      <td>...</td>\n",
       "      <td>NaN</td>\n",
       "      <td>0.4052</td>\n",
       "      <td>0.2492</td>\n",
       "      <td>0.11</td>\n",
       "      <td>NaN</td>\n",
       "      <td>385.50398</td>\n",
       "      <td>256.01010</td>\n",
       "      <td>367.15778</td>\n",
       "      <td>1008.67186</td>\n",
       "      <td>10/1996</td>\n",
       "    </tr>\n",
       "  </tbody>\n",
       "</table>\n",
       "<p>5 rows × 29 columns</p>\n",
       "</div>"
      ],
      "text/plain": [
       "   country      oecd school_id student_id international_grade  gender  \\\n",
       "0  Albania  Non-OECD         1          1                  10  Female   \n",
       "1  Albania  Non-OECD         1          2                  10  Female   \n",
       "2  Albania  Non-OECD         1          3                   9  Female   \n",
       "3  Albania  Non-OECD         1          4                   9  Female   \n",
       "4  Albania  Non-OECD         1          5                   9  Female   \n",
       "\n",
       "  student_age  perseverance  attitude_towards_school_learning_outcomes  \\\n",
       "0       16.17       -0.3407                                    -1.8636   \n",
       "1       16.17        1.3116                                        NaN   \n",
       "2       15.58        0.9918                                        NaN   \n",
       "3       15.67           NaN                                        NaN   \n",
       "4        15.5        1.0819                                     0.6517   \n",
       "\n",
       "   sense_of_belonging_to_school  ...  ICT_at_school  maths_teacher_support  \\\n",
       "0                       -0.7351  ...            NaN                -0.5983   \n",
       "1                           NaN  ...            NaN                    NaN   \n",
       "2                           NaN  ...            NaN                    NaN   \n",
       "3                           NaN  ...            NaN                    NaN   \n",
       "4                        0.8675  ...            NaN                 0.4052   \n",
       "\n",
       "  teacher_student_relations teacher_support  ICT_use_at_school  \\\n",
       "0                   -0.5901            1.68                NaN   \n",
       "1                       NaN             NaN                NaN   \n",
       "2                       NaN             NaN                NaN   \n",
       "3                       NaN            1.68                NaN   \n",
       "4                    0.2492            0.11                NaN   \n",
       "\n",
       "  score_in_mathematics score_in_reading score_in_science  total_score  \\\n",
       "0            366.18634        261.01424        371.91348    999.11406   \n",
       "1            470.56396        384.68832        478.12382   1333.37610   \n",
       "2            505.53824        405.18154        486.60946   1397.32924   \n",
       "3            449.45476        477.46376        453.97240   1380.89092   \n",
       "4            385.50398        256.01010        367.15778   1008.67186   \n",
       "\n",
       "   date_of_birth  \n",
       "0         2/1996  \n",
       "1         2/1996  \n",
       "2         9/1996  \n",
       "3         8/1996  \n",
       "4        10/1996  \n",
       "\n",
       "[5 rows x 29 columns]"
      ]
     },
     "execution_count": 1231,
     "metadata": {},
     "output_type": "execute_result"
    }
   ],
   "source": [
    "pisa_data_df.head(5)"
   ]
  },
  {
   "cell_type": "code",
   "execution_count": 1232,
   "metadata": {},
   "outputs": [],
   "source": [
    "# drop rows with duplicate values\n",
    "pisa_clean_df=pisa_data_df.dropna(how='all', axis=1)"
   ]
  },
  {
   "cell_type": "code",
   "execution_count": 1233,
   "metadata": {},
   "outputs": [],
   "source": [
    "groupby_cols=[\n",
    "    'country',\n",
    "    'student_id', \n",
    "     \n",
    "    'oecd', \n",
    "    'international_grade', \n",
    "    'gender',  \n",
    "    'student_age', \n",
    "    'father_educational_level',\n",
    "    'mother_educational_level', \n",
    "    'school_desktop_computer', \n",
    "    'home_desktop_computer',\n",
    "    'parents_believe_maths_is_important'\n",
    "    ] #'school_id',\n",
    "\n",
    "\n",
    "other_cols=[\n",
    "       'perseverance',\n",
    "       'attitude_towards_school_learning_outcomes',\n",
    "       'sense_of_belonging_to_school', \n",
    "       'home_possessions',\n",
    "       'ICT_use_at_home_for_school_tasks',\n",
    "\n",
    "       'social_economic&cultural_index_status', \n",
    "       'maths_teacher_classroom_management',\n",
    "       'ICT_at_school',\n",
    "\n",
    "       'maths_teacher_support', \n",
    "       'teacher_student_relations', \n",
    "       'teacher_support',\n",
    "\n",
    "       'score_in_mathematics', \n",
    "       'score_in_reading', \n",
    "       'score_in_science', \n",
    "       'total_score', \n",
    "       'date_of_birth'\n",
    "       ]"
   ]
  },
  {
   "cell_type": "code",
   "execution_count": 1234,
   "metadata": {},
   "outputs": [
    {
     "data": {
      "text/plain": [
       "'pisa_cleaned=pisa_clean_df.groupby(groupby_cols)[other_cols].mean().reset_index()\\npisa_cleaned'"
      ]
     },
     "execution_count": 1234,
     "metadata": {},
     "output_type": "execute_result"
    }
   ],
   "source": [
    "'''pisa_cleaned=pisa_clean_df.groupby(groupby_cols)[other_cols].mean().reset_index()\n",
    "pisa_cleaned'''"
   ]
  },
  {
   "cell_type": "code",
   "execution_count": 1235,
   "metadata": {},
   "outputs": [],
   "source": [
    "# Map similar countries to a single unified country name\n",
    "country_mapping = {\n",
    "    'Hong Kong-China': 'China',\n",
    "    'Macao-China': 'China',\n",
    "    'China-Shanghai': 'China',\n",
    "    'Connecticut (USA)': 'United States of America',\n",
    "    'Florida (USA)': 'United States of America',\n",
    "    'Massachusetts (USA)': 'United States of America',\n",
    "    'Perm(Russian Federation)': 'Russian Federation'\n",
    "}"
   ]
  },
  {
   "cell_type": "code",
   "execution_count": 1236,
   "metadata": {},
   "outputs": [
    {
     "data": {
      "text/html": [
       "<div>\n",
       "<style scoped>\n",
       "    .dataframe tbody tr th:only-of-type {\n",
       "        vertical-align: middle;\n",
       "    }\n",
       "\n",
       "    .dataframe tbody tr th {\n",
       "        vertical-align: top;\n",
       "    }\n",
       "\n",
       "    .dataframe thead th {\n",
       "        text-align: right;\n",
       "    }\n",
       "</style>\n",
       "<table border=\"1\" class=\"dataframe\">\n",
       "  <thead>\n",
       "    <tr style=\"text-align: right;\">\n",
       "      <th></th>\n",
       "      <th>country</th>\n",
       "      <th>oecd</th>\n",
       "      <th>school_id</th>\n",
       "      <th>student_id</th>\n",
       "      <th>international_grade</th>\n",
       "      <th>gender</th>\n",
       "      <th>student_age</th>\n",
       "      <th>perseverance</th>\n",
       "      <th>attitude_towards_school_learning_outcomes</th>\n",
       "      <th>sense_of_belonging_to_school</th>\n",
       "      <th>...</th>\n",
       "      <th>maths_teacher_classroom_management</th>\n",
       "      <th>ICT_at_school</th>\n",
       "      <th>maths_teacher_support</th>\n",
       "      <th>teacher_student_relations</th>\n",
       "      <th>teacher_support</th>\n",
       "      <th>score_in_mathematics</th>\n",
       "      <th>score_in_reading</th>\n",
       "      <th>score_in_science</th>\n",
       "      <th>total_score</th>\n",
       "      <th>date_of_birth</th>\n",
       "    </tr>\n",
       "  </thead>\n",
       "  <tbody>\n",
       "    <tr>\n",
       "      <th>0</th>\n",
       "      <td>Albania</td>\n",
       "      <td>Non-OECD</td>\n",
       "      <td>1</td>\n",
       "      <td>1</td>\n",
       "      <td>10</td>\n",
       "      <td>Female</td>\n",
       "      <td>16.17</td>\n",
       "      <td>-0.3407</td>\n",
       "      <td>-1.8636</td>\n",
       "      <td>-0.7351</td>\n",
       "      <td>...</td>\n",
       "      <td>-1.3771</td>\n",
       "      <td>NaN</td>\n",
       "      <td>-0.5983</td>\n",
       "      <td>-0.5901</td>\n",
       "      <td>1.68</td>\n",
       "      <td>366.18634</td>\n",
       "      <td>261.01424</td>\n",
       "      <td>371.91348</td>\n",
       "      <td>999.11406</td>\n",
       "      <td>2/1996</td>\n",
       "    </tr>\n",
       "    <tr>\n",
       "      <th>1</th>\n",
       "      <td>Albania</td>\n",
       "      <td>Non-OECD</td>\n",
       "      <td>1</td>\n",
       "      <td>2</td>\n",
       "      <td>10</td>\n",
       "      <td>Female</td>\n",
       "      <td>16.17</td>\n",
       "      <td>1.3116</td>\n",
       "      <td>NaN</td>\n",
       "      <td>NaN</td>\n",
       "      <td>...</td>\n",
       "      <td>NaN</td>\n",
       "      <td>NaN</td>\n",
       "      <td>NaN</td>\n",
       "      <td>NaN</td>\n",
       "      <td>NaN</td>\n",
       "      <td>470.56396</td>\n",
       "      <td>384.68832</td>\n",
       "      <td>478.12382</td>\n",
       "      <td>1333.37610</td>\n",
       "      <td>2/1996</td>\n",
       "    </tr>\n",
       "    <tr>\n",
       "      <th>2</th>\n",
       "      <td>Albania</td>\n",
       "      <td>Non-OECD</td>\n",
       "      <td>1</td>\n",
       "      <td>3</td>\n",
       "      <td>9</td>\n",
       "      <td>Female</td>\n",
       "      <td>15.58</td>\n",
       "      <td>0.9918</td>\n",
       "      <td>NaN</td>\n",
       "      <td>NaN</td>\n",
       "      <td>...</td>\n",
       "      <td>NaN</td>\n",
       "      <td>NaN</td>\n",
       "      <td>NaN</td>\n",
       "      <td>NaN</td>\n",
       "      <td>NaN</td>\n",
       "      <td>505.53824</td>\n",
       "      <td>405.18154</td>\n",
       "      <td>486.60946</td>\n",
       "      <td>1397.32924</td>\n",
       "      <td>9/1996</td>\n",
       "    </tr>\n",
       "    <tr>\n",
       "      <th>3</th>\n",
       "      <td>Albania</td>\n",
       "      <td>Non-OECD</td>\n",
       "      <td>1</td>\n",
       "      <td>4</td>\n",
       "      <td>9</td>\n",
       "      <td>Female</td>\n",
       "      <td>15.67</td>\n",
       "      <td>NaN</td>\n",
       "      <td>NaN</td>\n",
       "      <td>NaN</td>\n",
       "      <td>...</td>\n",
       "      <td>NaN</td>\n",
       "      <td>NaN</td>\n",
       "      <td>NaN</td>\n",
       "      <td>NaN</td>\n",
       "      <td>1.68</td>\n",
       "      <td>449.45476</td>\n",
       "      <td>477.46376</td>\n",
       "      <td>453.97240</td>\n",
       "      <td>1380.89092</td>\n",
       "      <td>8/1996</td>\n",
       "    </tr>\n",
       "    <tr>\n",
       "      <th>4</th>\n",
       "      <td>Albania</td>\n",
       "      <td>Non-OECD</td>\n",
       "      <td>1</td>\n",
       "      <td>5</td>\n",
       "      <td>9</td>\n",
       "      <td>Female</td>\n",
       "      <td>15.5</td>\n",
       "      <td>1.0819</td>\n",
       "      <td>0.6517</td>\n",
       "      <td>0.8675</td>\n",
       "      <td>...</td>\n",
       "      <td>-0.0784</td>\n",
       "      <td>NaN</td>\n",
       "      <td>0.4052</td>\n",
       "      <td>0.2492</td>\n",
       "      <td>0.11</td>\n",
       "      <td>385.50398</td>\n",
       "      <td>256.01010</td>\n",
       "      <td>367.15778</td>\n",
       "      <td>1008.67186</td>\n",
       "      <td>10/1996</td>\n",
       "    </tr>\n",
       "    <tr>\n",
       "      <th>...</th>\n",
       "      <td>...</td>\n",
       "      <td>...</td>\n",
       "      <td>...</td>\n",
       "      <td>...</td>\n",
       "      <td>...</td>\n",
       "      <td>...</td>\n",
       "      <td>...</td>\n",
       "      <td>...</td>\n",
       "      <td>...</td>\n",
       "      <td>...</td>\n",
       "      <td>...</td>\n",
       "      <td>...</td>\n",
       "      <td>...</td>\n",
       "      <td>...</td>\n",
       "      <td>...</td>\n",
       "      <td>...</td>\n",
       "      <td>...</td>\n",
       "      <td>...</td>\n",
       "      <td>...</td>\n",
       "      <td>...</td>\n",
       "      <td>...</td>\n",
       "    </tr>\n",
       "    <tr>\n",
       "      <th>485485</th>\n",
       "      <td>Vietnam</td>\n",
       "      <td>Non-OECD</td>\n",
       "      <td>162</td>\n",
       "      <td>4955</td>\n",
       "      <td>10</td>\n",
       "      <td>Female</td>\n",
       "      <td>15.83</td>\n",
       "      <td>0.2586</td>\n",
       "      <td>NaN</td>\n",
       "      <td>NaN</td>\n",
       "      <td>...</td>\n",
       "      <td>NaN</td>\n",
       "      <td>NaN</td>\n",
       "      <td>NaN</td>\n",
       "      <td>NaN</td>\n",
       "      <td>NaN</td>\n",
       "      <td>486.22058</td>\n",
       "      <td>472.61846</td>\n",
       "      <td>536.31110</td>\n",
       "      <td>1495.15014</td>\n",
       "      <td>6/1996</td>\n",
       "    </tr>\n",
       "    <tr>\n",
       "      <th>485486</th>\n",
       "      <td>Vietnam</td>\n",
       "      <td>Non-OECD</td>\n",
       "      <td>162</td>\n",
       "      <td>4956</td>\n",
       "      <td>10</td>\n",
       "      <td>Male</td>\n",
       "      <td>16.17</td>\n",
       "      <td>-0.3407</td>\n",
       "      <td>0.1565</td>\n",
       "      <td>-0.0611</td>\n",
       "      <td>...</td>\n",
       "      <td>-0.0784</td>\n",
       "      <td>NaN</td>\n",
       "      <td>0.5831</td>\n",
       "      <td>-0.1113</td>\n",
       "      <td>0.11</td>\n",
       "      <td>529.21794</td>\n",
       "      <td>487.24356</td>\n",
       "      <td>524.37522</td>\n",
       "      <td>1540.83672</td>\n",
       "      <td>2/1996</td>\n",
       "    </tr>\n",
       "    <tr>\n",
       "      <th>485487</th>\n",
       "      <td>Vietnam</td>\n",
       "      <td>Non-OECD</td>\n",
       "      <td>162</td>\n",
       "      <td>4957</td>\n",
       "      <td>10</td>\n",
       "      <td>Male</td>\n",
       "      <td>15.83</td>\n",
       "      <td>0.4795</td>\n",
       "      <td>-0.3395</td>\n",
       "      <td>-0.1489</td>\n",
       "      <td>...</td>\n",
       "      <td>-0.0784</td>\n",
       "      <td>NaN</td>\n",
       "      <td>-0.1687</td>\n",
       "      <td>-0.2217</td>\n",
       "      <td>-0.09</td>\n",
       "      <td>486.29850</td>\n",
       "      <td>476.25694</td>\n",
       "      <td>541.90600</td>\n",
       "      <td>1504.46144</td>\n",
       "      <td>6/1996</td>\n",
       "    </tr>\n",
       "    <tr>\n",
       "      <th>485488</th>\n",
       "      <td>Vietnam</td>\n",
       "      <td>Non-OECD</td>\n",
       "      <td>162</td>\n",
       "      <td>4958</td>\n",
       "      <td>10</td>\n",
       "      <td>Male</td>\n",
       "      <td>15.83</td>\n",
       "      <td>NaN</td>\n",
       "      <td>0.2818</td>\n",
       "      <td>0.1992</td>\n",
       "      <td>...</td>\n",
       "      <td>0.3255</td>\n",
       "      <td>NaN</td>\n",
       "      <td>0.2669</td>\n",
       "      <td>0.2492</td>\n",
       "      <td>-0.09</td>\n",
       "      <td>522.90856</td>\n",
       "      <td>518.43922</td>\n",
       "      <td>526.70646</td>\n",
       "      <td>1568.05424</td>\n",
       "      <td>6/1996</td>\n",
       "    </tr>\n",
       "    <tr>\n",
       "      <th>485489</th>\n",
       "      <td>Vietnam</td>\n",
       "      <td>Non-OECD</td>\n",
       "      <td>162</td>\n",
       "      <td>4959</td>\n",
       "      <td>10</td>\n",
       "      <td>Female</td>\n",
       "      <td>15.33</td>\n",
       "      <td>-0.7236</td>\n",
       "      <td>NaN</td>\n",
       "      <td>NaN</td>\n",
       "      <td>...</td>\n",
       "      <td>NaN</td>\n",
       "      <td>NaN</td>\n",
       "      <td>NaN</td>\n",
       "      <td>NaN</td>\n",
       "      <td>NaN</td>\n",
       "      <td>454.43994</td>\n",
       "      <td>488.66354</td>\n",
       "      <td>492.95038</td>\n",
       "      <td>1436.05386</td>\n",
       "      <td>12/1996</td>\n",
       "    </tr>\n",
       "  </tbody>\n",
       "</table>\n",
       "<p>485490 rows × 28 columns</p>\n",
       "</div>"
      ],
      "text/plain": [
       "        country      oecd school_id student_id international_grade  gender  \\\n",
       "0       Albania  Non-OECD         1          1                  10  Female   \n",
       "1       Albania  Non-OECD         1          2                  10  Female   \n",
       "2       Albania  Non-OECD         1          3                   9  Female   \n",
       "3       Albania  Non-OECD         1          4                   9  Female   \n",
       "4       Albania  Non-OECD         1          5                   9  Female   \n",
       "...         ...       ...       ...        ...                 ...     ...   \n",
       "485485  Vietnam  Non-OECD       162       4955                  10  Female   \n",
       "485486  Vietnam  Non-OECD       162       4956                  10    Male   \n",
       "485487  Vietnam  Non-OECD       162       4957                  10    Male   \n",
       "485488  Vietnam  Non-OECD       162       4958                  10    Male   \n",
       "485489  Vietnam  Non-OECD       162       4959                  10  Female   \n",
       "\n",
       "       student_age  perseverance  attitude_towards_school_learning_outcomes  \\\n",
       "0            16.17       -0.3407                                    -1.8636   \n",
       "1            16.17        1.3116                                        NaN   \n",
       "2            15.58        0.9918                                        NaN   \n",
       "3            15.67           NaN                                        NaN   \n",
       "4             15.5        1.0819                                     0.6517   \n",
       "...            ...           ...                                        ...   \n",
       "485485       15.83        0.2586                                        NaN   \n",
       "485486       16.17       -0.3407                                     0.1565   \n",
       "485487       15.83        0.4795                                    -0.3395   \n",
       "485488       15.83           NaN                                     0.2818   \n",
       "485489       15.33       -0.7236                                        NaN   \n",
       "\n",
       "        sense_of_belonging_to_school  ...  maths_teacher_classroom_management  \\\n",
       "0                            -0.7351  ...                             -1.3771   \n",
       "1                                NaN  ...                                 NaN   \n",
       "2                                NaN  ...                                 NaN   \n",
       "3                                NaN  ...                                 NaN   \n",
       "4                             0.8675  ...                             -0.0784   \n",
       "...                              ...  ...                                 ...   \n",
       "485485                           NaN  ...                                 NaN   \n",
       "485486                       -0.0611  ...                             -0.0784   \n",
       "485487                       -0.1489  ...                             -0.0784   \n",
       "485488                        0.1992  ...                              0.3255   \n",
       "485489                           NaN  ...                                 NaN   \n",
       "\n",
       "        ICT_at_school maths_teacher_support teacher_student_relations  \\\n",
       "0                 NaN               -0.5983                   -0.5901   \n",
       "1                 NaN                   NaN                       NaN   \n",
       "2                 NaN                   NaN                       NaN   \n",
       "3                 NaN                   NaN                       NaN   \n",
       "4                 NaN                0.4052                    0.2492   \n",
       "...               ...                   ...                       ...   \n",
       "485485            NaN                   NaN                       NaN   \n",
       "485486            NaN                0.5831                   -0.1113   \n",
       "485487            NaN               -0.1687                   -0.2217   \n",
       "485488            NaN                0.2669                    0.2492   \n",
       "485489            NaN                   NaN                       NaN   \n",
       "\n",
       "        teacher_support score_in_mathematics score_in_reading  \\\n",
       "0                  1.68            366.18634        261.01424   \n",
       "1                   NaN            470.56396        384.68832   \n",
       "2                   NaN            505.53824        405.18154   \n",
       "3                  1.68            449.45476        477.46376   \n",
       "4                  0.11            385.50398        256.01010   \n",
       "...                 ...                  ...              ...   \n",
       "485485              NaN            486.22058        472.61846   \n",
       "485486             0.11            529.21794        487.24356   \n",
       "485487            -0.09            486.29850        476.25694   \n",
       "485488            -0.09            522.90856        518.43922   \n",
       "485489              NaN            454.43994        488.66354   \n",
       "\n",
       "       score_in_science  total_score  date_of_birth  \n",
       "0             371.91348    999.11406         2/1996  \n",
       "1             478.12382   1333.37610         2/1996  \n",
       "2             486.60946   1397.32924         9/1996  \n",
       "3             453.97240   1380.89092         8/1996  \n",
       "4             367.15778   1008.67186        10/1996  \n",
       "...                 ...          ...            ...  \n",
       "485485        536.31110   1495.15014         6/1996  \n",
       "485486        524.37522   1540.83672         2/1996  \n",
       "485487        541.90600   1504.46144         6/1996  \n",
       "485488        526.70646   1568.05424         6/1996  \n",
       "485489        492.95038   1436.05386        12/1996  \n",
       "\n",
       "[485490 rows x 28 columns]"
      ]
     },
     "execution_count": 1236,
     "metadata": {},
     "output_type": "execute_result"
    }
   ],
   "source": [
    "pisa_clean_map = pisa_clean_df.copy()\n",
    "# Apply mapping to the 'country' column\n",
    "pisa_clean_map['country'] = pisa_clean_map['country'].replace(country_mapping)\n",
    "pisa_clean_map"
   ]
  },
  {
   "cell_type": "code",
   "execution_count": 1237,
   "metadata": {},
   "outputs": [
    {
     "data": {
      "text/plain": [
       "Index(['Mexico', 'Italy', 'Spain', 'Canada', 'Brazil', 'China', 'Australia',\n",
       "       'United Kingdom', 'United Arab Emirates', 'Switzerland', 'Qatar',\n",
       "       'United States of America', 'Colombia', 'Finland', 'Belgium', 'Denmark',\n",
       "       'Jordan', 'Russian Federation', 'Chile', 'Thailand', 'Japan',\n",
       "       'Chinese Taipei', 'Peru', 'Slovenia', 'Argentina', 'Kazakhstan',\n",
       "       'Portugal', 'Indonesia', 'Singapore', 'Czech Republic', 'Uruguay',\n",
       "       'Bulgaria', 'Luxembourg', 'Malaysia', 'Greece', 'Romania', 'Israel',\n",
       "       'Korea', 'Ireland', 'Croatia', 'Germany', 'Vietnam', 'Turkey',\n",
       "       'Hungary', 'Estonia', 'Austria', 'Montenegro', 'Albania', 'Sweden',\n",
       "       'Norway', 'Serbia', 'Slovak Republic', 'Lithuania', 'France', 'Poland',\n",
       "       'Costa Rica', 'Netherlands', 'Tunisia', 'Latvia', 'New Zealand',\n",
       "       'Iceland', 'Liechtenstein'],\n",
       "      dtype='object')"
      ]
     },
     "execution_count": 1237,
     "metadata": {},
     "output_type": "execute_result"
    }
   ],
   "source": [
    "pisa_clean_map['country'].value_counts().index"
   ]
  },
  {
   "cell_type": "code",
   "execution_count": 1238,
   "metadata": {},
   "outputs": [],
   "source": [
    "pisa_cleaned=pisa_clean_map.copy()\n",
    "# save pisa_df as pisa_clean.csv\n",
    "pisa_cleaned.reset_index().to_csv('pisa_clean.csv', index=False)"
   ]
  },
  {
   "cell_type": "markdown",
   "metadata": {},
   "source": [
    "#### Test"
   ]
  },
  {
   "cell_type": "code",
   "execution_count": 1239,
   "metadata": {},
   "outputs": [
    {
     "data": {
      "text/plain": [
       "ISCED 3A, ISCED 4    118890\n",
       "ISCED 5A, 6          113406\n",
       "ISCED 2               66728\n",
       "ISCED 5B              61617\n",
       "ISCED 3B, C           39789\n",
       "ISCED 1               35938\n",
       "None                  16535\n",
       "Name: father_educational_level, dtype: int64"
      ]
     },
     "execution_count": 1239,
     "metadata": {},
     "output_type": "execute_result"
    }
   ],
   "source": [
    "pisa_df['father_educational_level'].value_counts()"
   ]
  },
  {
   "cell_type": "code",
   "execution_count": 1240,
   "metadata": {},
   "outputs": [
    {
     "data": {
      "text/plain": [
       "ISCED 3A, ISCED 4    126768\n",
       "ISCED 5A, 6          114452\n",
       "ISCED 5B              68219\n",
       "ISCED 2               66650\n",
       "ISCED 1               36556\n",
       "ISCED 3B, C           35672\n",
       "None                  18768\n",
       "Name: mother_educational_level, dtype: int64"
      ]
     },
     "execution_count": 1240,
     "metadata": {},
     "output_type": "execute_result"
    }
   ],
   "source": [
    "pisa_df['mother_educational_level'].value_counts()"
   ]
  },
  {
   "cell_type": "code",
   "execution_count": 1241,
   "metadata": {},
   "outputs": [
    {
     "data": {
      "text/html": [
       "<div>\n",
       "<style scoped>\n",
       "    .dataframe tbody tr th:only-of-type {\n",
       "        vertical-align: middle;\n",
       "    }\n",
       "\n",
       "    .dataframe tbody tr th {\n",
       "        vertical-align: top;\n",
       "    }\n",
       "\n",
       "    .dataframe thead th {\n",
       "        text-align: right;\n",
       "    }\n",
       "</style>\n",
       "<table border=\"1\" class=\"dataframe\">\n",
       "  <thead>\n",
       "    <tr style=\"text-align: right;\">\n",
       "      <th></th>\n",
       "      <th>index</th>\n",
       "      <th>country</th>\n",
       "      <th>oecd</th>\n",
       "      <th>school_id</th>\n",
       "      <th>student_id</th>\n",
       "      <th>international_grade</th>\n",
       "      <th>gender</th>\n",
       "      <th>student_age</th>\n",
       "      <th>perseverance</th>\n",
       "      <th>attitude_towards_school_learning_outcomes</th>\n",
       "      <th>...</th>\n",
       "      <th>maths_teacher_classroom_management</th>\n",
       "      <th>ICT_at_school</th>\n",
       "      <th>maths_teacher_support</th>\n",
       "      <th>teacher_student_relations</th>\n",
       "      <th>teacher_support</th>\n",
       "      <th>score_in_mathematics</th>\n",
       "      <th>score_in_reading</th>\n",
       "      <th>score_in_science</th>\n",
       "      <th>total_score</th>\n",
       "      <th>date_of_birth</th>\n",
       "    </tr>\n",
       "  </thead>\n",
       "  <tbody>\n",
       "    <tr>\n",
       "      <th>0</th>\n",
       "      <td>0</td>\n",
       "      <td>Albania</td>\n",
       "      <td>Non-OECD</td>\n",
       "      <td>1</td>\n",
       "      <td>1</td>\n",
       "      <td>10</td>\n",
       "      <td>Female</td>\n",
       "      <td>16.17</td>\n",
       "      <td>-0.3407</td>\n",
       "      <td>-1.8636</td>\n",
       "      <td>...</td>\n",
       "      <td>-1.3771</td>\n",
       "      <td>NaN</td>\n",
       "      <td>-0.5983</td>\n",
       "      <td>-0.5901</td>\n",
       "      <td>1.68</td>\n",
       "      <td>366.18634</td>\n",
       "      <td>261.01424</td>\n",
       "      <td>371.91348</td>\n",
       "      <td>999.11406</td>\n",
       "      <td>2/1996</td>\n",
       "    </tr>\n",
       "    <tr>\n",
       "      <th>1</th>\n",
       "      <td>1</td>\n",
       "      <td>Albania</td>\n",
       "      <td>Non-OECD</td>\n",
       "      <td>1</td>\n",
       "      <td>2</td>\n",
       "      <td>10</td>\n",
       "      <td>Female</td>\n",
       "      <td>16.17</td>\n",
       "      <td>1.3116</td>\n",
       "      <td>NaN</td>\n",
       "      <td>...</td>\n",
       "      <td>NaN</td>\n",
       "      <td>NaN</td>\n",
       "      <td>NaN</td>\n",
       "      <td>NaN</td>\n",
       "      <td>NaN</td>\n",
       "      <td>470.56396</td>\n",
       "      <td>384.68832</td>\n",
       "      <td>478.12382</td>\n",
       "      <td>1333.37610</td>\n",
       "      <td>2/1996</td>\n",
       "    </tr>\n",
       "    <tr>\n",
       "      <th>2</th>\n",
       "      <td>2</td>\n",
       "      <td>Albania</td>\n",
       "      <td>Non-OECD</td>\n",
       "      <td>1</td>\n",
       "      <td>3</td>\n",
       "      <td>9</td>\n",
       "      <td>Female</td>\n",
       "      <td>15.58</td>\n",
       "      <td>0.9918</td>\n",
       "      <td>NaN</td>\n",
       "      <td>...</td>\n",
       "      <td>NaN</td>\n",
       "      <td>NaN</td>\n",
       "      <td>NaN</td>\n",
       "      <td>NaN</td>\n",
       "      <td>NaN</td>\n",
       "      <td>505.53824</td>\n",
       "      <td>405.18154</td>\n",
       "      <td>486.60946</td>\n",
       "      <td>1397.32924</td>\n",
       "      <td>9/1996</td>\n",
       "    </tr>\n",
       "    <tr>\n",
       "      <th>3</th>\n",
       "      <td>3</td>\n",
       "      <td>Albania</td>\n",
       "      <td>Non-OECD</td>\n",
       "      <td>1</td>\n",
       "      <td>4</td>\n",
       "      <td>9</td>\n",
       "      <td>Female</td>\n",
       "      <td>15.67</td>\n",
       "      <td>NaN</td>\n",
       "      <td>NaN</td>\n",
       "      <td>...</td>\n",
       "      <td>NaN</td>\n",
       "      <td>NaN</td>\n",
       "      <td>NaN</td>\n",
       "      <td>NaN</td>\n",
       "      <td>1.68</td>\n",
       "      <td>449.45476</td>\n",
       "      <td>477.46376</td>\n",
       "      <td>453.97240</td>\n",
       "      <td>1380.89092</td>\n",
       "      <td>8/1996</td>\n",
       "    </tr>\n",
       "    <tr>\n",
       "      <th>4</th>\n",
       "      <td>4</td>\n",
       "      <td>Albania</td>\n",
       "      <td>Non-OECD</td>\n",
       "      <td>1</td>\n",
       "      <td>5</td>\n",
       "      <td>9</td>\n",
       "      <td>Female</td>\n",
       "      <td>15.50</td>\n",
       "      <td>1.0819</td>\n",
       "      <td>0.6517</td>\n",
       "      <td>...</td>\n",
       "      <td>-0.0784</td>\n",
       "      <td>NaN</td>\n",
       "      <td>0.4052</td>\n",
       "      <td>0.2492</td>\n",
       "      <td>0.11</td>\n",
       "      <td>385.50398</td>\n",
       "      <td>256.01010</td>\n",
       "      <td>367.15778</td>\n",
       "      <td>1008.67186</td>\n",
       "      <td>10/1996</td>\n",
       "    </tr>\n",
       "    <tr>\n",
       "      <th>...</th>\n",
       "      <td>...</td>\n",
       "      <td>...</td>\n",
       "      <td>...</td>\n",
       "      <td>...</td>\n",
       "      <td>...</td>\n",
       "      <td>...</td>\n",
       "      <td>...</td>\n",
       "      <td>...</td>\n",
       "      <td>...</td>\n",
       "      <td>...</td>\n",
       "      <td>...</td>\n",
       "      <td>...</td>\n",
       "      <td>...</td>\n",
       "      <td>...</td>\n",
       "      <td>...</td>\n",
       "      <td>...</td>\n",
       "      <td>...</td>\n",
       "      <td>...</td>\n",
       "      <td>...</td>\n",
       "      <td>...</td>\n",
       "      <td>...</td>\n",
       "    </tr>\n",
       "    <tr>\n",
       "      <th>485485</th>\n",
       "      <td>485485</td>\n",
       "      <td>Vietnam</td>\n",
       "      <td>Non-OECD</td>\n",
       "      <td>162</td>\n",
       "      <td>4955</td>\n",
       "      <td>10</td>\n",
       "      <td>Female</td>\n",
       "      <td>15.83</td>\n",
       "      <td>0.2586</td>\n",
       "      <td>NaN</td>\n",
       "      <td>...</td>\n",
       "      <td>NaN</td>\n",
       "      <td>NaN</td>\n",
       "      <td>NaN</td>\n",
       "      <td>NaN</td>\n",
       "      <td>NaN</td>\n",
       "      <td>486.22058</td>\n",
       "      <td>472.61846</td>\n",
       "      <td>536.31110</td>\n",
       "      <td>1495.15014</td>\n",
       "      <td>6/1996</td>\n",
       "    </tr>\n",
       "    <tr>\n",
       "      <th>485486</th>\n",
       "      <td>485486</td>\n",
       "      <td>Vietnam</td>\n",
       "      <td>Non-OECD</td>\n",
       "      <td>162</td>\n",
       "      <td>4956</td>\n",
       "      <td>10</td>\n",
       "      <td>Male</td>\n",
       "      <td>16.17</td>\n",
       "      <td>-0.3407</td>\n",
       "      <td>0.1565</td>\n",
       "      <td>...</td>\n",
       "      <td>-0.0784</td>\n",
       "      <td>NaN</td>\n",
       "      <td>0.5831</td>\n",
       "      <td>-0.1113</td>\n",
       "      <td>0.11</td>\n",
       "      <td>529.21794</td>\n",
       "      <td>487.24356</td>\n",
       "      <td>524.37522</td>\n",
       "      <td>1540.83672</td>\n",
       "      <td>2/1996</td>\n",
       "    </tr>\n",
       "    <tr>\n",
       "      <th>485487</th>\n",
       "      <td>485487</td>\n",
       "      <td>Vietnam</td>\n",
       "      <td>Non-OECD</td>\n",
       "      <td>162</td>\n",
       "      <td>4957</td>\n",
       "      <td>10</td>\n",
       "      <td>Male</td>\n",
       "      <td>15.83</td>\n",
       "      <td>0.4795</td>\n",
       "      <td>-0.3395</td>\n",
       "      <td>...</td>\n",
       "      <td>-0.0784</td>\n",
       "      <td>NaN</td>\n",
       "      <td>-0.1687</td>\n",
       "      <td>-0.2217</td>\n",
       "      <td>-0.09</td>\n",
       "      <td>486.29850</td>\n",
       "      <td>476.25694</td>\n",
       "      <td>541.90600</td>\n",
       "      <td>1504.46144</td>\n",
       "      <td>6/1996</td>\n",
       "    </tr>\n",
       "    <tr>\n",
       "      <th>485488</th>\n",
       "      <td>485488</td>\n",
       "      <td>Vietnam</td>\n",
       "      <td>Non-OECD</td>\n",
       "      <td>162</td>\n",
       "      <td>4958</td>\n",
       "      <td>10</td>\n",
       "      <td>Male</td>\n",
       "      <td>15.83</td>\n",
       "      <td>NaN</td>\n",
       "      <td>0.2818</td>\n",
       "      <td>...</td>\n",
       "      <td>0.3255</td>\n",
       "      <td>NaN</td>\n",
       "      <td>0.2669</td>\n",
       "      <td>0.2492</td>\n",
       "      <td>-0.09</td>\n",
       "      <td>522.90856</td>\n",
       "      <td>518.43922</td>\n",
       "      <td>526.70646</td>\n",
       "      <td>1568.05424</td>\n",
       "      <td>6/1996</td>\n",
       "    </tr>\n",
       "    <tr>\n",
       "      <th>485489</th>\n",
       "      <td>485489</td>\n",
       "      <td>Vietnam</td>\n",
       "      <td>Non-OECD</td>\n",
       "      <td>162</td>\n",
       "      <td>4959</td>\n",
       "      <td>10</td>\n",
       "      <td>Female</td>\n",
       "      <td>15.33</td>\n",
       "      <td>-0.7236</td>\n",
       "      <td>NaN</td>\n",
       "      <td>...</td>\n",
       "      <td>NaN</td>\n",
       "      <td>NaN</td>\n",
       "      <td>NaN</td>\n",
       "      <td>NaN</td>\n",
       "      <td>NaN</td>\n",
       "      <td>454.43994</td>\n",
       "      <td>488.66354</td>\n",
       "      <td>492.95038</td>\n",
       "      <td>1436.05386</td>\n",
       "      <td>12/1996</td>\n",
       "    </tr>\n",
       "  </tbody>\n",
       "</table>\n",
       "<p>485490 rows × 29 columns</p>\n",
       "</div>"
      ],
      "text/plain": [
       "         index  country      oecd  school_id  student_id  international_grade  \\\n",
       "0            0  Albania  Non-OECD          1           1                   10   \n",
       "1            1  Albania  Non-OECD          1           2                   10   \n",
       "2            2  Albania  Non-OECD          1           3                    9   \n",
       "3            3  Albania  Non-OECD          1           4                    9   \n",
       "4            4  Albania  Non-OECD          1           5                    9   \n",
       "...        ...      ...       ...        ...         ...                  ...   \n",
       "485485  485485  Vietnam  Non-OECD        162        4955                   10   \n",
       "485486  485486  Vietnam  Non-OECD        162        4956                   10   \n",
       "485487  485487  Vietnam  Non-OECD        162        4957                   10   \n",
       "485488  485488  Vietnam  Non-OECD        162        4958                   10   \n",
       "485489  485489  Vietnam  Non-OECD        162        4959                   10   \n",
       "\n",
       "        gender  student_age  perseverance  \\\n",
       "0       Female        16.17       -0.3407   \n",
       "1       Female        16.17        1.3116   \n",
       "2       Female        15.58        0.9918   \n",
       "3       Female        15.67           NaN   \n",
       "4       Female        15.50        1.0819   \n",
       "...        ...          ...           ...   \n",
       "485485  Female        15.83        0.2586   \n",
       "485486    Male        16.17       -0.3407   \n",
       "485487    Male        15.83        0.4795   \n",
       "485488    Male        15.83           NaN   \n",
       "485489  Female        15.33       -0.7236   \n",
       "\n",
       "        attitude_towards_school_learning_outcomes  ...  \\\n",
       "0                                         -1.8636  ...   \n",
       "1                                             NaN  ...   \n",
       "2                                             NaN  ...   \n",
       "3                                             NaN  ...   \n",
       "4                                          0.6517  ...   \n",
       "...                                           ...  ...   \n",
       "485485                                        NaN  ...   \n",
       "485486                                     0.1565  ...   \n",
       "485487                                    -0.3395  ...   \n",
       "485488                                     0.2818  ...   \n",
       "485489                                        NaN  ...   \n",
       "\n",
       "        maths_teacher_classroom_management  ICT_at_school  \\\n",
       "0                                  -1.3771            NaN   \n",
       "1                                      NaN            NaN   \n",
       "2                                      NaN            NaN   \n",
       "3                                      NaN            NaN   \n",
       "4                                  -0.0784            NaN   \n",
       "...                                    ...            ...   \n",
       "485485                                 NaN            NaN   \n",
       "485486                             -0.0784            NaN   \n",
       "485487                             -0.0784            NaN   \n",
       "485488                              0.3255            NaN   \n",
       "485489                                 NaN            NaN   \n",
       "\n",
       "        maths_teacher_support teacher_student_relations teacher_support  \\\n",
       "0                     -0.5983                   -0.5901            1.68   \n",
       "1                         NaN                       NaN             NaN   \n",
       "2                         NaN                       NaN             NaN   \n",
       "3                         NaN                       NaN            1.68   \n",
       "4                      0.4052                    0.2492            0.11   \n",
       "...                       ...                       ...             ...   \n",
       "485485                    NaN                       NaN             NaN   \n",
       "485486                 0.5831                   -0.1113            0.11   \n",
       "485487                -0.1687                   -0.2217           -0.09   \n",
       "485488                 0.2669                    0.2492           -0.09   \n",
       "485489                    NaN                       NaN             NaN   \n",
       "\n",
       "        score_in_mathematics score_in_reading score_in_science total_score  \\\n",
       "0                  366.18634        261.01424        371.91348   999.11406   \n",
       "1                  470.56396        384.68832        478.12382  1333.37610   \n",
       "2                  505.53824        405.18154        486.60946  1397.32924   \n",
       "3                  449.45476        477.46376        453.97240  1380.89092   \n",
       "4                  385.50398        256.01010        367.15778  1008.67186   \n",
       "...                      ...              ...              ...         ...   \n",
       "485485             486.22058        472.61846        536.31110  1495.15014   \n",
       "485486             529.21794        487.24356        524.37522  1540.83672   \n",
       "485487             486.29850        476.25694        541.90600  1504.46144   \n",
       "485488             522.90856        518.43922        526.70646  1568.05424   \n",
       "485489             454.43994        488.66354        492.95038  1436.05386   \n",
       "\n",
       "        date_of_birth  \n",
       "0              2/1996  \n",
       "1              2/1996  \n",
       "2              9/1996  \n",
       "3              8/1996  \n",
       "4             10/1996  \n",
       "...               ...  \n",
       "485485         6/1996  \n",
       "485486         2/1996  \n",
       "485487         6/1996  \n",
       "485488         6/1996  \n",
       "485489        12/1996  \n",
       "\n",
       "[485490 rows x 29 columns]"
      ]
     },
     "execution_count": 1241,
     "metadata": {},
     "output_type": "execute_result"
    }
   ],
   "source": [
    "path_clean= 'C:/Users/Davie/Documents/GitHub/Pisa2012_data_analysis/'\n",
    "pisa_clean=pd.read_csv(path_clean + 'pisa_clean.csv')\n",
    "#pisa_clean.dropna(how='all', inplace=True)\n",
    "pisa_clean"
   ]
  },
  {
   "cell_type": "code",
   "execution_count": 1242,
   "metadata": {},
   "outputs": [
    {
     "data": {
      "text/plain": [
       "Index(['Mexico', 'Italy', 'Spain', 'Canada', 'Brazil', 'China', 'Australia',\n",
       "       'United Kingdom', 'United Arab Emirates', 'Switzerland', 'Qatar',\n",
       "       'United States of America', 'Colombia', 'Finland', 'Belgium', 'Denmark',\n",
       "       'Jordan', 'Russian Federation', 'Chile', 'Thailand', 'Japan',\n",
       "       'Chinese Taipei', 'Peru', 'Slovenia', 'Argentina', 'Kazakhstan',\n",
       "       'Portugal', 'Indonesia', 'Singapore', 'Czech Republic', 'Uruguay',\n",
       "       'Bulgaria', 'Luxembourg', 'Malaysia', 'Greece', 'Romania', 'Israel',\n",
       "       'Korea', 'Ireland', 'Croatia', 'Germany', 'Vietnam', 'Turkey',\n",
       "       'Hungary', 'Estonia', 'Austria', 'Montenegro', 'Albania', 'Sweden',\n",
       "       'Norway', 'Serbia', 'Slovak Republic', 'Lithuania', 'France', 'Poland',\n",
       "       'Costa Rica', 'Netherlands', 'Tunisia', 'Latvia', 'New Zealand',\n",
       "       'Iceland', 'Liechtenstein'],\n",
       "      dtype='object')"
      ]
     },
     "execution_count": 1242,
     "metadata": {},
     "output_type": "execute_result"
    }
   ],
   "source": [
    "pisa_clean['country'].value_counts().index"
   ]
  },
  {
   "cell_type": "markdown",
   "metadata": {},
   "source": [
    "## Univariate Exploration\n",
    "\n",
    "> This section investigates the distributions of individual variables for unusual points or outliers. The features of interest are divided into two, categorical and numeric variables. For categorical variables, count plots, pie charts, donut plots, waffle counts, and bar graphs are used. The distributions of numeric variables of interest are investigated using histogram, and box plots."
   ]
  },
  {
   "cell_type": "markdown",
   "metadata": {},
   "source": [
    "### Categorical Variables"
   ]
  },
  {
   "cell_type": "code",
   "execution_count": 1243,
   "metadata": {},
   "outputs": [],
   "source": [
    "# create categorical variables\n",
    "categoric_vars = ['country','oecd','school_id','student_id','international_grade','gender',\n",
    "                  'student_age','school_desktop_computer', 'home_desktop_computer',\n",
    "                  'mother_educational_level', 'father_educational_level', \n",
    "                  'parents_believe_maths_is_important', 'date_of_birth']"
   ]
  },
  {
   "cell_type": "markdown",
   "metadata": {},
   "source": [
    "### Question 1: How many students took the pisa test per gender and per grade?\n",
    "\n",
    "Use a histogram to check the distribution, normality, or skewness of scores per each subject category as well as total_score."
   ]
  },
  {
   "cell_type": "markdown",
   "metadata": {},
   "source": [
    "### Visualization\n",
    "\n",
    "Create count plots for gender and grade level"
   ]
  },
  {
   "cell_type": "code",
   "execution_count": 1244,
   "metadata": {},
   "outputs": [
    {
     "data": {
      "text/plain": [
       "Female    245064\n",
       "Male      240426\n",
       "Name: gender, dtype: int64"
      ]
     },
     "execution_count": 1244,
     "metadata": {},
     "output_type": "execute_result"
    }
   ],
   "source": [
    "pisa_pie=pisa_clean.copy()\n",
    "# columns with wrong data type (float) to be changed to string\n",
    "num_type=['international_grade']\n",
    "# change data type to string\n",
    "pisa_pie[num_type]=pisa_pie[num_type].astype(str)\n",
    "# replace code 96 with ungraded\n",
    "pisa_pie['international_grade']=pisa_pie['international_grade'].replace(['96'], '(ungraded)')\n",
    "pisa_pie['gender'].value_counts()"
   ]
  },
  {
   "cell_type": "code",
   "execution_count": 1248,
   "metadata": {},
   "outputs": [
    {
     "data": {
      "image/png": "[encoded data removed]",
      "text/plain": [
       "<Figure size 884.615x561.538 with 2 Axes>"
      ]
     },
     "metadata": {},
     "output_type": "display_data"
    }
   ],
   "source": [
    "# set plot dimensions\n",
    "#plt.figure(figsize=[14, 8])\n",
    "width_in_pixels = 1150\n",
    "height_in_pixels =730\n",
    "dpi = 130\n",
    "fig = plt.figure(figsize=(width_in_pixels/dpi, height_in_pixels/dpi))\n",
    "\n",
    "# Returns a Series\n",
    "plt.subplot(2,2,1)\n",
    "\n",
    "# Count the occurrences of each gender based on the specified order\n",
    "gender_counts = pisa_clean['gender'].value_counts().reindex()\n",
    "\n",
    "# Plot the pie chart\n",
    "plt.pie(\n",
    "    gender_counts, \n",
    "    labels=['Female', 'Male'],\n",
    "    autopct='%1.1f%%',  # Show percentages\n",
    "    startangle=90  # Start angle for better readability\n",
    ")\n",
    "plt.title('Gender Distribution', fontsize=16, fontweight='bold')\n",
    "\n",
    "plt.subplot(2,2,2)\n",
    "# Returns a Series\n",
    "freq = pisa_clean['international_grade'].value_counts()\n",
    "# order the grades\n",
    "grade_order =['7', '8', '9', '10', '11', '12', '(ungraded)']#freq.index\n",
    "# plot countplot\n",
    "sb.countplot(data=pisa_pie, x=pisa_pie['international_grade'], palette='Spectral', order=grade_order)\n",
    "plt.title('Count per Grade', fontsize=16, fontweight='bold')\n",
    "plt.xlabel('International Grade')\n",
    "\n",
    "plt.tight_layout() \n",
    "# Saving the plot\n",
    "plt.savefig('gender&grade_count.jpg', dpi=dpi, bbox_inches='tight')\n",
    "\n",
    "plt.show();"
   ]
  },
  {
   "cell_type": "markdown",
   "metadata": {},
   "source": [
    "### Observation\n",
    "\n",
    "From the visualization, it is evident that there were more female students as compared to male students who took part in the pisa interview. Inaddition, most of the students interviwed were from grade 10 and 9 respectivley"
   ]
  },
  {
   "cell_type": "markdown",
   "metadata": {},
   "source": [
    "### Question 2: What is the proportion of parents who believe that mathematics is important to their children?\n",
    "\n",
    "Use a pie chart to compute the percent in each category."
   ]
  },
  {
   "cell_type": "markdown",
   "metadata": {},
   "source": [
    "### Visualization"
   ]
  },
  {
   "cell_type": "code",
   "execution_count": 1246,
   "metadata": {},
   "outputs": [
    {
     "data": {
      "image/png": "[encoded data removed]",
      "text/plain": [
       "<Figure size 600x486.667 with 1 Axes>"
      ]
     },
     "metadata": {},
     "output_type": "display_data"
    }
   ],
   "source": [
    "# set plot dimensions\n",
    "#plt.figure(figsize=[6, 6])\n",
    "width_in_pixels =900\n",
    "height_in_pixels =730\n",
    "dpi = 150\n",
    "fig = plt.figure(figsize=(width_in_pixels/dpi, height_in_pixels/dpi))\n",
    "\n",
    "# create labels\n",
    "labels=['Strongly disagree', 'Disagree', 'Agree', 'Strongly agree']\n",
    "\n",
    "# reindex the labels\n",
    "values=pisa_clean['parents_believe_maths_is_important'].value_counts().reindex(labels)\n",
    "\n",
    "colors = sb.color_palette('pastel')[2:8] # variety of colors\n",
    "explode = (0.1, 0.1, 0.1, 0.1) # explodes each category from each other\n",
    "\n",
    "# plot pie\n",
    "plt.pie(values, colors=colors, counterclock=False, autopct='%1.1f%%'); #shadow=True, explode=explode,\n",
    "plt.title('Percentage Parental preference \\n for Mathematics', fontsize=16, fontweight='bold');\n",
    "plt.legend(labels, loc='upper left', fontsize=10, bbox_to_anchor=(1,1))\n",
    "\n",
    "plt.tight_layout() \n",
    "# Saving the plot\n",
    "plt.savefig('math_prefer.jpg', dpi=dpi, bbox_inches='tight')\n",
    "\n",
    "plt.show();"
   ]
  },
  {
   "cell_type": "markdown",
   "metadata": {},
   "source": [
    "### Observation\n",
    "\n",
    "Of the total number of students interviewed, 53.0 percent agree whereas 35.8 strongly agree that their parents believe that mathematics is important for their career."
   ]
  },
  {
   "cell_type": "markdown",
   "metadata": {},
   "source": [
    "### Question 3: What is the percentage proportion of students interviewed by grade?\n",
    "\n",
    "Use bar graph and order the percentages by age."
   ]
  },
  {
   "cell_type": "markdown",
   "metadata": {},
   "source": [
    "### Visualization"
   ]
  },
  {
   "cell_type": "code",
   "execution_count": 1252,
   "metadata": {},
   "outputs": [],
   "source": [
    "pisa_count=pisa_clean.copy()\n",
    "pisa_count.dropna(how='any', inplace=True)"
   ]
  },
  {
   "cell_type": "code",
   "execution_count": 1253,
   "metadata": {},
   "outputs": [
    {
     "data": {
      "text/plain": [
       "10    49718\n",
       "9     29536\n",
       "8      3751\n",
       "11     2651\n",
       "7       485\n",
       "96      127\n",
       "12       77\n",
       "Name: international_grade, dtype: int64"
      ]
     },
     "execution_count": 1253,
     "metadata": {},
     "output_type": "execute_result"
    }
   ],
   "source": [
    "# Recalculating the grade counts\n",
    "grade_counts = pisa_count['international_grade'].value_counts()\n",
    "grade_counts"
   ]
  },
  {
   "cell_type": "code",
   "execution_count": 1254,
   "metadata": {},
   "outputs": [
    {
     "data": {
      "text/plain": [
       "86345"
      ]
     },
     "execution_count": 1254,
     "metadata": {},
     "output_type": "execute_result"
    }
   ],
   "source": [
    "# Returns the sum of all not-null values in `type` column\n",
    "n_pisa = pisa_count['international_grade'].value_counts().sum()\n",
    "n_pisa"
   ]
  },
  {
   "cell_type": "code",
   "execution_count": 1259,
   "metadata": {},
   "outputs": [
    {
     "data": {
      "image/png": "[encoded data removed]",
      "text/plain": [
       "<Figure size 640x480 with 1 Axes>"
      ]
     },
     "metadata": {},
     "output_type": "display_data"
    }
   ],
   "source": [
    "# plot count plots\n",
    "sb.countplot(data=pisa_count, x='international_grade', color=sb.color_palette()[7], order=grade_order);\n",
    "plt.xlabel('Grade')\n",
    "plt.title('Percentage Proportion by Grade', fontsize=16, fontweight='bold')\n",
    "plt.gca().axes.get_yaxis().set_visible(False)\n"
   ]
  },
  {
   "cell_type": "code",
   "execution_count": 1255,
   "metadata": {},
   "outputs": [
    {
     "ename": "KeyError",
     "evalue": "'7'",
     "output_type": "error",
     "traceback": [
      "\u001b[1;31m---------------------------------------------------------------------------\u001b[0m",
      "\u001b[1;31mKeyError\u001b[0m                                  Traceback (most recent call last)",
      "\u001b[1;32mc:\\Anaconda3\\lib\\site-packages\\pandas\\core\\indexes\\base.py\u001b[0m in \u001b[0;36mget_loc\u001b[1;34m(self, key, method, tolerance)\u001b[0m\n\u001b[0;32m   3628\u001b[0m             \u001b[1;32mtry\u001b[0m\u001b[1;33m:\u001b[0m\u001b[1;33m\u001b[0m\u001b[1;33m\u001b[0m\u001b[0m\n\u001b[1;32m-> 3629\u001b[1;33m                 \u001b[1;32mreturn\u001b[0m \u001b[0mself\u001b[0m\u001b[1;33m.\u001b[0m\u001b[0m_engine\u001b[0m\u001b[1;33m.\u001b[0m\u001b[0mget_loc\u001b[0m\u001b[1;33m(\u001b[0m\u001b[0mcasted_key\u001b[0m\u001b[1;33m)\u001b[0m\u001b[1;33m\u001b[0m\u001b[1;33m\u001b[0m\u001b[0m\n\u001b[0m\u001b[0;32m   3630\u001b[0m             \u001b[1;32mexcept\u001b[0m \u001b[0mKeyError\u001b[0m \u001b[1;32mas\u001b[0m \u001b[0merr\u001b[0m\u001b[1;33m:\u001b[0m\u001b[1;33m\u001b[0m\u001b[1;33m\u001b[0m\u001b[0m\n",
      "\u001b[1;32mc:\\Anaconda3\\lib\\site-packages\\pandas\\_libs\\index.pyx\u001b[0m in \u001b[0;36mpandas._libs.index.IndexEngine.get_loc\u001b[1;34m()\u001b[0m\n",
      "\u001b[1;32mc:\\Anaconda3\\lib\\site-packages\\pandas\\_libs\\index.pyx\u001b[0m in \u001b[0;36mpandas._libs.index.IndexEngine.get_loc\u001b[1;34m()\u001b[0m\n",
      "\u001b[1;32mpandas\\_libs\\index_class_helper.pxi\u001b[0m in \u001b[0;36mpandas._libs.index.Int64Engine._check_type\u001b[1;34m()\u001b[0m\n",
      "\u001b[1;31mKeyError\u001b[0m: '7'",
      "\nThe above exception was the direct cause of the following exception:\n",
      "\u001b[1;31mKeyError\u001b[0m                                  Traceback (most recent call last)",
      "\u001b[1;32m~\\AppData\\Local\\Temp\\ipykernel_15164\\3111931826.py\u001b[0m in \u001b[0;36m<module>\u001b[1;34m\u001b[0m\n\u001b[0;32m     22\u001b[0m \u001b[1;33m\u001b[0m\u001b[0m\n\u001b[0;32m     23\u001b[0m     \u001b[1;31m# get the text property for the label to get the correct count\u001b[0m\u001b[1;33m\u001b[0m\u001b[1;33m\u001b[0m\u001b[0m\n\u001b[1;32m---> 24\u001b[1;33m     \u001b[0mcount\u001b[0m \u001b[1;33m=\u001b[0m \u001b[0mgrade_counts\u001b[0m\u001b[1;33m[\u001b[0m\u001b[0mlabel\u001b[0m\u001b[1;33m.\u001b[0m\u001b[0mget_text\u001b[0m\u001b[1;33m(\u001b[0m\u001b[1;33m)\u001b[0m\u001b[1;33m]\u001b[0m\u001b[1;33m\u001b[0m\u001b[1;33m\u001b[0m\u001b[0m\n\u001b[0m\u001b[0;32m     25\u001b[0m     \u001b[0mpct_string\u001b[0m \u001b[1;33m=\u001b[0m \u001b[1;34m'{:0.1f}%'\u001b[0m\u001b[1;33m.\u001b[0m\u001b[0mformat\u001b[0m\u001b[1;33m(\u001b[0m\u001b[1;36m100\u001b[0m\u001b[1;33m*\u001b[0m\u001b[0mcount\u001b[0m\u001b[1;33m/\u001b[0m\u001b[0mn_pisa\u001b[0m\u001b[1;33m)\u001b[0m\u001b[1;33m\u001b[0m\u001b[1;33m\u001b[0m\u001b[0m\n\u001b[0;32m     26\u001b[0m \u001b[1;33m\u001b[0m\u001b[0m\n",
      "\u001b[1;32mc:\\Anaconda3\\lib\\site-packages\\pandas\\core\\series.py\u001b[0m in \u001b[0;36m__getitem__\u001b[1;34m(self, key)\u001b[0m\n\u001b[0;32m    956\u001b[0m \u001b[1;33m\u001b[0m\u001b[0m\n\u001b[0;32m    957\u001b[0m         \u001b[1;32melif\u001b[0m \u001b[0mkey_is_scalar\u001b[0m\u001b[1;33m:\u001b[0m\u001b[1;33m\u001b[0m\u001b[1;33m\u001b[0m\u001b[0m\n\u001b[1;32m--> 958\u001b[1;33m             \u001b[1;32mreturn\u001b[0m \u001b[0mself\u001b[0m\u001b[1;33m.\u001b[0m\u001b[0m_get_value\u001b[0m\u001b[1;33m(\u001b[0m\u001b[0mkey\u001b[0m\u001b[1;33m)\u001b[0m\u001b[1;33m\u001b[0m\u001b[1;33m\u001b[0m\u001b[0m\n\u001b[0m\u001b[0;32m    959\u001b[0m \u001b[1;33m\u001b[0m\u001b[0m\n\u001b[0;32m    960\u001b[0m         \u001b[1;32mif\u001b[0m \u001b[0mis_hashable\u001b[0m\u001b[1;33m(\u001b[0m\u001b[0mkey\u001b[0m\u001b[1;33m)\u001b[0m\u001b[1;33m:\u001b[0m\u001b[1;33m\u001b[0m\u001b[1;33m\u001b[0m\u001b[0m\n",
      "\u001b[1;32mc:\\Anaconda3\\lib\\site-packages\\pandas\\core\\series.py\u001b[0m in \u001b[0;36m_get_value\u001b[1;34m(self, label, takeable)\u001b[0m\n\u001b[0;32m   1067\u001b[0m \u001b[1;33m\u001b[0m\u001b[0m\n\u001b[0;32m   1068\u001b[0m         \u001b[1;31m# Similar to Index.get_value, but we do not fall back to positional\u001b[0m\u001b[1;33m\u001b[0m\u001b[1;33m\u001b[0m\u001b[0m\n\u001b[1;32m-> 1069\u001b[1;33m         \u001b[0mloc\u001b[0m \u001b[1;33m=\u001b[0m \u001b[0mself\u001b[0m\u001b[1;33m.\u001b[0m\u001b[0mindex\u001b[0m\u001b[1;33m.\u001b[0m\u001b[0mget_loc\u001b[0m\u001b[1;33m(\u001b[0m\u001b[0mlabel\u001b[0m\u001b[1;33m)\u001b[0m\u001b[1;33m\u001b[0m\u001b[1;33m\u001b[0m\u001b[0m\n\u001b[0m\u001b[0;32m   1070\u001b[0m         \u001b[1;32mreturn\u001b[0m \u001b[0mself\u001b[0m\u001b[1;33m.\u001b[0m\u001b[0mindex\u001b[0m\u001b[1;33m.\u001b[0m\u001b[0m_get_values_for_loc\u001b[0m\u001b[1;33m(\u001b[0m\u001b[0mself\u001b[0m\u001b[1;33m,\u001b[0m \u001b[0mloc\u001b[0m\u001b[1;33m,\u001b[0m \u001b[0mlabel\u001b[0m\u001b[1;33m)\u001b[0m\u001b[1;33m\u001b[0m\u001b[1;33m\u001b[0m\u001b[0m\n\u001b[0;32m   1071\u001b[0m \u001b[1;33m\u001b[0m\u001b[0m\n",
      "\u001b[1;32mc:\\Anaconda3\\lib\\site-packages\\pandas\\core\\indexes\\base.py\u001b[0m in \u001b[0;36mget_loc\u001b[1;34m(self, key, method, tolerance)\u001b[0m\n\u001b[0;32m   3629\u001b[0m                 \u001b[1;32mreturn\u001b[0m \u001b[0mself\u001b[0m\u001b[1;33m.\u001b[0m\u001b[0m_engine\u001b[0m\u001b[1;33m.\u001b[0m\u001b[0mget_loc\u001b[0m\u001b[1;33m(\u001b[0m\u001b[0mcasted_key\u001b[0m\u001b[1;33m)\u001b[0m\u001b[1;33m\u001b[0m\u001b[1;33m\u001b[0m\u001b[0m\n\u001b[0;32m   3630\u001b[0m             \u001b[1;32mexcept\u001b[0m \u001b[0mKeyError\u001b[0m \u001b[1;32mas\u001b[0m \u001b[0merr\u001b[0m\u001b[1;33m:\u001b[0m\u001b[1;33m\u001b[0m\u001b[1;33m\u001b[0m\u001b[0m\n\u001b[1;32m-> 3631\u001b[1;33m                 \u001b[1;32mraise\u001b[0m \u001b[0mKeyError\u001b[0m\u001b[1;33m(\u001b[0m\u001b[0mkey\u001b[0m\u001b[1;33m)\u001b[0m \u001b[1;32mfrom\u001b[0m \u001b[0merr\u001b[0m\u001b[1;33m\u001b[0m\u001b[1;33m\u001b[0m\u001b[0m\n\u001b[0m\u001b[0;32m   3632\u001b[0m             \u001b[1;32mexcept\u001b[0m \u001b[0mTypeError\u001b[0m\u001b[1;33m:\u001b[0m\u001b[1;33m\u001b[0m\u001b[1;33m\u001b[0m\u001b[0m\n\u001b[0;32m   3633\u001b[0m                 \u001b[1;31m# If we have a listlike key, _check_indexing_error will raise\u001b[0m\u001b[1;33m\u001b[0m\u001b[1;33m\u001b[0m\u001b[0m\n",
      "\u001b[1;31mKeyError\u001b[0m: '7'"
     ]
    },
    {
     "data": {
      "image/png": "[encoded data removed]",
      "text/plain": [
       "<Figure size 1000x500 with 1 Axes>"
      ]
     },
     "metadata": {},
     "output_type": "display_data"
    }
   ],
   "source": [
    "\n",
    "                  # set plot dimensions\n",
    "plt.figure(figsize=[10,5])\n",
    "\n",
    "# Recalculating the grade counts\n",
    "#grade_counts = pisa_count['international_grade'].value_counts()\n",
    "# Get the indexes of the Series\n",
    "\n",
    "# Returns the sum of all not-null values in `type` column\n",
    "#n_pisa = pisa_count['international_grade'].value_counts().sum()\n",
    "\n",
    "# plot count plots\n",
    "sb.countplot(data=pisa_count, x='international_grade', color=sb.color_palette()[7], order=grade_order);\n",
    "plt.xlabel('Grade')\n",
    "plt.title('Percentage Proportion by Grade', fontsize=16, fontweight='bold')\n",
    "plt.gca().axes.get_yaxis().set_visible(False)\n",
    "\n",
    "# get the current tick locations and labels\n",
    "locs, labels = plt.xticks(rotation=0) \n",
    "\n",
    "# loop through each pair of locations and labels\n",
    "for loc, label in zip(locs, labels):\n",
    "\n",
    "    # get the text property for the label to get the correct count\n",
    "    count = grade_counts[label.get_text()]\n",
    "    pct_string = '{:0.1f}%'.format(100*count/n_pisa)\n",
    "\n",
    "    # print the annotation just below the top of the bar\n",
    "    plt.text(loc, count+2, pct_string, ha = 'center', color = 'black')"
   ]
  },
  {
   "cell_type": "markdown",
   "metadata": {},
   "source": [
    "### Observation\n",
    "\n",
    "There is a greater percentage of students in grade 10 who took part in the pisa test."
   ]
  },
  {
   "cell_type": "markdown",
   "metadata": {},
   "source": [
    "### Question 4: What is the percentage proportion for the level of education for the mother?\n",
    "\n",
    "In this case, I want to use a donut plot to show different categories within the mother education level column."
   ]
  },
  {
   "cell_type": "markdown",
   "metadata": {},
   "source": [
    "### Visualization"
   ]
  },
  {
   "cell_type": "code",
   "execution_count": 1256,
   "metadata": {},
   "outputs": [
    {
     "data": {
      "text/plain": [
       "Post Secondary         126768\n",
       "Post Graduate          114452\n",
       "Vocational Tertiary     68219\n",
       "Lower Secondary         66650\n",
       "Primary Education       36556\n",
       "Upper Secondary         35672\n",
       "None                    18768\n",
       "Name: mother_educational_level, dtype: int64"
      ]
     },
     "execution_count": 1256,
     "metadata": {},
     "output_type": "execute_result"
    }
   ],
   "source": [
    "# drop education values which are None\n",
    "pisa_edum=pisa_clean.loc[pisa_clean['mother_educational_level']!='0']\n",
    "pisa_edum['mother_educational_level'].value_counts()"
   ]
  },
  {
   "cell_type": "code",
   "execution_count": 1257,
   "metadata": {},
   "outputs": [
    {
     "data": {
      "image/png": "[encoded data removed]",
      "text/plain": [
       "<Figure size 600x600 with 1 Axes>"
      ]
     },
     "metadata": {},
     "output_type": "display_data"
    }
   ],
   "source": [
    "# set plot dimensions\n",
    "plt.figure(figsize=[6,6])\n",
    "\n",
    "# get value counts and sort them\n",
    "sorted_counts = pisa_edum['mother_educational_level'].value_counts().sort_values()\n",
    "\n",
    "# explosion\n",
    "explodes = (0.02, 0.02, 0.02, 0.02, 0.02, 0.02, 0.02)\n",
    "\n",
    "# plot a simple donut plot\n",
    "plt.pie(sorted_counts, labels = sorted_counts.index, autopct='%1.1f%%', pctdistance=0.75, explode=explodes,\n",
    "        startangle = 90, wedgeprops = {'width' : 0.5},counterclock = False)\n",
    "plt.title('Mother Level of Education', fontsize=16, fontweight='bold')\n",
    "plt.axis('square')\n",
    "\n",
    "plt.show();"
   ]
  },
  {
   "cell_type": "markdown",
   "metadata": {},
   "source": [
    "### Observation\n",
    "\n",
    "The majority of the mothers had post-secondary and post-graduate education."
   ]
  },
  {
   "cell_type": "markdown",
   "metadata": {},
   "source": [
    "### Question 5: What is the percentage proportion for the level of education for the father of students who took pisa test?\n",
    "\n",
    "Use waffle plot"
   ]
  },
  {
   "cell_type": "markdown",
   "metadata": {},
   "source": [
    "### Visualization"
   ]
  },
  {
   "cell_type": "code",
   "execution_count": 1154,
   "metadata": {},
   "outputs": [],
   "source": [
    "# drop None values in father level of education column\n",
    "df=pisa_clean.loc[~pisa_clean['father_educational_level'].isna()]\n",
    "\n",
    "# define and creat a function to calculate percentages, count, and create quata\n",
    "def percentage_blocks(df, var):\n",
    "    # compute base quotas\n",
    "    percentages = 100 * df[var].value_counts() / df.shape[0]\n",
    "    counts = np.floor(percentages).astype(int) # integer part = minimum quota\n",
    "    decimal = (percentages - counts).sort_values(ascending = False)\n",
    "\n",
    "    # add in additional counts to reach 100\n",
    "    rem = 100 - counts.sum()\n",
    "    for edu in decimal.index[:rem]:\n",
    "        counts[edu] += 1\n",
    "\n",
    "    return counts"
   ]
  },
  {
   "cell_type": "code",
   "execution_count": null,
   "metadata": {},
   "outputs": [],
   "source": [
    "# set plot dimensions\n",
    "plt.figure(figsize=[6,6])\n",
    "waffle_counts = percentage_blocks(df, 'father_educational_level')\n",
    "\n",
    "prev_count = 0\n",
    "\n",
    "# for each category,\n",
    "for category in range(waffle_counts.shape[0]):\n",
    "    # get the block indices\n",
    "    blocks = np.arange(prev_count, prev_count + waffle_counts[category])\n",
    "    # and put a block at each index's location\n",
    "    x = blocks % 10 # use mod operation to get ones digit\n",
    "    y = blocks // 10 # use floor division to get tens digit\n",
    "    \n",
    "    plt.bar(x = y, height = 0.8, width = 0.8, bottom = x)\n",
    "    prev_count += waffle_counts[category]\n",
    "    \n",
    "# aesthetic wrangling\n",
    "plt.legend(waffle_counts.index, bbox_to_anchor = (1, 0.5), loc = 6)\n",
    "plt.title('Father Level of Education', fontsize=16, fontweight='bold')\n",
    "plt.axis('off')\n",
    "plt.axis('square');"
   ]
  },
  {
   "cell_type": "markdown",
   "metadata": {},
   "source": [
    "### Observation\n",
    "\n",
    "The majority of the fathers had post-secondary and post-graduate education."
   ]
  },
  {
   "cell_type": "markdown",
   "metadata": {},
   "source": [
    "### Question 6: How many students access computers at home and school and use them?"
   ]
  },
  {
   "cell_type": "markdown",
   "metadata": {},
   "source": [
    "Wrangle pisa_clean to rename the text 'donÂt' for home_desktop_computer and school_desktop_computer "
   ]
  },
  {
   "cell_type": "code",
   "execution_count": null,
   "metadata": {},
   "outputs": [],
   "source": [
    "pisa_com=pisa_clean.copy()\n",
    "pisa_com.loc[pisa_com['home_desktop_computer'] == \"Yes, but I donÂt use it\", 'home_desktop_computer'] = \"Yes, but I don't use it\"\n",
    "pisa_com.loc[pisa_com['school_desktop_computer'] == \"Yes, but I donÂt use it\", 'school_desktop_computer'] = \"Yes, but I don't use it\"\n",
    "pisa_com.head(5)"
   ]
  },
  {
   "cell_type": "markdown",
   "metadata": {},
   "source": [
    "### Visualization\n",
    "\n",
    "Use bar graphs"
   ]
  },
  {
   "cell_type": "code",
   "execution_count": null,
   "metadata": {},
   "outputs": [],
   "source": [
    "com=pisa_com[~pisa_com['home_desktop_computer'].isna()]\n",
    "com[~com['school_desktop_computer'].isna()]"
   ]
  },
  {
   "cell_type": "code",
   "execution_count": null,
   "metadata": {},
   "outputs": [],
   "source": [
    "# Reshape the data to long format\n",
    "com_melted = com.melt(\n",
    "    value_vars=['home_desktop_computer', 'school_desktop_computer'],\n",
    "    var_name='Category',\n",
    "    value_name='Usage'\n",
    ")\n",
    "com_melted.value_counts().reset_index()"
   ]
  },
  {
   "cell_type": "code",
   "execution_count": null,
   "metadata": {},
   "outputs": [],
   "source": [
    "# set plot dimensions\n",
    "#plt.figure(figsize=[9, 5])\n",
    "width_in_pixels =1050\n",
    "height_in_pixels =730\n",
    "dpi = 120\n",
    "fig = plt.figure(figsize=(width_in_pixels/dpi, height_in_pixels/dpi))\n",
    "plt.tight_layout() \n",
    "# Saving the plot\n",
    "plt.savefig('math_prefer.jpg', dpi=dpi, bbox_inches='tight')\n",
    "\n",
    "# create labels\n",
    "labels=['No', 'Yes, and I use it', 'Yes, but I don\\'t use it']\n",
    "\n",
    "# Create the barplot\n",
    "sb.barplot(data=com_melted.value_counts().reset_index(), x='Usage', y=0, hue='Category', order=labels, palette='viridis')\n",
    "\n",
    "# Add labels and title\n",
    "plt.xlabel('Usage', fontsize=12)\n",
    "plt.ylabel('Count', fontsize=12)\n",
    "plt.title('Comparison of Desktop Computer Usage \\n at Home and School', fontsize=15, fontweight='bold')\n",
    "plt.legend(bbox_to_anchor=(1,1), loc='upper left', fontsize=10)\n",
    "\n",
    "plt.tight_layout() \n",
    "# Saving the plot\n",
    "plt.savefig('comp_usage.jpg', dpi=dpi, bbox_inches='tight')\n",
    "\n",
    "plt.show()"
   ]
  },
  {
   "cell_type": "code",
   "execution_count": null,
   "metadata": {},
   "outputs": [],
   "source": [
    "# set plot dimensions\n",
    "plt.figure(figsize=[14, 6])\n",
    "\n",
    "plt.subplot(2,2,1)\n",
    "#plot bar\n",
    "com['school_desktop_computer'].value_counts().sort_index().plot(kind='bar', color='#8D918D')\n",
    "plt.title('School Desktop Computer Usage', fontsize=16, fontweight='bold')\n",
    "plt.ylabel('Count')\n",
    "plt.xticks(rotation=0)\n",
    "\n",
    "plt.subplot(2,2,2)\n",
    "# plotrbar\n",
    "com['home_desktop_computer'].value_counts().sort_index().plot(kind='bar', color='#8D918D')\n",
    "plt.title('Home Desktop Computer Usage', fontsize=16, fontweight='bold')\n",
    "plt.ylabel('Count')\n",
    "plt.xticks(rotation=0)\n",
    "\n",
    "plt.show();"
   ]
  },
  {
   "cell_type": "markdown",
   "metadata": {},
   "source": [
    "### Observation\n",
    "\n",
    "The number of students who access and use computers at school and home exceeds those who access and don't use them as well as those who don't have access to computers at all"
   ]
  },
  {
   "cell_type": "markdown",
   "metadata": {},
   "source": [
    "### Numeric Variables"
   ]
  },
  {
   "cell_type": "code",
   "execution_count": 1161,
   "metadata": {},
   "outputs": [],
   "source": [
    "# create numrical variables list\n",
    "numeric_vars_other = ['perseverance',\n",
    "                'sense_of_belonging_to_school',\n",
    "                'attitude_towards_school_learning_outcomes',\n",
    "                'ICT_at_school',\n",
    "                #'ICT_use_at_school',\n",
    "                'maths_teacher_support',\n",
    "                'teacher_student_relations',\n",
    "                'teacher_support',\n",
    "                'maths_teacher_classroom_management',    \n",
    "                'social_economic&cultural_index_status', \n",
    "                'home_possessions']\n",
    "\n",
    "numeric_vars_scores=['score_in_mathematics',\n",
    "                     'score_in_reading', \n",
    "                     'score_in_science',\n",
    "                     'total_score']"
   ]
  },
  {
   "cell_type": "markdown",
   "metadata": {},
   "source": [
    "### Question 7: What is the distribution of the scores?\n",
    "\n",
    "Use histogram to check the distribution, normality or skewness of scores per each subject category as well as total_score."
   ]
  },
  {
   "cell_type": "markdown",
   "metadata": {},
   "source": [
    "### Visualization\n",
    "\n",
    "Create function to plot mathematics, reading, science and total scores and then plot the four histograms"
   ]
  },
  {
   "cell_type": "code",
   "execution_count": 1162,
   "metadata": {},
   "outputs": [],
   "source": [
    "# create function to plot histograms\n",
    "def hist_plot(col,binsize):\n",
    "    bins = np.arange(0, pisa_clean[col].max()+binsize, binsize) # create bin sizes\n",
    "    plt.hist(data=pisa_clean, x = col, color='grey', bins = bins, alpha=0.7) # plot hist\n",
    "    plt.axvline(x=pisa_clean[col].median(), color='b') # blue line to check for skewness\n",
    "    plt.ylabel('Student count')"
   ]
  },
  {
   "cell_type": "code",
   "execution_count": null,
   "metadata": {},
   "outputs": [],
   "source": [
    "# set plot dimensions\n",
    "plt.figure(figsize=[14, 8])\n",
    "\n",
    "# plot the distibutions\n",
    "# mathematics score distribution  \n",
    "plt.subplot(2, 2, 1)\n",
    "hist_plot(col='score_in_mathematics', binsize=15)\n",
    "txt='Mathematics Score'\n",
    "plt.title(txt);\n",
    "\n",
    "# reading score distribution\n",
    "plt.subplot(2, 2, 2)\n",
    "hist_plot(col='score_in_reading', binsize=20)\n",
    "txt='Reading Score'\n",
    "plt.title(txt);\n",
    "\n",
    "# science score distribution\n",
    "plt.subplot(2, 2, 3)\n",
    "hist_plot(col='score_in_science', binsize=20)\n",
    "txt='Science Score'\n",
    "plt.title(txt);\n",
    "\n",
    "# total score distribution\n",
    "plt.subplot(2, 2, 4)\n",
    "hist_plot(col='total_score', binsize=50)\n",
    "txt='Total Score'\n",
    "plt.title(txt)\n",
    "\n",
    "plt.show();"
   ]
  },
  {
   "cell_type": "markdown",
   "metadata": {},
   "source": [
    "### Observation\n",
    "\n",
    "All the distributions for the scores are normal"
   ]
  },
  {
   "cell_type": "markdown",
   "metadata": {},
   "source": [
    "### Question 8: What is the distribution of other numeric variables?\n",
    "\n",
    "Use box plot to maintain the distribution of quantitative variables in the data."
   ]
  },
  {
   "cell_type": "markdown",
   "metadata": {},
   "source": [
    "### Visualization"
   ]
  },
  {
   "cell_type": "code",
   "execution_count": 1164,
   "metadata": {},
   "outputs": [],
   "source": [
    "# Identify numeric variables\n",
    "pisa_num = pisa_clean[numeric_vars_other]\n",
    "\n",
    "# Function to remove outliers using IQR\n",
    "def remove_outliers(df, columns):\n",
    "    for col in columns:\n",
    "        Q1 = df[col].quantile(0.25)  # First quartile (25th percentile)\n",
    "        Q3 = df[col].quantile(0.75)  # Third quartile (75th percentile)\n",
    "        IQR = Q3 - Q1  # Interquartile range\n",
    "        \n",
    "        # Define bounds for outliers\n",
    "        lower_bound = Q1 - 1.5 * IQR\n",
    "        upper_bound = Q3 + 1.5 * IQR\n",
    "        \n",
    "        # Filter out outliers\n",
    "        df = df[(df[col] >= lower_bound) & (df[col] <= upper_bound)]\n",
    "    return df\n",
    "\n",
    "# Remove outliers from numeric variables\n",
    "pisa_num_clean = remove_outliers(pisa_num, numeric_vars_other)"
   ]
  },
  {
   "cell_type": "code",
   "execution_count": null,
   "metadata": {},
   "outputs": [],
   "source": [
    "# set plot dimensions\n",
    "plt.figure(figsize=[12, 10])\n",
    "\n",
    "# plot box plot\n",
    "#pisa_num=pisa_clean[numeric_vars_other]\n",
    "sb.boxplot(data=pisa_num_clean,orient=\"h\", color=sb.color_palette()[0])\n",
    "plt.title('Box plots for diferent Numerical Variables', fontsize=16, fontweight='bold')\n",
    "plt.xlabel('Values')\n",
    "\n",
    "plt.show();"
   ]
  },
  {
   "cell_type": "markdown",
   "metadata": {},
   "source": [
    "### Observation\n",
    "\n",
    "All the numeric columns have outliers. Whereas most of the features are normally distributed, perserverence, attitude of the students towards the school, ICT used at school, and mathematics teacher classroom management are slightly skewed."
   ]
  },
  {
   "cell_type": "markdown",
   "metadata": {},
   "source": [
    "## Discussion\n",
    "\n",
    "The columns are grouped into two, categorical features and numerical features. \n",
    "\n",
    "The categorical variables include country of origin, school and student identification, gender, grade, student age and month and year of birth, use of desktop computers at school and home, parent educational level, and whether parents believe that mathematics is important to their children's careers. The count plots visualizations for the country, grade levels, and gender show that Mexico has the highest number of students interviewed. Most of the students interviewed were female while a greater number of grade 10 level students took part in the Pisa test as compared to other grades. \n",
    "\n",
    "The majority of the students access and use a desktop computer at school and home. There is a greater percentage proportion of respondents who agree that their parents believe that mathematics is important for their career. Also, students born after June 1996 are the majority in terms of the percentage proportion of students interviewed by date of birth. For parents' educational levels, the majority of the parents had post-secondary and post-graduate education as shown in the donut chart and waffle counts.\n",
    "\n",
    "The quantitative variables considered comprise perseverance of the students, sense of belonging to the school, attitude towards the school, use of ICT, teacher support and teacher-student relations, home possessions, socio-economic and cultural status, and subject scores obtained from the plausible values. From the visualization plotted in this case, it is clear that all the features have outliers. Whereas most of the features are normally distributed, perseverance, the attitude of the students towards the school, ICT used at school, and mathematics teacher classroom management are slightly skewed.\n",
    "\n",
    "Some of the visualizations could not be plotted with the data initially stored and therefore had to be readjusted and changed. For instance, in determining the number of students who took the Pisa test per grade, the grade level 96, had to be removed due to validity issues. Also, for the percentage proportion of students interviewed by date of birth, the column for date of birth has a value of 99, which is not valid. Finally, the donut chart and waffle counts on the percentage proportion for the level of education of the parents were done after the removal of None values."
   ]
  },
  {
   "cell_type": "markdown",
   "metadata": {},
   "source": [
    "## Bivariate Exploration\n",
    "\n",
    "> This section investigates relationships between pairs of variables in the data. The distribution of all the variables under this section has been explored under univariate exploration. Heatmaps, bar plots, regplots, violin plots, and box plots are used in this section."
   ]
  },
  {
   "cell_type": "markdown",
   "metadata": {},
   "source": [
    "### Question 9: How many students took the pisa test per country?\n",
    "\n",
    "Use barplot or horizontal bar graph to display the frequency or counts of each participating country"
   ]
  },
  {
   "cell_type": "code",
   "execution_count": null,
   "metadata": {},
   "outputs": [],
   "source": [
    "pisa_clean[pisa_clean['country']=='United State of America']"
   ]
  },
  {
   "cell_type": "code",
   "execution_count": null,
   "metadata": {},
   "outputs": [],
   "source": [
    "student_count=pisa_clean.groupby('country')['student_id'].count().reset_index().sort_values(by='student_id', ascending=False)\n",
    "student_count"
   ]
  },
  {
   "cell_type": "code",
   "execution_count": null,
   "metadata": {},
   "outputs": [],
   "source": [
    "gen_order = student_count['country']\n",
    "\n",
    "# set plot dimensions\n",
    "plt.figure(figsize=[8, 12])\n",
    "\n",
    "# plot countplot\n",
    "sb.barplot(data=student_count, y='country',  x='student_id', palette='crest_r') #edgecolor='blue', color='grey',\n",
    "plt.grid(axis='x', color ='grey', linestyle ='-.', linewidth = 0.2, alpha = 0.4) # b=True - for both x and y axes\n",
    "\n",
    "plt.title('Number of students per Country', fontsize=16, fontweight='bold')\n",
    "plt.xlabel('Count', fontsize=12)\n",
    "\n",
    "plt.show();"
   ]
  },
  {
   "cell_type": "markdown",
   "metadata": {},
   "source": [
    "### Observation\n",
    "\n",
    "The top three countries with the highest number of students who took part in the pisa test are Mexico, Italy, and Spain, with Liechtenstein having the least number of respondence."
   ]
  },
  {
   "cell_type": "markdown",
   "metadata": {},
   "source": [
    "### Question 10: What is the total number of students who access and use a computer at school and home?"
   ]
  },
  {
   "cell_type": "markdown",
   "metadata": {},
   "source": [
    "### Visualization\n",
    "\n",
    "use heatmap to show relationships between the use of home desktop computer and school desktop computer by students."
   ]
  },
  {
   "cell_type": "code",
   "execution_count": null,
   "metadata": {},
   "outputs": [],
   "source": [
    "# set plot dimensions\n",
    "plt.figure(figsize=[10, 6])\n",
    "\n",
    "# make counts for home desktop computer and school desktop computer\n",
    "com_counts = pisa_com.groupby(['home_desktop_computer', 'school_desktop_computer']).size()\n",
    "com_counts = com_counts.reset_index(name='count')\n",
    "com_counts = com_counts.pivot(index = 'home_desktop_computer', columns = 'school_desktop_computer', values = 'count')\n",
    "# plot heatmap\n",
    "sb.heatmap(com_counts, linewidth = 1, cmap='gist_heat_r', annot = True, fmt = 'd')\n",
    "plt.title('Home and School Computer Usage', fontsize=14, fontweight='bold')\n",
    "plt.xlabel('School Desktop Computer')\n",
    "plt.ylabel('Home Desktop Computer')\n",
    "\n",
    "plt.show();"
   ]
  },
  {
   "cell_type": "markdown",
   "metadata": {},
   "source": [
    "### Observation\n",
    "\n",
    "The number of students who access and use computers is 42043, which is higher than those who don't use a computer at home whether they access the computers or not."
   ]
  },
  {
   "cell_type": "markdown",
   "metadata": {},
   "source": [
    "### Question 11: What is the proportion in terms of gender, access and use desktop computers at school?"
   ]
  },
  {
   "cell_type": "markdown",
   "metadata": {},
   "source": [
    "## Visualization\n",
    "\n",
    "Use heatmap"
   ]
  },
  {
   "cell_type": "code",
   "execution_count": null,
   "metadata": {},
   "outputs": [],
   "source": [
    "# set plot dimensions\n",
    "plt.figure(figsize=[10, 6])\n",
    "\n",
    "#pisa_n=pisa_clean.dropna(axis=0)\n",
    "cg_count = com.groupby(['school_desktop_computer', 'gender']).size()\n",
    "cg_counts=cg_count*100/(pisa_clean['gender'].count())\n",
    "\n",
    "cg_counts = cg_counts.reset_index(name='count')\n",
    "cg_counts = cg_counts.pivot(index = 'school_desktop_computer', columns = 'gender', values = 'count')\n",
    "# plot heatmap\n",
    "sb.heatmap(cg_counts, linewidth = 1, cmap='viridis_r', annot = True, fmt = '0.1f', cbar_kws={'format': '%.1f%%'})\n",
    "plt.title('Proportion of School Computer Usage by Gender', fontsize=14, fontweight='bold')\n",
    "plt.xlabel('Gender')\n",
    "plt.ylabel('School Desktop Computer')\n",
    "\n",
    "plt.show();"
   ]
  },
  {
   "cell_type": "markdown",
   "metadata": {},
   "source": [
    "### Observation\n",
    "\n",
    "About 33 percent of female students access and use desktop computers at school compared to 32 percent of male students."
   ]
  },
  {
   "cell_type": "markdown",
   "metadata": {},
   "source": [
    "### Question 12: What is the proportion in terms of age, access and use desktop computers at home?"
   ]
  },
  {
   "cell_type": "markdown",
   "metadata": {},
   "source": [
    "### Visualization\n",
    "\n",
    "Use heatmap"
   ]
  },
  {
   "cell_type": "code",
   "execution_count": null,
   "metadata": {},
   "outputs": [],
   "source": [
    "com"
   ]
  },
  {
   "cell_type": "code",
   "execution_count": null,
   "metadata": {},
   "outputs": [],
   "source": [
    "# set plot dimensions\n",
    "plt.figure(figsize=[12, 6])\n",
    "\n",
    "cage_count = pisa_com.groupby(['home_desktop_computer', 'student_age']).size()\n",
    "cage_counts=cage_count *100/(pisa_clean['student_age'].count())\n",
    "cage_counts = cage_counts.reset_index(name='count')\n",
    "cage_counts = cage_counts.pivot(index = 'home_desktop_computer', columns = 'student_age', values = 'count')\n",
    "sb.heatmap(cage_counts, linewidth = 1, cmap='Blues', annot = True, fmt = '0.2f', cbar_kws={'format': '%.1f%%'})\n",
    "plt.title('Proportion of Home Computer Usage by Age', fontsize=14, fontweight='bold')\n",
    "plt.xlabel('Age')\n",
    "plt.ylabel('home Desktop Computer')\n",
    "\n",
    "plt.show();"
   ]
  },
  {
   "cell_type": "markdown",
   "metadata": {},
   "source": [
    "### Observation\n",
    "\n",
    "The majority of students, about 6.1 percent who use a desktop computer at home were born between July and Agust 1996."
   ]
  },
  {
   "cell_type": "markdown",
   "metadata": {},
   "source": [
    "### Question 13: Is there differences in perfomance based on gender or between OECD and non-OECD?"
   ]
  },
  {
   "cell_type": "code",
   "execution_count": null,
   "metadata": {},
   "outputs": [],
   "source": [
    "\n",
    "# Data\n",
    "pisa_mean=pisa_clean.groupby(['gender', 'oecd'])['total_score'].mean().reset_index().sort_values(by='total_score', ascending=False) \n",
    "\n",
    "width_in_pixels =1050\n",
    "height_in_pixels =730\n",
    "dpi = 150\n",
    "fig = plt.figure(figsize=(width_in_pixels/dpi, height_in_pixels/dpi))\n",
    "\n",
    "sb.barplot(data=pisa_mean, y='total_score', x='oecd', hue='gender')\n",
    "plt.title('OECD and NON-OECD Performance by Gender', fontsize=16, fontweight='bold')\n",
    "plt.ylabel('Avergae Score', fontsize=11)\n",
    "plt.xlabel('Oecd', fontsize=11)\n",
    "plt.legend(title='Gender', fontsize=11, loc='upper left', bbox_to_anchor=(1,1))\n",
    "\n",
    "plt.tight_layout() \n",
    "# Saving the plot\n",
    "plt.savefig('oecd_performance.jpg', dpi=dpi, bbox_inches='tight')\n",
    "\n",
    "plt.show();"
   ]
  },
  {
   "cell_type": "markdown",
   "metadata": {},
   "source": [
    "### Observation\n",
    "\n",
    "There is no significant different in performance in average total score between OECD and Non-OECD. However, female performance was superior to male students."
   ]
  },
  {
   "cell_type": "markdown",
   "metadata": {},
   "source": [
    "### Question 14: Is there differences in perfomance based on the country of origin?"
   ]
  },
  {
   "cell_type": "markdown",
   "metadata": {},
   "source": [
    "### Visualization"
   ]
  },
  {
   "cell_type": "code",
   "execution_count": null,
   "metadata": {},
   "outputs": [],
   "source": [
    "# set plot dimensions\n",
    "#plt.figure(figsize=[8, 6])\n",
    "width_in_pixels =1050\n",
    "height_in_pixels =730\n",
    "dpi = 100\n",
    "fig = plt.figure(figsize=(width_in_pixels/dpi, height_in_pixels/dpi))\n",
    "\n",
    "pisa_mean=com.groupby('country')['total_score'].mean().sort_values(ascending=False)\n",
    "x=pisa_mean.values\n",
    "y=pisa_mean.index\n",
    "\n",
    "sb.barplot(data=pisa_clean, y=y, x=x, palette='viridis')\n",
    "plt.title('Mean Performance by Country', fontsize=16, fontweight='bold')\n",
    "plt.ylabel('Country')\n",
    "plt.xlabel('Avearge Score')\n",
    "\n",
    "plt.tight_layout() \n",
    "# Saving the plot\n",
    "plt.savefig('country-perfomance.jpg', dpi=dpi, bbox_inches='tight')\n",
    "\n",
    "plt.show();"
   ]
  },
  {
   "cell_type": "markdown",
   "metadata": {},
   "source": [
    "### Observation\n",
    "\n",
    "China_Shanghai has the best perfomance"
   ]
  },
  {
   "cell_type": "markdown",
   "metadata": {},
   "source": [
    "### Question 15: What factors contribute to higher perfomance?\n",
    "\n",
    "This question seeks to examine the relationships between the numerical variables, and investigate factors that have a positive influence on student performance among different regional countries that are either OECD or Non-OECD members."
   ]
  },
  {
   "cell_type": "markdown",
   "metadata": {},
   "source": [
    "**Wrangle the data** \n",
    "\n",
    "\n",
    "Check the correction among the quantitative features\n",
    "\n",
    "### Visualization\n",
    "\n",
    "Use heatmap to show correlations"
   ]
  },
  {
   "cell_type": "code",
   "execution_count": 1175,
   "metadata": {},
   "outputs": [],
   "source": [
    "lst=numeric_vars_other.copy()"
   ]
  },
  {
   "cell_type": "code",
   "execution_count": 1176,
   "metadata": {},
   "outputs": [],
   "source": [
    "labels=['total score',\n",
    "        'perseverance',\n",
    "        'sense of \\n belonging \\n to school',\n",
    "        'attitude \\n towards school \\n learning \\n outcomes',\n",
    "        'ICT at \\n school',\n",
    "        'maths teacher \\n support',\n",
    "        'teacher student \\n relations',\n",
    "        'teacher \\n support',\n",
    "        'maths teacher \\n classroom \\n management',\n",
    "        'social_economic \\n &cultural \\n indexstatus',\n",
    "        'home \\n possessions']"
   ]
  },
  {
   "cell_type": "code",
   "execution_count": 1177,
   "metadata": {},
   "outputs": [],
   "source": [
    "num_cols=['total_score']\n",
    "\n",
    "for item in lst:\n",
    "    num_cols.append(item)"
   ]
  },
  {
   "cell_type": "code",
   "execution_count": 1178,
   "metadata": {},
   "outputs": [],
   "source": [
    "# Data\n",
    "pisa_heat=pisa_clean[num_cols]"
   ]
  },
  {
   "cell_type": "code",
   "execution_count": 1179,
   "metadata": {},
   "outputs": [],
   "source": [
    "# Remove outliers\n",
    "pisa_heat_clean = remove_outliers(pisa_heat, num_cols)"
   ]
  },
  {
   "cell_type": "code",
   "execution_count": null,
   "metadata": {},
   "outputs": [],
   "source": [
    "'''# Data\n",
    "pisa_heat=pisa_num_clean[num_cols]'''\n",
    "width_in_pixels =1050\n",
    "height_in_pixels =730\n",
    "dpi = 100\n",
    "fig = plt.figure(figsize=(width_in_pixels/dpi, height_in_pixels/dpi))\n",
    "\n",
    "# correlation plot\n",
    "sb.heatmap(pisa_heat_clean.corr(), annot = True, fmt = '.1f', cmap = 'vlag_r', center = 0, xticklabels=labels, yticklabels=labels)\n",
    "#plt.xticks(ticks=np.arange(-0.1, 0.3, step=0.1), labels=labels)\n",
    "plt.tight_layout() \n",
    "# Saving the plot\n",
    "plt.savefig('corr_heat.jpg', dpi=dpi, bbox_inches='tight')\n",
    "\n",
    "plt.show();"
   ]
  },
  {
   "cell_type": "markdown",
   "metadata": {},
   "source": [
    "### Observation\n",
    "\n",
    "From the correlation matrix visual shown, most features have a positive correlation with each other."
   ]
  },
  {
   "cell_type": "code",
   "execution_count": null,
   "metadata": {},
   "outputs": [],
   "source": [
    "data=pisa_clean.copy()\n",
    "score='total_score'\n",
    "numeric_vars = ['perseverance',\n",
    "                'sense_of_belonging_to_school',\n",
    "                'teacher_student_relations',\n",
    "                'teacher_support',\n",
    "                'home_possessions'\n",
    "                ]\n",
    "\n",
    "data_samp = data.groupby(numeric_vars)[score].mean()\n",
    "data_samp.reset_index()"
   ]
  },
  {
   "cell_type": "code",
   "execution_count": 1182,
   "metadata": {},
   "outputs": [],
   "source": [
    "data=pisa_clean.copy()"
   ]
  },
  {
   "cell_type": "code",
   "execution_count": 1183,
   "metadata": {},
   "outputs": [],
   "source": [
    "score='total_score'\n",
    "numeric_vars = ['perseverance',\n",
    "                'sense_of_belonging_to_school',\n",
    "                'teacher_student_relations',\n",
    "                'teacher_support',\n",
    "                'home_possessions',\n",
    "                score]\n",
    "data[numeric_vars]\n",
    "data['score']=np.log(data['total_score'])"
   ]
  },
  {
   "cell_type": "code",
   "execution_count": 1184,
   "metadata": {},
   "outputs": [],
   "source": [
    "# Remove outliers\n",
    "pisa_data = remove_outliers(data, numeric_vars)"
   ]
  },
  {
   "cell_type": "code",
   "execution_count": null,
   "metadata": {},
   "outputs": [],
   "source": [
    "# plot matrix: sample 200 pisa data so that plots are clearer and they render faster\n",
    "\n",
    "#score='total_score'\n",
    "numeric_vars = ['perseverance',\n",
    "                'sense_of_belonging_to_school',\n",
    "                'teacher_student_relations',\n",
    "                'teacher_support',\n",
    "                'home_possessions',\n",
    "                'score']\n",
    "\n",
    "data_samp = pisa_data.groupby(numeric_vars).mean().reset_index().sample(500)#.sample(n=200, replace = False)\n",
    "g = sb.PairGrid(data = data_samp, vars = numeric_vars)\n",
    "g = g.map_diag(plt.hist, bins = 20)\n",
    "g.map_offdiag(plt.scatter)\n",
    "\n",
    "plt.show();  "
   ]
  },
  {
   "cell_type": "markdown",
   "metadata": {},
   "source": [
    "### Observation\n",
    "\n",
    "Most of the data concentrate around zero, further investigation will reveal more detail about this trend."
   ]
  },
  {
   "cell_type": "markdown",
   "metadata": {},
   "source": [
    "Filter observations from OECD, where students access and use desktop computers and have positive teacher support."
   ]
  },
  {
   "cell_type": "markdown",
   "metadata": {},
   "source": [
    "**_Countries by region_**\n",
    "\n",
    "#western_europe=['Austria','Belgium' ,'France','Germany','Liechtenstein','Luxembourg','Netherlands', 'Switzerland']\n",
    "\n",
    "#northern_europe=['Denmark','Estonia','Finland','Iceland','Ireland','Latvia','Lithuania','Norway','Sweden','United Kingdom']\n",
    "\n",
    "#transcontinental_countries=['Kazakhstan','Russian Federation','Turkey'] \n",
    "\n",
    "#east_asia=['China-Shanghai', 'Chinese Taipei', 'Macao-China', 'Hong Kong-China', 'Japan']\n",
    "\n",
    "#north_america_subregion=['Canada', 'Mexico', 'United States of America']\n",
    "\n",
    "https://www.worldatlas.com/articles/how-many-countries-are-in-europe.html"
   ]
  },
  {
   "cell_type": "code",
   "execution_count": 1186,
   "metadata": {},
   "outputs": [],
   "source": [
    "# ccreate subregions for the countries\n",
    "transcontinental_countries= ['Kazakhstan', 'Russian Federation', 'Turkey', 'Perm(Russian Federation)']\n",
    "northern_europe= ['Denmark', 'Estonia', 'Finland', 'Iceland', 'Ireland', 'Latvia', 'Norway', 'Sweden', 'United Kingdom']\n",
    "north_america_subregion= ['Canada', 'Mexico'],# 'United States of America'],\n",
    "western_europe= ['Austria', 'Belgium', 'France', 'Germany', 'Liechtenstein', 'Luxembourg', 'Netherlands', 'Switzerland']\n",
    "east_asia= ['China-Shanghai', 'Chinese Taipei', 'Macao-China', 'Hong Kong-China', 'Japan', 'Korea', 'Singapore']\n",
    "southern_europe= ['Greece', 'Italy', 'Portugal', 'Spain'],\n",
    "eastern_europe= ['Czech Republic', 'Hungary', 'Poland', 'Slovak Republic', 'Slovenia', 'Croatia', 'Serbia']\n",
    "oceania= ['Australia', 'New Zealand']\n",
    "latin_america= ['Chile', 'Costa Rica', 'Uruguay']\n",
    "middle_east= ['Israel', 'Jordan']"
   ]
  },
  {
   "cell_type": "code",
   "execution_count": 1187,
   "metadata": {},
   "outputs": [],
   "source": [
    "# pisa above avergae perfomance students\n",
    "def data_df(region):\n",
    "    #filter regional data\n",
    "    pisa_region=pisa_clean.loc[pisa_clean['country']. isin (region)]\n",
    "    subregion=pisa_region\n",
    "    return subregion"
   ]
  },
  {
   "cell_type": "markdown",
   "metadata": {},
   "source": [
    "#### Factor 1: Social-Cultural and Economic status\n",
    "\n",
    "### Visualization"
   ]
  },
  {
   "cell_type": "code",
   "execution_count": 1188,
   "metadata": {},
   "outputs": [],
   "source": [
    "# data for transcontinental_countries oecd countries\n",
    "t_countries=data_df(region=transcontinental_countries)\n",
    "# Remove outliers\n",
    "t_countries_clean = remove_outliers(t_countries, ['social_economic&cultural_index_status'])\n",
    "\n",
    "# Data\n",
    "t_countries_ana=t_countries_clean.groupby('social_economic&cultural_index_status')['total_score'].mean().reset_index()"
   ]
  },
  {
   "cell_type": "code",
   "execution_count": null,
   "metadata": {},
   "outputs": [],
   "source": [
    "# set plot dimensions\n",
    "#plt.figure(figsize=[14, 6])\n",
    "width_in_pixels =1050\n",
    "height_in_pixels =730\n",
    "dpi = 147\n",
    "fig = plt.figure(figsize=(width_in_pixels/dpi, height_in_pixels/dpi))\n",
    "\n",
    "# plot scatter\n",
    "sb.regplot(data = t_countries_ana, x = 'social_economic&cultural_index_status', y = 'total_score', \n",
    "           truncate=False, scatter_kws={'s':1}, line_kws={'color':'orange'})\n",
    "\n",
    "plt.title('Socio-Economic and Cultural status vs. Score in \\n Transcontinental Region', fontsize=15, fontweight='bold')\n",
    "plt.ylabel('Average Score')\n",
    "plt.xlabel('Socio-Economic and Cultural status index')    \n",
    "#plt.xlim(-2,2)\n",
    "plt.tight_layout() \n",
    "# Saving the plot\n",
    "plt.savefig('social_vs_trans_region.jpg', dpi=dpi, bbox_inches='tight')\n",
    "\n",
    "plt.show();"
   ]
  },
  {
   "cell_type": "markdown",
   "metadata": {},
   "source": [
    "### Observation\n",
    "\n",
    "From the visualization above, it is clear that there is a linear positive relationship between student scores and social, economic, and cultural status. Positive social-cultural and economic status have a positive impact on student performance among OECD countries in the transcontinental region."
   ]
  },
  {
   "cell_type": "markdown",
   "metadata": {},
   "source": [
    "#### Factor 2: Perseverance\n",
    "\n",
    "### Visualization"
   ]
  },
  {
   "cell_type": "code",
   "execution_count": 1190,
   "metadata": {},
   "outputs": [],
   "source": [
    "# data for countries in northern europe\n",
    "n_europe=data_df(region=northern_europe)\n",
    "# Remove outliers\n",
    "n_europe_clean = remove_outliers(n_europe, ['perseverance'])\n",
    "\n",
    "# Data\n",
    "n_europe_ana=n_europe_clean.groupby('perseverance')['total_score'].mean().reset_index()"
   ]
  },
  {
   "cell_type": "code",
   "execution_count": null,
   "metadata": {},
   "outputs": [],
   "source": [
    "# set plot dimensions\n",
    "plt.figure(figsize=[14, 6])\n",
    "\n",
    "sb.lmplot(data = n_europe_ana, x = 'perseverance', y = 'total_score', #hue='oecd',\n",
    "           truncate=False, scatter_kws={'s':1}, line_kws={'color':'orange'})\n",
    "plt.title('Perserverence vs. Students Perfomance \\n in Northern Europe', fontsize=16, fontweight='bold')\n",
    "plt.ylabel('Score')\n",
    "plt.xlabel('Perserverence')\n",
    "\n",
    "plt.show();"
   ]
  },
  {
   "cell_type": "markdown",
   "metadata": {},
   "source": [
    "### Observation\n",
    "\n",
    "There is a slight positive relationship between student scores and perseverance among countries in Northern Europe, though a lot of data seem to concentrate at zero suggesting that perseverance might not be a major factor for higher scores in this region."
   ]
  },
  {
   "cell_type": "markdown",
   "metadata": {},
   "source": [
    "#### Factor 3: Teacher and student relations\n",
    "\n",
    "### Visualization"
   ]
  },
  {
   "cell_type": "code",
   "execution_count": null,
   "metadata": {},
   "outputs": [],
   "source": [
    "con=pisa_clean['country'].unique()\n",
    "ct_list=[]\n",
    "\n",
    "for country in con:\n",
    "    ct_list.append(country)\n",
    "print(ct_list)"
   ]
  },
  {
   "cell_type": "code",
   "execution_count": null,
   "metadata": {},
   "outputs": [],
   "source": [
    "df=pisa_clean[north_america_subregion]\n",
    "df"
   ]
  },
  {
   "cell_type": "code",
   "execution_count": null,
   "metadata": {},
   "outputs": [],
   "source": [
    "n_america=data_df(region=north_america_subregion)\n",
    "# Remove outliers\n",
    "#n_america_clean = remove_outliers(n_america, ['teacher_student_relations'])\n",
    "n_america"
   ]
  },
  {
   "cell_type": "code",
   "execution_count": null,
   "metadata": {},
   "outputs": [],
   "source": [
    "# data for countries in northern europe\n",
    "n_america=data_df(region=north_america_subregion)\n",
    "# Remove outliers\n",
    "n_america_clean = remove_outliers(n_america, ['teacher_student_relations'])\n",
    "\n",
    "# Data\n",
    "n_america_ana=n_america_clean.groupby('teacher_student_relations')['total_score'].mean().reset_index()\n",
    "n_america_ana"
   ]
  },
  {
   "cell_type": "code",
   "execution_count": null,
   "metadata": {},
   "outputs": [],
   "source": [
    "# set plot dimensions\n",
    "#plt.figure(figsize=[14, 6])\n",
    "width_in_pixels =1050\n",
    "height_in_pixels =730\n",
    "dpi = 147\n",
    "fig = plt.figure(figsize=(width_in_pixels/dpi, height_in_pixels/dpi))\n",
    "\n",
    "sb.regplot(data = n_america_ana, x = 'teacher_student_relations', y = 'total_score',\n",
    "           truncate=False, scatter_kws={'s':1}, line_kws={'color':'orange'})\n",
    "plt.title('Teacher-Student Relations vs. Score in \\n North America Region', fontsize=15, fontweight='bold')\n",
    "plt.ylabel('Average Score')\n",
    "plt.xlabel('Teacher-Student Relations')\n",
    "\n",
    "plt.tight_layout() \n",
    "# Saving the plot\n",
    "plt.savefig('relation_vs_score.jpg', dpi=dpi, bbox_inches='tight')\n",
    "\n",
    "plt.show();"
   ]
  },
  {
   "cell_type": "markdown",
   "metadata": {},
   "source": [
    "### Observation\n",
    "\n",
    "A lot of data concentrates from zero to 1, suggesting that positive relations between students and teachers impact positively on the student scores in North American countries, which are members of OECD."
   ]
  },
  {
   "cell_type": "markdown",
   "metadata": {},
   "source": [
    "#### Factor 4: Home Possessions\n",
    "\n",
    "### Visualization"
   ]
  },
  {
   "cell_type": "code",
   "execution_count": 136,
   "metadata": {},
   "outputs": [],
   "source": [
    "# data for counties in western europe\n",
    "w_europe=data_df(region=western_europe)\n",
    "# Remove outliers\n",
    "w_europe_clean = remove_outliers(w_europe, ['home_possessions'])\n",
    "\n",
    "# Data\n",
    "w_europe_ana=w_europe_clean.groupby('home_possessions')['total_score'].mean().reset_index()"
   ]
  },
  {
   "cell_type": "code",
   "execution_count": null,
   "metadata": {},
   "outputs": [],
   "source": [
    "# set plot dimensions\n",
    "#plt.figure(figsize=[14, 6])\n",
    "width_in_pixels =1050\n",
    "height_in_pixels =730\n",
    "dpi = 147\n",
    "fig = plt.figure(figsize=(width_in_pixels/dpi, height_in_pixels/dpi))\n",
    "\n",
    "# plot regplot\n",
    "sb.regplot(data = w_europe_ana, x = 'home_possessions', y = 'total_score', \n",
    "           truncate=False, scatter_kws={'s':1}, line_kws={'color':'orange'})\n",
    "plt.title('Home Possessions vs. Score in \\n Western Europe', fontsize=16, fontweight='bold')\n",
    "plt.ylabel('Score')\n",
    "plt.xlabel('Home Possessions')\n",
    "plt.tight_layout() \n",
    "# Saving the plot\n",
    "plt.savefig('posession_score_in_WE.jpg', dpi=dpi, bbox_inches='tight')\n",
    "\n",
    "plt.show();"
   ]
  },
  {
   "cell_type": "markdown",
   "metadata": {},
   "source": [
    "### Observation\n",
    "\n",
    "There is a linear positive relationship between student scores and home possessions. Positive home possessions have a positive impact on student performance among OECD countries in Western Europe."
   ]
  },
  {
   "cell_type": "markdown",
   "metadata": {},
   "source": [
    "#### Factor 5: Students sense of belonging to school\n",
    "\n",
    "### Visualization"
   ]
  },
  {
   "cell_type": "code",
   "execution_count": 145,
   "metadata": {},
   "outputs": [],
   "source": [
    "# data for east asia\n",
    "e_asia=data_df(region=east_asia)\n",
    "# Remove outliers\n",
    "e_asia_clean = remove_outliers(e_asia, ['sense_of_belonging_to_school'])\n",
    "\n",
    "# Data\n",
    "e_asia_ana=e_asia_clean.groupby('sense_of_belonging_to_school')['total_score'].mean().reset_index()"
   ]
  },
  {
   "cell_type": "code",
   "execution_count": null,
   "metadata": {},
   "outputs": [],
   "source": [
    "# set plot dimensions\n",
    "#plt.figure(figsize=[14, 6])\n",
    "width_in_pixels =1050\n",
    "height_in_pixels =730\n",
    "dpi = 147\n",
    "fig = plt.figure(figsize=(width_in_pixels/dpi, height_in_pixels/dpi))\n",
    "\n",
    "\n",
    "sb.regplot(data = e_asia_ana, x = 'sense_of_belonging_to_school', y = 'total_score', \n",
    "           truncate=False, scatter_kws={'s':1}, line_kws={'color':'orange'})\n",
    "plt.title('Sense of belonging to school vs. Score in \\n Eastern Asia', fontsize=16, fontweight='bold')\n",
    "plt.ylabel('Score')\n",
    "plt.xlabel('Students sense of belonging to school')\n",
    "plt.tight_layout() \n",
    "# Saving the plot\n",
    "plt.savefig('sense_WA.jpg', dpi=dpi, bbox_inches='tight')\n",
    "\n",
    "plt.show();"
   ]
  },
  {
   "cell_type": "markdown",
   "metadata": {},
   "source": [
    "### Observation\n",
    "\n",
    "A lot of data concentrates from zero to 1, suggesting that student positive feelings about their school impact positively on their scores in East Asia countries, which are members of OECD."
   ]
  },
  {
   "cell_type": "markdown",
   "metadata": {},
   "source": [
    "#### Factor 6: ICT usage at school\n",
    "\n",
    "In this case, I want to consider ICT usage in all Non-OECD, which participated in the pisa2012 test.\n",
    "\n",
    "### Visualization"
   ]
  },
  {
   "cell_type": "code",
   "execution_count": 148,
   "metadata": {},
   "outputs": [],
   "source": [
    "df=pisa_clean\n",
    "# Remove outliers\n",
    "df_clean = remove_outliers(df, ['ICT_at_school'])\n",
    "\n",
    "# Data\n",
    "df_ana=df_clean.groupby('ICT_at_school')['total_score'].mean().reset_index()"
   ]
  },
  {
   "cell_type": "code",
   "execution_count": null,
   "metadata": {
    "scrolled": true
   },
   "outputs": [],
   "source": [
    "# set plot dimensions\n",
    "plt.figure(figsize=[14, 6])\n",
    "\n",
    "# plot regplot\n",
    "sb.regplot(data = df_ana, x = 'ICT_at_school', y = 'total_score', \n",
    "           truncate=False, scatter_kws={'s':1}, line_kws={'color':'orange'})\n",
    "\n",
    "plt.title('Use of ICT vs. Students Perfomance', fontsize=16, fontweight='bold')\n",
    "plt.ylabel('Score')\n",
    "plt.xlabel('ICT usage')\n",
    "\n",
    "plt.show();"
   ]
  },
  {
   "cell_type": "markdown",
   "metadata": {},
   "source": [
    "### Observation\n",
    "\n",
    "There is a slight linear negative relationship between student scores and student usage of ICT at school within Non-OECD states."
   ]
  },
  {
   "cell_type": "markdown",
   "metadata": {},
   "source": [
    "### Question 16: Does teachers' support has a positive impact on students' scores?"
   ]
  },
  {
   "cell_type": "markdown",
   "metadata": {},
   "source": [
    "### Visualization"
   ]
  },
  {
   "cell_type": "code",
   "execution_count": null,
   "metadata": {},
   "outputs": [],
   "source": [
    "ts=pisa_clean.copy()\n",
    "\n",
    "# Remove outliers\n",
    "ts_clean = remove_outliers(ts, ['teacher_support'])\n",
    "\n",
    "# Data\n",
    "ts_ana=ts_clean.groupby('teacher_support')['total_score'].mean().reset_index()"
   ]
  },
  {
   "cell_type": "code",
   "execution_count": null,
   "metadata": {},
   "outputs": [],
   "source": [
    "# set plot dimensions\n",
    "plt.figure(figsize=[10, 7])\n",
    "\n",
    "# plot heatmap\n",
    "plt.hist2d(data = ts_ana, x = 'teacher_support', y = 'total_score', cmin=0.5, cmap='viridis_r')\n",
    "plt.colorbar()\n",
    "plt.title('Teacher support vs. Students Perfomance', fontsize=16, fontweight='bold')\n",
    "plt.xlabel('teacher support')\n",
    "plt.ylabel('Score')\n",
    "\n",
    "plt.show();"
   ]
  },
  {
   "cell_type": "markdown",
   "metadata": {},
   "source": [
    "### Observation\n",
    "\n",
    "A lot of data concentrates from zero to about 0.8, suggesting that positive teacher support impacts positively on students' scores."
   ]
  },
  {
   "cell_type": "markdown",
   "metadata": {},
   "source": [
    "### Question 17: Does classroom management have a positive impact on students' scores in mathematics?"
   ]
  },
  {
   "cell_type": "markdown",
   "metadata": {},
   "source": [
    "### Visualization"
   ]
  },
  {
   "cell_type": "code",
   "execution_count": 155,
   "metadata": {},
   "outputs": [],
   "source": [
    "mat_cm=pisa_clean.copy()\n",
    "\n",
    "# Remove outliers\n",
    "mat_clean = remove_outliers(mat_cm, ['maths_teacher_classroom_management'])\n",
    "\n",
    "# Data\n",
    "mat_ana=mat_clean.groupby('maths_teacher_classroom_management')['score_in_mathematics'].mean().reset_index()"
   ]
  },
  {
   "cell_type": "code",
   "execution_count": null,
   "metadata": {},
   "outputs": [],
   "source": [
    "# set plot dimensions\n",
    "plt.figure(figsize=[10, 7])\n",
    "\n",
    "# plot heatmap\n",
    "plt.hist2d(data = mat_ana, x = 'maths_teacher_classroom_management', \n",
    "           y = 'score_in_mathematics', cmin=0.5, cmap='vlag_r')\n",
    "plt.colorbar()\n",
    "plt.title('Mathematics Teacher support vs. \\n Students Perfomance', fontsize=16, fontweight='bold')\n",
    "plt.xlabel('Mathematics teacher support')\n",
    "plt.ylabel('Mathematics score')\n",
    "\n",
    "plt.show();"
   ]
  },
  {
   "cell_type": "markdown",
   "metadata": {},
   "source": [
    "### Observation\n",
    "\n",
    "A lot of data concentrates below zero upto -0.5, suggesting that classroom management has little or no significant positive impact on students' mathematics scores."
   ]
  },
  {
   "cell_type": "markdown",
   "metadata": {},
   "source": [
    "### Question 18: Is there any difference in performance distribution between OECD and Non-OECD countries?"
   ]
  },
  {
   "cell_type": "markdown",
   "metadata": {},
   "source": [
    "### Visualization\n",
    "\n",
    "Use box plot"
   ]
  },
  {
   "cell_type": "code",
   "execution_count": null,
   "metadata": {},
   "outputs": [],
   "source": [
    "# set plot dimensions\n",
    "plt.figure(figsize = [7, 5])\n",
    "base_color = sb.color_palette()[0]\n",
    "sb.boxplot(data=pisa_clean, x='oecd', y='total_score', color=base_color)\n",
    "plt.title('Performance Distribution for OECD and Non-OECD', fontsize=16, fontweight='bold')\n",
    "plt.ylabel('Score')\n",
    "\n",
    "plt.show();"
   ]
  },
  {
   "cell_type": "markdown",
   "metadata": {},
   "source": [
    "### Observation\n",
    "\n",
    "The median performance is the same in both OECD and Non-OECD countries. Many students scored between 25% and 75% scores in Non-OECD than in OECD countries."
   ]
  },
  {
   "cell_type": "markdown",
   "metadata": {},
   "source": [
    "### Question 19: Is there any difference in performance distribution female and male students?"
   ]
  },
  {
   "cell_type": "markdown",
   "metadata": {},
   "source": [
    "### Visualization\n",
    "\n",
    "Use violin plot"
   ]
  },
  {
   "cell_type": "code",
   "execution_count": null,
   "metadata": {},
   "outputs": [],
   "source": [
    "# set plot dimensions\n",
    "plt.figure(figsize=[7,5])\n",
    "\n",
    "base_color = sb.color_palette()[0]\n",
    "# violin plot\n",
    "sb.violinplot(data=pisa_clean, x='gender', y='total_score', color=base_color, inner=None) # none removes boxplot\n",
    "plt.title('Perfomance Distribution for Gender', fontsize=16, fontweight='bold')\n",
    "plt.ylabel('Score')\n",
    "\n",
    "plt.show();"
   ]
  },
  {
   "cell_type": "markdown",
   "metadata": {},
   "source": [
    "### Observation\n",
    "\n",
    "Female students who scored about 1500, are more than male students."
   ]
  },
  {
   "cell_type": "markdown",
   "metadata": {},
   "source": [
    "### Question 20: Is there any relationship between mother educational level and home possessions?\n",
    "\n",
    "### Visualization\n",
    "\n",
    "Use point plot"
   ]
  },
  {
   "cell_type": "code",
   "execution_count": 98,
   "metadata": {},
   "outputs": [],
   "source": [
    "# data for transcontinental_countries oecd countries\n",
    "t_countries=data_df(region=transcontinental_countries)\n",
    "# Remove outliers\n",
    "t_countries_clean = remove_outliers(t_countries, ['social_economic&cultural_index_status'])\n",
    "\n",
    "# Data\n",
    "t_countries_ana=t_countries_clean.groupby('social_economic&cultural_index_status')['total_score'].mean().reset_index()"
   ]
  },
  {
   "cell_type": "code",
   "execution_count": null,
   "metadata": {},
   "outputs": [],
   "source": [
    "# set plot dimensions\n",
    "plt.figure(figsize=[12,5])\n",
    "\n",
    "# drop none\n",
    "pisa_mother=pisa_clean.loc[pisa_clean['mother_educational_level'] !='None']\n",
    "edu_order = ['Primary Education', 'Lower Secondary', 'Upper Secondary', 'Post Secondary', \n",
    "             'Vocational Tertiary', 'Post Graduate']\n",
    "sb.pointplot(data=pisa_mother, x='mother_educational_level', y='home_possessions', \n",
    "             color=base_color, \n",
    "            errorbar='sd', order=edu_order) \n",
    "plt.title('Educational level vs. Home possessions', fontsize=16, fontweight='bold')\n",
    "plt.ylabel('Home Possession Score')\n",
    "\n",
    "plt.show();"
   ]
  },
  {
   "cell_type": "markdown",
   "metadata": {},
   "source": [
    "### Observation\n",
    "\n",
    "Lower education level imply low score for home possession"
   ]
  },
  {
   "cell_type": "markdown",
   "metadata": {},
   "source": [
    "## Discussion\n",
    "\n",
    "Like in the previous exploration, I consider the relationship among the categorical features, numeric features, and between categorical and numeric variables. \n",
    "\n",
    "For the main features of interest, the project seeks to investigate how different factors influence performance among students in different regions, which are either members of OECD or Non-OECD. From the visualization created, it is clear that there is a linear positive relationship between student scores and social, economic, and cultural status. Positive social-cultural and economic status have a positive impact on student performance among OECD countries in the transcontinental region. Another factor that influences scores is perseverance. Student scores among countries in Northern Europe seem to concentrate at zero suggesting that perseverance might not be a major factor for higher scores in this region even though the graph shows a slight linear trend. it is also evident that positive home possessions have a positive impact on student performance among OECD countries in Western Europe as shown by the linear positive relationship between student scores and home possessions. In addition, teacher-student relations and student sense of belonging to school also influence students' scores in certain regions. This is because, a lot of data tend to concentrate from zero to 1, which may suggest that positive relations between students and teachers, and teachers' support have a slight influence on positive student scores.\n",
    "\n",
    "Other features considered are gender, use of desktop computers at school, home possessions, and education level of parents among members of OECD and Non-members. The number of students who access and use computers is 42043, which is higher than those who don't use a computer at home whether they access the computers or not. In the case of gender, about 33 percent of female students access and use desktop computers at school compared to 32 percent of male students. comparing home possessions and parent level of education, it is clear from the visualization that a lower education level implies a low score for home possession. lastly, the median performance is the same in both OECD and Non-OECD countries, though many students scored between 25% and 75% scores in non-OECD than in OECD countries. however, it is important to note that, there is no significant difference in performance among females and males as well as between OECD and non-OECD."
   ]
  },
  {
   "cell_type": "markdown",
   "metadata": {},
   "source": [
    "## Multivariate Exploration\n",
    "\n",
    "> In this section, plots of three or more variables have been created to investigate further the previous findings. Several plots such as implot, stripplot, box plot, factor plot, point plot, and facetgrid have been used."
   ]
  },
  {
   "cell_type": "markdown",
   "metadata": {},
   "source": [
    "### Question 21: Is there any difference i performance between gender and grade?\n",
    "\n",
    "### Visualization\n",
    "\n",
    "Use box plot"
   ]
  },
  {
   "cell_type": "code",
   "execution_count": null,
   "metadata": {},
   "outputs": [],
   "source": [
    "# set plot dimensions\n",
    "plt.figure(figsize=[12,5])\n",
    "\n",
    "# plot box\n",
    "ax=sb.boxplot(data=pisa_clean, x='international_grade', y='total_score', hue='gender', order=grade_order)\n",
    "ax.set_title(\"Gender and Grade Performance Comparison\", fontsize=14, fontweight='bold');\n",
    "ax.set(ylabel='Score')\n",
    "# clean and position the legend\n",
    "box = ax.get_position()\n",
    "ax.set_position([box.x0, box.y0, box.width, box.height])\n",
    "ax.legend(title=\"Gender\", loc='center left', bbox_to_anchor=(1.1, 0.08))\n",
    "\n",
    "plt.show();"
   ]
  },
  {
   "cell_type": "markdown",
   "metadata": {},
   "source": [
    "### Observation\n",
    "\n",
    "Grade 10 males have the most spread in performance"
   ]
  },
  {
   "cell_type": "markdown",
   "metadata": {},
   "source": [
    "### Question 22: How does perseverance relate to gender performance?\n",
    "\n",
    "### Visualization\n",
    "\n",
    "Use faceted heat maps"
   ]
  },
  {
   "cell_type": "code",
   "execution_count": 101,
   "metadata": {},
   "outputs": [],
   "source": [
    "# data for transcontinental_countries oecd countries\n",
    "t_countries=data_df(region=transcontinental_countries)\n",
    "# Remove outliers\n",
    "t_countries_clean = remove_outliers(t_countries, ['social_economic&cultural_index_status'])\n",
    "\n",
    "# Data\n",
    "t_countries_ana=t_countries_clean.groupby('social_economic&cultural_index_status')['total_score'].mean().reset_index()"
   ]
  },
  {
   "cell_type": "code",
   "execution_count": 102,
   "metadata": {},
   "outputs": [],
   "source": [
    "def hist2dgrid(x, y, **kwargs):\n",
    "    '\"create function to return two dimension histogram\"'\n",
    "    palette = kwargs.pop('color')\n",
    "    bins_x = np.arange(-2, 2+0.2,0.2)\n",
    "    bins_y = np.arange(pisa_clean['total_score'].min(), pisa_clean['total_score'].max()+100, 100)\n",
    "    plt.hist2d(x, y, bins = [bins_x, bins_y], cmap = palette, cmin = 0.5)"
   ]
  },
  {
   "cell_type": "code",
   "execution_count": null,
   "metadata": {},
   "outputs": [],
   "source": [
    "# create faceted heat maps on gender\n",
    "g = sb.FacetGrid(data = pisa_clean, col = 'gender', col_wrap = 2)\n",
    "g.map(hist2dgrid, 'perseverance', 'total_score', color = 'inferno')\n",
    "g.set_xlabels(\"perseverance\")\n",
    "g.set_ylabels('Score')\n",
    "# set plot dimensions\n",
    "g.fig.set_size_inches(12, 6)\n",
    "\n",
    "plt.show();"
   ]
  },
  {
   "cell_type": "markdown",
   "metadata": {},
   "source": [
    "### Observation\n",
    "\n",
    "The score tends to concentrate at zero, implying that the effect of perseverance on student performance is not significantly different for both male and female students."
   ]
  },
  {
   "cell_type": "markdown",
   "metadata": {},
   "source": [
    "### Question 23: How do teacher-student relations and students' sense of belonging to school among affect gender performance?\n",
    "\n",
    "### Visualization\n",
    "\n",
    "Use faceted heat maps"
   ]
  },
  {
   "cell_type": "code",
   "execution_count": 104,
   "metadata": {},
   "outputs": [],
   "source": [
    "# data for transcontinental_countries oecd countries\n",
    "t_countries=data_df(region=transcontinental_countries)\n",
    "# Remove outliers\n",
    "t_countries_clean = remove_outliers(t_countries, ['social_economic&cultural_index_status'])\n",
    "\n",
    "# Data\n",
    "t_countries_ana=t_countries_clean.groupby('social_economic&cultural_index_status')['total_score'].mean().reset_index()"
   ]
  },
  {
   "cell_type": "code",
   "execution_count": null,
   "metadata": {},
   "outputs": [],
   "source": [
    "# create faceted heat maps on oecd\n",
    "g = sb.FacetGrid(data = pisa_clean, col = 'gender', col_wrap = 2)\n",
    "g.map(hist2dgrid, 'sense_of_belonging_to_school', 'total_score', color = 'viridis_r') \n",
    "g.set_xlabels(\"Student's Sense of belonging to school\")\n",
    "g.set_ylabels('Score')\n",
    "g.fig.set_size_inches(12, 6);\n",
    "\n",
    "# create faceted heat maps on oecd\n",
    "g = sb.FacetGrid(data = pisa_clean, col = 'gender', col_wrap = 2)\n",
    "g.map(hist2dgrid, 'teacher_student_relations', 'total_score', color = 'inferno_r')\n",
    "g.set_xlabels(\"Teacher-Student Relations\")\n",
    "g.set_ylabels('Score')#Teacheer student Relations\n",
    "g.fig.set_size_inches(12, 6)\n",
    "\n",
    "plt.show();"
   ]
  },
  {
   "cell_type": "markdown",
   "metadata": {},
   "source": [
    "### Observation\n",
    "\n",
    "Performance of male students seems to be positively influenced by teacher-student relations as compared to female students while there are no significant differences in performance in the case of student's sense of belonging to school."
   ]
  },
  {
   "cell_type": "code",
   "execution_count": 106,
   "metadata": {},
   "outputs": [],
   "source": [
    "# data for transcontinental_countries oecd countries\n",
    "t_countries=data_df(region=transcontinental_countries)\n",
    "# Remove outliers\n",
    "t_countries_clean = remove_outliers(t_countries, ['social_economic&cultural_index_status'])\n",
    "\n",
    "# Data\n",
    "t_countries_ana=t_countries_clean.groupby('social_economic&cultural_index_status')['total_score'].mean().reset_index()"
   ]
  },
  {
   "cell_type": "code",
   "execution_count": null,
   "metadata": {},
   "outputs": [],
   "source": [
    "def hist2dgrid(x, y, **kwargs):\n",
    "    '\"create function to return two dimension histogram\"'\n",
    "    palette = kwargs.pop('color')\n",
    "    bins_x = np.arange(-2, 2+0.2,0.2)\n",
    "    bins_y = np.arange(-2, 2+0.2, 0.2)\n",
    "    plt.hist2d(x, y, bins = [bins_x, bins_y], cmap = palette, cmin = 0.5)\n",
    "    \n",
    "# create sample data\n",
    "pisa_og=pisa_clean.sample(2000)\n",
    "\n",
    "# create faceted heat maps on oecd\n",
    "g = sb.FacetGrid(data = pisa_og, col = 'oecd', col_wrap = 2)\n",
    "g.map(hist2dgrid, 'sense_of_belonging_to_school', 'teacher_student_relations', color = 'inferno_r')\n",
    "g.set_xlabels(\"Student's Sense of belonging to school\")\n",
    "g.set_ylabels('Teacheer student Relations')\n",
    "# set plot dimensions\n",
    "g.fig.set_size_inches(10,4)\n",
    "\n",
    "# create faceted heat maps on oecd\n",
    "g = sb.FacetGrid(data = pisa_og, col = 'gender', col_wrap = 2)\n",
    "g.map(hist2dgrid, 'sense_of_belonging_to_school', 'teacher_student_relations', color = 'inferno_r')\n",
    "g.set_xlabels(\"Students' sense of belonging to school\")\n",
    "g.set_ylabels('Teacheer student Relations')\n",
    "# set plot dimensions\n",
    "g.fig.set_size_inches(10,4)\n",
    "\n",
    "plt.show();"
   ]
  },
  {
   "cell_type": "markdown",
   "metadata": {},
   "source": [
    "The relationship between teacher-student relations and a sense of belonging is a linear trend for both males and females as well as among the OECD members and non-members."
   ]
  },
  {
   "cell_type": "code",
   "execution_count": 108,
   "metadata": {},
   "outputs": [],
   "source": [
    "# data for transcontinental_countries oecd countries\n",
    "t_countries=data_df(region=transcontinental_countries)\n",
    "# Remove outliers\n",
    "t_countries_clean = remove_outliers(t_countries, ['social_economic&cultural_index_status'])\n",
    "\n",
    "# Data\n",
    "t_countries_ana=t_countries_clean.groupby('social_economic&cultural_index_status')['total_score'].mean().reset_index()"
   ]
  },
  {
   "cell_type": "code",
   "execution_count": 109,
   "metadata": {},
   "outputs": [],
   "source": [
    "pisa_var=pisa_clean.groupby(['sense_of_belonging_to_school', 'teacher_student_relations', 'gender'])['total_score'].mean()\n"
   ]
  },
  {
   "cell_type": "code",
   "execution_count": 110,
   "metadata": {},
   "outputs": [],
   "source": [
    "def lmplot_graph(col):\n",
    "    # create sample\n",
    "    pisa_clean.loc[(pisa_clean['oecd']=='OECD') & (pisa_clean['school_desktop_computer']==\"Yes, and I use it\") & \n",
    "                             (pisa_clean['teacher_support']>=0)]\n",
    "    pisa_var=pisa_clean.groupby(['sense_of_belonging_to_school', 'teacher_student_relations', 'gender'])['total_score'].mean().reset_index()\n",
    "    #pisa_var = pisa_clean.sample(400)\n",
    "    sb.lmplot(x=col, y=\"total_score\", hue=\"gender\", data=pisa_var,  \n",
    "          palette='inferno_r',  markers=['v', 'x'], truncate=True, legend=\"full\", fit_reg=False)"
   ]
  },
  {
   "cell_type": "code",
   "execution_count": null,
   "metadata": {},
   "outputs": [],
   "source": [
    "# set plot dimensions\n",
    "plt.figure(figsize = [16, 10])\n",
    "# create implot\n",
    "lmplot_graph(col='sense_of_belonging_to_school')\n",
    "plt.title('Sense of belongning to school vs. Score', fontsize=16, fontweight='bold')\n",
    "plt.xlabel('Sense of belongning to school');\n",
    "\n",
    "lmplot_graph(col='teacher_student_relations')\n",
    "plt.title('Teacher-Student Relations vs. Score', fontsize=16, fontweight='bold')\n",
    "plt.xlabel('Teacher-Student Relations')\n",
    "\n",
    "plt.show();"
   ]
  },
  {
   "cell_type": "markdown",
   "metadata": {},
   "source": [
    "Performance of male students seems to be positively influenced by sense of belonging to school as compared to male students while that of female students seems to be positively influenced by teacher-student relations as compared to male students "
   ]
  },
  {
   "cell_type": "markdown",
   "metadata": {},
   "source": [
    "### Question 24: How does the use of a school desktop computer relate to scores for different grades?\n",
    "\n",
    "\n",
    "### Visualization\n",
    "\n",
    "Use factor plot"
   ]
  },
  {
   "cell_type": "code",
   "execution_count": null,
   "metadata": {},
   "outputs": [],
   "source": [
    "# factor plot\n",
    "g=sb.catplot(data=pisa_clean, x=\"international_grade\", y=\"total_score\", hue=\"school_desktop_computer\",\n",
    "                kind='bar', order=grade_order)\n",
    "plt.title('School computer usage vs. Grade scores', fontsize=16, fontweight='bold')\n",
    "g.set_xlabels(\"Grade\")\n",
    "g.set_ylabels('Score')\n",
    "g.fig.set_size_inches(10, 5)\n",
    "\n",
    "plt.show();"
   ]
  },
  {
   "cell_type": "markdown",
   "metadata": {},
   "source": [
    "### Observation\n",
    "\n",
    "In grade 12, students who access or are in schools with desktop computers but don't use them have the lowest scores as compared to the performance of students who are in schools with no desktop computers. The score for students who use school computers has remained high in all the grades."
   ]
  },
  {
   "cell_type": "markdown",
   "metadata": {},
   "source": [
    "### Question 25: How does the use of a school desktop computer affect scores for different ages?\n",
    "\n",
    "### Visualization\n",
    "\n",
    "Use point plot"
   ]
  },
  {
   "cell_type": "code",
   "execution_count": 113,
   "metadata": {},
   "outputs": [],
   "source": [
    "# Data\n",
    "pisa_ict=pisa_clean.groupby(['international_grade', 'school_desktop_computer'])['total_score'].mean()\n",
    "pisa_ict=pisa_ict.reset_index()"
   ]
  },
  {
   "cell_type": "code",
   "execution_count": null,
   "metadata": {},
   "outputs": [],
   "source": [
    "# set plot dimensions\n",
    "#plt.figure(figsize = [10,6])\n",
    "width_in_pixels = 1200\n",
    "height_in_pixels =730\n",
    "dpi = 120\n",
    "fig = plt.figure(figsize=(width_in_pixels/dpi, height_in_pixels/dpi))\n",
    "\n",
    "# plot point plot\n",
    "sb.pointplot(data = pisa_ict, x = 'international_grade', y = 'total_score', hue = 'school_desktop_computer', \n",
    "                  palette = 'Blues', linestyles = '', dodge = 0.4, order=grade_order)\n",
    "plt.title('Performance across Grade and School desktop computer', fontsize=16, fontweight='bold')\n",
    "plt.ylabel('Score')\n",
    "plt.xlabel('Grade')\n",
    "\n",
    "plt.tight_layout() \n",
    "# Saving the plot\n",
    "plt.savefig('score_by_ict_grade.jpg', dpi=dpi, bbox_inches='tight')\n",
    "\n",
    "plt.show();"
   ]
  },
  {
   "cell_type": "markdown",
   "metadata": {},
   "source": [
    "### Observation\n",
    "\n",
    "Students who have no access to computer have constant low scores across all grades."
   ]
  },
  {
   "cell_type": "markdown",
   "metadata": {},
   "source": [
    "### Question 26: How does the use of a school desktop computer affect scores for different ages?\n",
    "\n",
    "### Visualization\n",
    "\n",
    "Use point plot"
   ]
  },
  {
   "cell_type": "code",
   "execution_count": null,
   "metadata": {},
   "outputs": [],
   "source": [
    "# Data\n",
    "pisa_gender=pisa_clean.groupby(['international_grade', 'gender'])['total_score'].mean()\n",
    "pisa_gender=pisa_gender.reset_index()\n",
    "pisa_gender"
   ]
  },
  {
   "cell_type": "code",
   "execution_count": null,
   "metadata": {},
   "outputs": [],
   "source": [
    "# set plot dimensions\n",
    "#plt.figure(figsize = [10,6])\n",
    "width_in_pixels = 1200\n",
    "height_in_pixels =730\n",
    "dpi = 120\n",
    "fig = plt.figure(figsize=(width_in_pixels/dpi, height_in_pixels/dpi))\n",
    "\n",
    "ax = sb.pointplot(data = pisa_gender, x = 'international_grade', y = 'total_score',hue = 'gender', \n",
    "                  palette = 'cividis', linestyles = '', dodge = 0.4, order=grade_order)\n",
    "plt.title('Gender vs. Grade performance', fontsize=16, fontweight='bold')\n",
    "plt.ylabel('Average Score')\n",
    "plt.xlabel('Grade')\n",
    "\n",
    "plt.tight_layout() \n",
    "# Saving the plot\n",
    "plt.savefig('score_by_gender_grade.jpg', dpi=dpi, bbox_inches='tight')\n",
    "\n",
    "plt.show();"
   ]
  },
  {
   "cell_type": "markdown",
   "metadata": {},
   "source": [
    "### Observation\n",
    "\n",
    "Male students in grade 7 performed lower than those in grade 12 compared to their female counterparts. There is no significant difference in scores among female and male students in the other grades."
   ]
  },
  {
   "cell_type": "markdown",
   "metadata": {},
   "source": [
    "### Question 27: How does the parent level of education affect gender scores?\n",
    "\n",
    "### Visualization\n",
    "\n",
    "Use strip plot"
   ]
  },
  {
   "cell_type": "code",
   "execution_count": null,
   "metadata": {},
   "outputs": [],
   "source": [
    "# Data\n",
    "pisa_mom=pisa_clean.groupby(['father_educational_level', 'mother_educational_level', 'gender'])['total_score'].mean()\n",
    "pisa_mom=pisa_mom.reset_index()\n",
    "pisa_mom"
   ]
  },
  {
   "cell_type": "code",
   "execution_count": null,
   "metadata": {},
   "outputs": [],
   "source": [
    "# Combine both father and mother education levels into one DataFrame\n",
    "data = pisa_mom.melt(\n",
    "    id_vars=[\"total_score\", \"gender\"],\n",
    "    value_vars=[\"father_educational_level\", \"mother_educational_level\"],\n",
    "    var_name=\"Parent\",\n",
    "    value_name=\"Education Level\"\n",
    ")\n",
    "\n",
    "#edu_order = ['No Education', 'Primary', 'Secondary', 'Tertiary']\n",
    "\n",
    "# Create a violin plot\n",
    "sb.violinplot(\n",
    "    x=\"Education Level\",\n",
    "    y=\"total_score\",\n",
    "    hue=\"gender\",\n",
    "    data=data,\n",
    "    split=True,\n",
    "    order=edu_order,\n",
    "    inner=\"quartile\"\n",
    ")\n",
    "plt.title(\"Gender Scores by Parental Education Level\", fontsize=16, fontweight=\"bold\")\n",
    "plt.xlabel(\"Education Level\", fontsize=12)\n",
    "plt.ylabel(\"Total Score\", fontsize=12)\n",
    "plt.xticks(rotation=45)\n",
    "plt.legend(title=\"Gender\")\n",
    "plt.tight_layout()\n",
    "plt.show()\n"
   ]
  },
  {
   "cell_type": "code",
   "execution_count": null,
   "metadata": {},
   "outputs": [],
   "source": [
    "# set plot dimensions\n",
    "#plt.figure(figsize = [12,6])\n",
    "width_in_pixels = 1200\n",
    "height_in_pixels =730\n",
    "dpi = 120\n",
    "fig = plt.figure(figsize=(width_in_pixels/dpi, height_in_pixels/dpi))\n",
    "\n",
    "# create a sample\n",
    "#pisa_mom = pisa_edum.sample(10000)\n",
    "\n",
    "# plot\n",
    "sb.stripplot(x= 'mother_educational_level', y=\"total_score\", hue=\"gender\", data=pisa_mom, \n",
    "                jitter=0.35, size=2, dodge=True, order=edu_order)#dodge resolves overlapping, jitter cannot be used for cont var\n",
    "plt.title('Gender Scores by Mother Education Level', fontsize=16, fontweight='bold')\n",
    "plt.ylabel('Score')\n",
    "plt.xlabel('Mother Education Level')\n",
    "\n",
    "plt.tight_layout() \n",
    "# Saving the plot\n",
    "plt.savefig('score_by_mo_edu.jpg', dpi=dpi, bbox_inches='tight')\n",
    "\n",
    "plt.show();"
   ]
  },
  {
   "cell_type": "code",
   "execution_count": null,
   "metadata": {},
   "outputs": [],
   "source": [
    "region = {\n",
    "    'transcontinental_countries': ['Kazakhstan', 'Russian Federation', 'Turkey', 'Perm(Russian Federation)'],\n",
    "    'northern_europe': ['Denmark', 'Estonia', 'Finland', 'Iceland', 'Ireland', 'Latvia', 'Norway', 'Sweden', 'United Kingdom'],\n",
    "    'north_america_subregion': ['Canada', 'Mexico', 'United States of America'],\n",
    "    'western_europe': ['Austria', 'Belgium', 'France', 'Germany', 'Liechtenstein', 'Luxembourg', 'Netherlands', 'Switzerland'],\n",
    "    'east_asia': ['China-Shanghai', 'Chinese Taipei', 'Macao-China', 'Hong Kong-China', 'Japan', 'Korea', 'Singapore'],\n",
    "    'southern_europe': ['Greece', 'Italy', 'Portugal', 'Spain'],\n",
    "    'eastern_europe': ['Czech Republic', 'Hungary', 'Poland', 'Slovak Republic', 'Slovenia', 'Croatia', 'Serbia'],\n",
    "    'oceania': ['Australia', 'New Zealand'],\n",
    "    'latin_america': ['Chile', 'Costa Rica', 'Uruguay'],\n",
    "    'middle_east': ['Israel', 'Jordan']\n",
    "}\n",
    "\n",
    "# Copy\n",
    "#pisa_clean['country'] = pisa_clean['country'].str.strip()\n",
    "pisa_region=pisa_clean.copy()\n",
    "# Create a reverse mapping of country to region\n",
    "country_to_region = {country: region_name for region_name, countries in region.items() for country in countries}\n",
    "\n",
    "# Add the region column to pisa_clean\n",
    "pisa_region['region'] = pisa_region['country'].map(country_to_region).fillna('Unknown Region')\n",
    "\n",
    "pisa_region"
   ]
  },
  {
   "cell_type": "code",
   "execution_count": 121,
   "metadata": {},
   "outputs": [],
   "source": [
    "# data for transcontinental_countries oecd countries\n",
    "t_countries=data_df(region=transcontinental_countries)\n",
    "# Remove outliers\n",
    "t_countries_clean = remove_outliers(t_countries, ['social_economic&cultural_index_status'])\n",
    "\n",
    "# Data\n",
    "t_countries_ana=t_countries_clean.groupby('social_economic&cultural_index_status')['total_score'].mean().reset_index()"
   ]
  },
  {
   "cell_type": "code",
   "execution_count": null,
   "metadata": {},
   "outputs": [],
   "source": [
    "t_countries=pisa_clean.groupby(['oecd', 'social_economic&cultural_index_status'])['total_score'].mean().reset_index()\n",
    "t_countries"
   ]
  },
  {
   "cell_type": "code",
   "execution_count": null,
   "metadata": {},
   "outputs": [],
   "source": [
    "width_in_pixels =1050\n",
    "height_in_pixels =736\n",
    "dpi = 150\n",
    "fig = plt.figure(figsize=(width_in_pixels/dpi, height_in_pixels/dpi))\n",
    "\n",
    "# Example Bubble Chart\n",
    "sb.scatterplot(\n",
    "    data=t_countries,\n",
    "    x='social_economic&cultural_index_status',\n",
    "    y='total_score',\n",
    "    hue='oecd',  # Categorical grouping by color\n",
    "    size='total_score',  # Third variable to represent bubble size\n",
    "    sizes=(5, 200),  # Adjust the minimum and maximum bubble sizes\n",
    "    #palette='tab10',  # Color palette for regions\n",
    "    alpha=0.3,  # Transparency for better visibility\n",
    "    legend=True,\n",
    "    palette='cividis'\n",
    ")\n",
    "\n",
    "# Add labels and title\n",
    "plt.title(\"Bubble Chart: Socio-Economic Status vs Total Score by Region\")\n",
    "plt.xlabel(\"Social Economic & Cultural Index Status\")\n",
    "plt.ylabel(\"Average Score\")\n",
    "plt.xlim(-0.2,3.2)\n",
    "plt.legend(bbox_to_anchor=(1.05, 1), loc='upper left')  # Move legend outside the plot\n",
    "plt.tight_layout()  # Adjust layout to avoid clipping\n",
    "plt.show()\n"
   ]
  },
  {
   "cell_type": "code",
   "execution_count": null,
   "metadata": {},
   "outputs": [],
   "source": [
    "pisa_reg=pisa_region.groupby(['region', 'country'])['total_score'].mean().reset_index().sort_values(by='total_score', ascending=False)\n",
    "pisa_reg"
   ]
  },
  {
   "cell_type": "code",
   "execution_count": null,
   "metadata": {},
   "outputs": [],
   "source": [
    "sb.barplot(data=pisa_reg, y='country', x='total_score', hue='region', dodge=False)\n",
    "plt.show();"
   ]
  },
  {
   "cell_type": "markdown",
   "metadata": {},
   "source": [
    "### Observation\n",
    "\n",
    "Most of the students, males, and females who scored highest on the Pisa test had mothers attaining at least post-secondary education."
   ]
  },
  {
   "cell_type": "markdown",
   "metadata": {},
   "source": [
    "## Discussion\n",
    "\n",
    "In multivariate exploration, just like it's been observed earlier, teacher-student relations have a direct impact on the student's sense of belonging to a school for both genders in OECD and Non-OECD countries. It is also observed that in grade 12, students who access or are in schools with desktop computers but don't use them have the lowest scores as compared to the performance of students who are in schools with no desktop computers. The score for students who use school computers has remained high in all the grades. In addition, students who were born in April 1997 and do not have access to a desktop computer at school have the lowest score. The same trend is observed for other dates of birth except those born in March 1997. Interestingly, most of the students who scored highest on the Pisa test had their mothers having post-graduate education.\n",
    "\n",
    "Surprising interactions observed is that grade 10 males have the most spread in performance compared to other grades. Whereas perseverance has been shown to influence performance positively under bivariate exploration, in this case, the effect of perseverance on student performance is not significantly different for both male and female students. Lastly, male students in grade 7 performed lower than those in grade 12 compared to their female counterparts."
   ]
  },
  {
   "cell_type": "markdown",
   "metadata": {},
   "source": [
    "## Conclusions\n",
    "\n",
    ">The project sought to investigate (a) how the choice of a school play into academic performance (b) whether there are differences in achievement based on gender, location, or student attitudes, and (c) whether there are differences in achievement based on teacher practices and attitudes. Since the dataset is complex, my main features of interest in the dataset are the plausible values for mathematics, science, and reading and how these values are influenced by different factors under study. According to the Pisa2012 report, these plausible values are not the real scores for the listed subjects but are imputed values, which resemble individual test scores and have nearly the same distribution as the latent trait being measured. Many different factors can impact these scores and therefore the average of these estimates across the subgroups has been computed to give the best estimates of the group-level statistics of interest. Features in the dataset that will help support my investigations include the student's country of residence, country economic level (OECD or not), gender, parents' level of education, access to a computer at school and at home, home possession, age, perseverance, sense of Belonging to School, teacher-student relations, teacher support, and socio-economic and cultural status index.\n",
    "\n",
    "> From the univariate exploration, it is evident that Mexico has the highest number of students interviewed and that female students were mostly interviewed. Also, the majority of the students access and use a desktop computer at school and home as compared to those who don’t access or use the computer. Of the quantitative variables considered it is clear that all the features have outliers despite most of them being normally distributed. Some of the visualizations could not be plotted with the data initially stored and therefore had to be readjusted and changed by dropping missing values.\n",
    "\n",
    "> Bivariate exploration seeks to investigate how different factors influence performance among students in different regions, which are either members of OECD or Non-OECD. Visualization created in this case shows that there is a linear positive relationship between student scores and social, economic, and cultural status. Positive social-cultural and economic status have a positive impact on student performance among OECD countries in the transcontinental region. Another factor that influences scores is perseverance. student scores among countries in Northern Europe seem to concentrate at zero suggesting that perseverance has a slight effect on student performance. It is also evident that positive home possessions have a positive impact on student performance among OECD countries in Western Europe as shown by the linear positive relationship between student scores and home possessions. In addition, teacher-student relations and student sense of belonging to school also influence students' scores in certain regions. This is because, a lot of data tend to concentrate from zero to 1, which may suggest that positive relations between students and teachers, and teachers' support have a slight influence on positive student scores. It is also significant to note that in the case of gender, about 33 percent of female students access and use desktop computers at school compared to 32 percent of male students. Whereas the median performance is the same in both OECD and Non-OECD countries, many students scored between 25% and 75% scores in non-OECD than in OECD countries. However, it is important to note that, there is no significant difference in performance among females and males as well as between OECD and non-OECD. Comparing home possessions and parent level of education, it is clear from the visualization that a lower education level implies a low score for home possession. \n",
    "\n",
    "> Further exploration through multivariate visualization reveals that the the choice of a school play into academic performance as such students scores are high in schools with desktop computer, which are used by students. It is also observed that in grade 12, students who access or are in schools with desktop computers but don't use them have the lowest scores as compared to the performance of students who are in schools with no desktop computers. The score for students who use school computers has remained high in all the grades. \n",
    "\n",
    "> As to whether there are differences in achievement based on gender, location, or student attitudes, what is evident is that positive social-cultural and economic status have a positive impact on student performance among OECD countries. However, it is important to note that, there is no significant difference in performance among females and males as well as between OECD and non-OECD.\n",
    "\n",
    "> Lastly, there are differences in achievement based on teacher practices and attitudes. It is been confirmed in the multivariate exploration, just like it's been observed earlier that teacher-student relations have a direct impact on the student's sense of belonging to a school for both genders in OECD and Non-OECD countries. Such positive relations and student sense of belonging to school positively influence students' scores in certain regions. This is because, a lot of data tend to concentrate from zero to 1, which may suggest that positive relations between students and teachers, and teachers' support have a slight influence on positive student scores."
   ]
  }
 ],
 "metadata": {
  "kernelspec": {
   "display_name": "base",
   "language": "python",
   "name": "python3"
  },
  "language_info": {
   "codemirror_mode": {
    "name": "ipython",
    "version": 3
   },
   "file_extension": ".py",
   "mimetype": "text/x-python",
   "name": "python",
   "nbconvert_exporter": "python",
   "pygments_lexer": "ipython3",
   "version": "3.9.12"
  }
 },
 "nbformat": 4,
 "nbformat_minor": 2
}
