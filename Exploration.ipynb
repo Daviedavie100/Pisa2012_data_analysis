{
 "cells": [
  {
   "cell_type": "markdown",
   "metadata": {},
   "source": [
    "# Pisa 2012 Dataset\n",
    "\n",
    "## David Owino\n",
    "\n",
    "## Introduction\n",
    "\n",
    "International Student Assessment (PISA) is a program initiated by OECD member states to measure how well 15-year-old students at the end of their compulsory schooling are prepared to meet today’s challenges affecting societies. The assessment, which takes place after every three years only focuses on the student's ability to use the skills and knowledge acquired at school to solve real-life challenges. \n",
    "\n",
    "PISA is an age-based survey, assessing 15-year-old students in school in grade 7 or higher. About 510,000 students in 65 economies took part in the PISA 2012 assessment of reading, mathematics, science, and financial literacy representing about 28 million 15-year-olds globally. The database also includes students' responses to Questionnaires that they completed as \n",
    "part of the assessment. Of those economies, 44 took part in an assessment of creative problem solving and 18 in an assessment of financial literacy.\n",
    "\n",
    "Two datasets are used in this project. Pisa2012.csv dataset, which contains 485490 observations and 636 coded features, and pisadict.csv containing 635 columns and their descriptions\n",
    "\n",
    "\n",
    "https://www.oecd.org/pisa/pisaproducts/PISA-2012-technical-report-final.pdf\n",
    "\n",
    "\n",
    "## Preliminary Wrangling\n"
   ]
  },
  {
   "cell_type": "code",
   "execution_count": 81,
   "metadata": {},
   "outputs": [],
   "source": [
    "# import all packages and set plots to be embedded inline\n",
    "import numpy as np\n",
    "import pandas as pd\n",
    "import matplotlib.pyplot as plt\n",
    "import seaborn as sb\n",
    "import zipfile\n",
    "import requests\n",
    "\n",
    "%matplotlib inline"
   ]
  },
  {
   "cell_type": "markdown",
   "metadata": {},
   "source": [
    ">  Download and load the datasets. The pisa2012.csv is a zip file and is approximately 2.75GB when extracted, while pisadict is a csv file containing feature descriptions. The two datasets are programmatically downloaded from Udacity servers and stored on the local computer. And because of the large size, only data for the selected columns are uploaded for this project, however, the method used is provided in the Markdown cells\n"
   ]
  },
  {
   "cell_type": "markdown",
   "metadata": {},
   "source": [
    "Download pisa2012.csv.zip file into the working directory"
   ]
  },
  {
   "cell_type": "code",
   "execution_count": 82,
   "metadata": {},
   "outputs": [],
   "source": [
    "# Download pisa2012.csv.zip file\n",
    "url = 'https://s3.amazonaws.com/udacity-hosted-downloads/ud507/pisa2012.csv.zip'# provided url\n",
    "\n",
    "# Downloading the file by sending the request to the URL\n",
    "#req = requests.get(url)\n",
    " \n",
    "# Split URL to get the file name\n",
    "#filename = url.split('/')[-1]\n",
    " \n",
    "# Writing the file into the working directory\n",
    "#with open(filename,'wb') as output_file:\n",
    "    #output_file.write(req.content)"
   ]
  },
  {
   "cell_type": "markdown",
   "metadata": {},
   "source": [
    "Extract the downloaded zip file"
   ]
  },
  {
   "cell_type": "code",
   "execution_count": 83,
   "metadata": {},
   "outputs": [],
   "source": [
    "#with zipfile.ZipFile('pisa2012.csv.zip', 'r') as myzip:\n",
    "    #myzip.extractall()"
   ]
  },
  {
   "cell_type": "markdown",
   "metadata": {},
   "source": [
    "Read and load the extracted pisa data to dataframe"
   ]
  },
  {
   "cell_type": "code",
   "execution_count": 84,
   "metadata": {},
   "outputs": [],
   "source": [
    "#path_data='C:/Users/Davie/Desktop/Data/project_3/'\n",
    "#df_pisa=pd.read_csv(path_data + 'pisa2012.csv', encoding = 'latin-1', low_memory=False, index_col=False)\n",
    "#df_pisa"
   ]
  },
  {
   "cell_type": "markdown",
   "metadata": {},
   "source": [
    "Download the the dictionary for pisa2012 features"
   ]
  },
  {
   "cell_type": "code",
   "execution_count": 85,
   "metadata": {},
   "outputs": [],
   "source": [
    "# url for pisa dictionary\n",
    "file_url='https://s3.amazonaws.com/udacity-hosted-downloads/ud507/pisadict2012.csv'\n",
    "\n",
    "# store resquest response in csv_response\n",
    "#csv_response=requests.get(file_url)\n",
    "\n",
    "# write the response to 'pisadict2012.csv'\n",
    "#with open('pisadict2012.csv', 'w') as f:\n",
    "    #f.write(csv_response.text)"
   ]
  },
  {
   "cell_type": "code",
   "execution_count": null,
   "metadata": {},
   "outputs": [],
   "source": [
    "# read,load and transpose pisadict.csv data\n",
    "path_dict='C:/Users/Davie/Desktop/Data/project_3/'\n",
    "pisa_dict_r=pd.read_csv(path_dict + 'pisadict2012.csv', encoding='latin-1')\n",
    "pisa_dict_r.head(5)"
   ]
  },
  {
   "cell_type": "markdown",
   "metadata": {},
   "source": [
    "### Dataset structure\n",
    "\n",
    "> There are two datasets for this project. Pisa2012.csv file for this project is contained in a compressed zip file. The csv file is 2.75GB when extracted. It contains data from 485490 sampled students with 636 features. The dataset contains the results from mathematics, science, readings, and financial literacy examinations as well as students' age, country of residence, family possessions, school and home ICT facilities, first language, education level of the father and mother, occupations, and student's interest and motivations among others. Pisadict2012.csv is 35.4kB containing 636 coded column names and their descriptions.\n",
    "\n",
    "\n",
    "### Main features of interest in the dataset\n",
    "\n",
    "> The main features of the dataset are the plausible values for mathematics, science, and reading. According to pisa 2012 report, these plausible values are not the real scores for the listed subjects but are imputed values, which resemble individual test scores and have nearly the same distribution as the latent trait being measured. Many different factors can impact these scores and therefore the average of these estimates across the subgroups will give us the best estimates of the group-level statistics of interest https://www.researchgate.net/publication/257822398_What_are_plausible_values_and_why_are_they_useful\n",
    "\n",
    "\n",
    "### Features in the dataset that will help support my investigations\n",
    "\n",
    "> Pisa2012 is a complex dataset. In this project, and after a visual assessment of the dataset, I will retain only the variable of interest to the investigation. I want to investigate (a) how the choice of school play into academic performance (b) whether there are differences in achievement based on gender, location, or student attitudes, and (c) whether there are differences in achievement based on teacher practices and attitudes. \n",
    "\n",
    "From pisa2012.sv, the following features are of interest:\n",
    "\n",
    "- Student's country of residence.\n",
    "\n",
    "- Student's country economic level (OECD or not)\n",
    "\n",
    "- Student's gender\n",
    "\n",
    "- Student's parents' level of education\n",
    "\n",
    "- Access to computer at school and at home\n",
    "\n",
    "- home posession\n",
    "\n",
    "- Age\n",
    "\n",
    "- perserverence\n",
    "\n",
    "- Sense of Belonging to School\n",
    "\n",
    "- Teacher Student Relations\n",
    "\n",
    "- teacher support\n",
    "\n",
    "- socio-economic and cultural status index\n",
    "\n",
    "- Parents Believe Studying Mathematics Is Important'\n",
    "\n",
    "- All 5 plausible Values in each subject category\n",
    "\n",
    "From the dictionary file, pisadict2012.csv, I retain only column names corresponding to the above features"
   ]
  },
  {
   "cell_type": "markdown",
   "metadata": {},
   "source": [
    "### Filtering the required columns"
   ]
  },
  {
   "cell_type": "code",
   "execution_count": 87,
   "metadata": {},
   "outputs": [],
   "source": [
    "# create list of features to be filtered\n",
    "required_var=['CNT','OECD','SCHOOLID','STIDSTD',\n",
    "              'ST01Q01','ST03Q01','ST03Q02','ST04Q01','ST35Q04',\n",
    "              'IC01Q01','IC02Q01','AGE','ANCBELONG','CLSMAN','ESCS', 'PERSEV', 'ANCATSCHL',\n",
    "              'FISCED','HOMEPOS','HOMSCH','ICTSCH','MISCED','ANCMTSUP','ANCSTUDREL','TEACHSUP','USESCH',\n",
    "              'PV1MATH','PV2MATH','PV3MATH','PV4MATH','PV5MATH',\n",
    "              'PV1READ','PV2READ','PV3READ','PV4READ','PV5READ',\n",
    "              'PV1SCIE','PV2SCIE','PV3SCIE','PV4SCIE','PV5SCIE'\n",
    "              ]"
   ]
  },
  {
   "cell_type": "markdown",
   "metadata": {},
   "source": [
    "Filter the data based on the required_var and save the new data as pisa2012_edited.csv"
   ]
  },
  {
   "cell_type": "code",
   "execution_count": 88,
   "metadata": {},
   "outputs": [],
   "source": [
    "#pisa2012_edited=df_pisa.filter(required_var) # filter the required features\n",
    "#pisa2012_edited.to_csv('pisa2012_edited.csv') # save the new data as pisa2012_edited"
   ]
  },
  {
   "cell_type": "markdown",
   "metadata": {},
   "source": [
    "## Data Wrangling\n",
    "\n",
    "### Assessing Data\n",
    "The data is assessed visually and programmatically for quality and tidiness issues \n",
    "\n",
    "**Quality issues**- Issues related to the data content (dirty data). We check for four quality diemnsions, completeness, validity, accuracy and consistency.\n",
    "\n",
    "**Tidiness issues**- Issues related to the data structure (messy data). We check whether or not each variable forms a column, each observation forms a row or each type of observational unit forms a table"
   ]
  },
  {
   "cell_type": "markdown",
   "metadata": {},
   "source": [
    "### **1. visual assessment**\n",
    "\n",
    "- viewing the data without code"
   ]
  },
  {
   "cell_type": "code",
   "execution_count": null,
   "metadata": {},
   "outputs": [],
   "source": [
    "# load pisa2012_edited\n",
    "path_data_edited='C:/Users/Davie/Desktop/Data/project_3/'\n",
    "df_pisa_edited=pd.read_csv(path_data_edited +'pisa2012_edited.csv', encoding = 'latin-1', low_memory=False, index_col=False)\n",
    "df_pisa_edited.head(5)"
   ]
  },
  {
   "cell_type": "markdown",
   "metadata": {},
   "source": [
    "1.Five plausible values in each category of subjects mathematics, reading and science, should be 3 variables (tidiness issue)\n",
    "\n",
    "2.Non-descriptive columns in df_pisa_edited data (quality issue)"
   ]
  },
  {
   "cell_type": "markdown",
   "metadata": {},
   "source": [
    "### **2. programmatic assessement**\n",
    "\n",
    "- checking data issues with (code) python methods.We use ```.sample() .shape, .describe(), .info(), .dtypes, .nunique()```"
   ]
  },
  {
   "cell_type": "code",
   "execution_count": null,
   "metadata": {},
   "outputs": [],
   "source": [
    "df_pisa_edited.info()"
   ]
  },
  {
   "cell_type": "markdown",
   "metadata": {},
   "source": [
    "3.Incorrect data types for SCHOOLID and STIDSTD columns, datatype is of integer. AGE is of float (quality issue)\n",
    "\n",
    "4.Columns ST01Q01 and ST03Q01 is date of birth, one variable (tidiness issue)"
   ]
  },
  {
   "cell_type": "code",
   "execution_count": null,
   "metadata": {},
   "outputs": [],
   "source": [
    "df_pisa_edited['FISCED'].value_counts()"
   ]
  },
  {
   "cell_type": "code",
   "execution_count": null,
   "metadata": {},
   "outputs": [],
   "source": [
    "df_pisa_edited['MISCED'].value_counts()"
   ]
  },
  {
   "cell_type": "markdown",
   "metadata": {},
   "source": [
    "5.'FISCED' and 'MISCED' for father education and mother education, are not valid, rename (quality issue)\n",
    "\n",
    "6.Missing values (quality issue)"
   ]
  },
  {
   "cell_type": "markdown",
   "metadata": {},
   "source": [
    "## Cleaning Data\n",
    "\n",
    "This aims to improve the quality and tidiness by correcting the inaccuracies, removing the irrelevant columns, renaming columns and replacing missing values, or droping rows with the missing values based on the assessment already done\n",
    "\n",
    "Cleaning data uses programmatic data cleaning process, in which every issue identified in the assessment section is first defined followed by codng and testing."
   ]
  },
  {
   "cell_type": "code",
   "execution_count": 93,
   "metadata": {},
   "outputs": [],
   "source": [
    "# Make copies of original pieces of data: df_pisa_edited and pisa_dict_r\n",
    "df_pisa2012=df_pisa_edited.copy()\n",
    "pisadict2012=pisa_dict_r.copy()"
   ]
  },
  {
   "cell_type": "markdown",
   "metadata": {},
   "source": [
    "### Issue #1: Five plausible values in each category of subjects mathematics, reading and science, 3 variables"
   ]
  },
  {
   "cell_type": "markdown",
   "metadata": {},
   "source": [
    "#### Define: Average five pairs of plausible values in each category into 3 columns: score_in_maths, score_in_reading and score_in_science. "
   ]
  },
  {
   "cell_type": "markdown",
   "metadata": {},
   "source": [
    "#### Code"
   ]
  },
  {
   "cell_type": "markdown",
   "metadata": {},
   "source": [
    "Create 3 columns for the average of the plausible values, add column (total_score) for the sum of average values, and finally drop the plausible values"
   ]
  },
  {
   "cell_type": "code",
   "execution_count": null,
   "metadata": {},
   "outputs": [],
   "source": [
    "# plausible average for mathematics\n",
    "df_pisa2012['math']=np.average(df_pisa2012[['PV1MATH', 'PV2MATH', 'PV3MATH', 'PV4MATH', 'PV5MATH']], axis=1) \n",
    "# plausible average for reading\n",
    "df_pisa2012['reading']=np.average(df_pisa2012[['PV1READ', 'PV2READ', 'PV3READ', 'PV4READ', 'PV5READ']], axis=1)\n",
    "# plausible average for science\n",
    "df_pisa2012['science']=np.average(df_pisa2012[['PV1SCIE', 'PV2SCIE', 'PV3SCIE', 'PV4SCIE', 'PV5SCIE']], axis=1)\n",
    "df_pisa2012.head(5)"
   ]
  },
  {
   "cell_type": "code",
   "execution_count": null,
   "metadata": {},
   "outputs": [],
   "source": [
    "# sum of all scores in mathematics, reading and science\n",
    "df_pisa2012['total']=np.sum(df_pisa2012[['math', 'reading', 'science']], axis=1)\n",
    "df_pisa2012.head(5)"
   ]
  },
  {
   "cell_type": "code",
   "execution_count": null,
   "metadata": {},
   "outputs": [],
   "source": [
    "# drop the plausible column values\n",
    "pisa_df=df_pisa2012.iloc[:, np.r_[0:26, 42:46]]\n",
    "pisa_df.head(5)"
   ]
  },
  {
   "cell_type": "markdown",
   "metadata": {},
   "source": [
    "#### Test"
   ]
  },
  {
   "cell_type": "code",
   "execution_count": null,
   "metadata": {},
   "outputs": [],
   "source": [
    "pisa_df.shape"
   ]
  },
  {
   "cell_type": "markdown",
   "metadata": {},
   "source": [
    "### Issue #2: Non-descriptive columns in df_pisa_edited data"
   ]
  },
  {
   "cell_type": "markdown",
   "metadata": {},
   "source": [
    "#### Define: Rename the columns using the discription provided in the pisadict2012"
   ]
  },
  {
   "cell_type": "markdown",
   "metadata": {},
   "source": [
    "#### Code"
   ]
  },
  {
   "cell_type": "markdown",
   "metadata": {},
   "source": [
    "Rename columns on pisadict2012, filter the required features from the dictionary, create dictionary to for renaming columns, rename the columns"
   ]
  },
  {
   "cell_type": "code",
   "execution_count": null,
   "metadata": {},
   "outputs": [],
   "source": [
    "# rename columns\n",
    "pisadict2012.set_axis(['short_name', 'description'],axis=1,inplace=True)\n",
    "# transpose using short _name as index\n",
    "pisa_dict_trans=pisadict2012.set_index('short_name').T\n",
    "pisa_dict_trans"
   ]
  },
  {
   "cell_type": "code",
   "execution_count": null,
   "metadata": {},
   "outputs": [],
   "source": [
    "# filter the required features from the dictionary\n",
    "pisa_dict_f=pisa_dict_trans.filter(required_var)\n",
    "# tranpose to two columns\n",
    "pisa_dict_filtered=pisa_dict_f.T\n",
    "# reset index\n",
    "pisa_dict_filtered=pisa_dict_filtered.reset_index(level=0) # alternative df['index']=df.index\n",
    "pisa_dict_filtered"
   ]
  },
  {
   "cell_type": "code",
   "execution_count": null,
   "metadata": {},
   "outputs": [],
   "source": [
    "# create dictionary to for renaming columns\n",
    "col_rename_dict=pisa_dict_filtered.set_index('short_name')['description'].to_dict()\n",
    "col_rename_dict"
   ]
  },
  {
   "cell_type": "markdown",
   "metadata": {},
   "source": [
    "Copy the above cell and edit accordingly"
   ]
  },
  {
   "cell_type": "code",
   "execution_count": 101,
   "metadata": {},
   "outputs": [],
   "source": [
    "# dictionary for descriptive names\n",
    "_dict={'CNT': 'country',\n",
    "       'OECD': 'oecd',\n",
    "       'SCHOOLID': 'school_id',\n",
    "       'STIDSTD': 'student_id',\n",
    "       'ST01Q01': 'international_grade',\n",
    "       'ST03Q01': 'month_of_birth',\n",
    "       'ST03Q02': 'year_of_birth', \n",
    "       'ST04Q01': 'gender',\n",
    "       'AGE': 'student_age', \n",
    "       \n",
    "       'PERSEV': 'perseverance',\n",
    "       'ANCATSCHL': 'attitude_towards_school_learning_outcomes', \n",
    "       'ANCBELONG': 'sense_of_belonging_to_school',\n",
    "       \n",
    "       'HOMEPOS': 'home_possessions', \n",
    "       'HOMSCH': 'ICT_use_at_home_for_school_tasks',\n",
    "       'IC01Q01': 'home_desktop_computer',\n",
    "       \n",
    "       'ST35Q04': 'parents_believe_maths_is_important',\n",
    "       'ESCS': 'social_economic&cultural_index_status',  \n",
    "       'FISCED': 'father_educational_level', \n",
    "       'MISCED': 'mother_educational_level',\n",
    "       \n",
    "       'IC02Q01': 'school_desktop_computer',\n",
    "       'CLSMAN': \"maths_teacher_classroom_management\",\n",
    "       'ICTSCH': 'ICT_at_school',\n",
    "       'ANCMTSUP': \"maths_teacher_support\",\n",
    "       'ANCSTUDREL': 'teacher_student_relations',\n",
    "       'TEACHSUP': 'teacher_support',\n",
    "       'USESCH': 'ICT_use_at_school',\n",
    "       \n",
    "       'math': 'score_in_mathematics',\n",
    "       'reading': 'score_in_reading',\n",
    "       'science': 'score_in_science',\n",
    "       'total':'total_score'\n",
    "      }"
   ]
  },
  {
   "cell_type": "code",
   "execution_count": null,
   "metadata": {},
   "outputs": [],
   "source": [
    "# rename the columns\n",
    "pisa_df=pisa_df.rename(columns=_dict)\n",
    "pisa_df.head(5)"
   ]
  },
  {
   "cell_type": "code",
   "execution_count": 103,
   "metadata": {},
   "outputs": [],
   "source": [
    "# index columns\n",
    "values_list = list(_dict.values())\n",
    "pisa_df = pisa_df.reindex(columns=values_list)"
   ]
  },
  {
   "cell_type": "markdown",
   "metadata": {},
   "source": [
    "#### Test"
   ]
  },
  {
   "cell_type": "code",
   "execution_count": null,
   "metadata": {},
   "outputs": [],
   "source": [
    "pisa_df.columns"
   ]
  },
  {
   "cell_type": "markdown",
   "metadata": {},
   "source": [
    "### Issue #3: Incorrect data types for SCHOOLID and STIDSTD columns, datatype is of integer. AGE is of float "
   ]
  },
  {
   "cell_type": "markdown",
   "metadata": {},
   "source": [
    "#### Define: Change the data types for school_id , student_id , international_grade, month_of_birth, year_of_birth and student_age to object  "
   ]
  },
  {
   "cell_type": "markdown",
   "metadata": {},
   "source": [
    "#### Code"
   ]
  },
  {
   "cell_type": "code",
   "execution_count": 105,
   "metadata": {},
   "outputs": [],
   "source": [
    "# columns with wrong data type (float) to be changed to string\n",
    "num_type=['school_id','student_id', 'international_grade', 'month_of_birth', 'year_of_birth', 'student_age']\n",
    "# change data type to string\n",
    "pisa_df[num_type]=pisa_df[num_type].astype(str)"
   ]
  },
  {
   "cell_type": "markdown",
   "metadata": {},
   "source": [
    "#### Test"
   ]
  },
  {
   "cell_type": "code",
   "execution_count": null,
   "metadata": {},
   "outputs": [],
   "source": [
    "pisa_df.info()"
   ]
  },
  {
   "cell_type": "markdown",
   "metadata": {},
   "source": [
    "### Issue #4: Columns ST01Q01 and ST03Q01 is date of birth, one variable"
   ]
  },
  {
   "cell_type": "markdown",
   "metadata": {},
   "source": [
    "#### Define: Merge month of birth and year of birth into one column, called date of birth"
   ]
  },
  {
   "cell_type": "markdown",
   "metadata": {},
   "source": [
    "#### Code"
   ]
  },
  {
   "cell_type": "code",
   "execution_count": 107,
   "metadata": {},
   "outputs": [],
   "source": [
    "# combine month and year of birth to date of birth\n",
    "pisa_df['date_of_birth']=pisa_df[['month_of_birth', 'year_of_birth']].agg('/'.join, axis=1)"
   ]
  },
  {
   "cell_type": "code",
   "execution_count": 108,
   "metadata": {},
   "outputs": [],
   "source": [
    "# drop the month and year of birth columns\n",
    "pisa_df=pisa_df.iloc[:, np.r_[0:5, 7:31]]              "
   ]
  },
  {
   "cell_type": "markdown",
   "metadata": {},
   "source": [
    "#### Test"
   ]
  },
  {
   "cell_type": "code",
   "execution_count": null,
   "metadata": {},
   "outputs": [],
   "source": [
    "pisa_df.columns"
   ]
  },
  {
   "cell_type": "markdown",
   "metadata": {},
   "source": [
    "### Issue #5: 'FISCED' and 'MISCED'for father education and mother education, are not valid, rename"
   ]
  },
  {
   "cell_type": "code",
   "execution_count": null,
   "metadata": {},
   "outputs": [],
   "source": [
    "# assess the eduactional level of the father\n",
    "pisa_df['father_educational_level'].value_counts()"
   ]
  },
  {
   "cell_type": "markdown",
   "metadata": {},
   "source": [
    "#### Define: Replace father education and mother education\n",
    "\n",
    "Indices on parental education were constructed by recoding educational qualifications into the following categories and provided in MISCED for mother education and FISCED for father education:\n",
    "\n",
    "(0) None\n",
    "\n",
    "(1) <ISCED level 1> (primary education)\n",
    "\n",
    "(2) <ISCED level 2> (lower secondary)\n",
    "\n",
    "(3) <ISCED level 3B or 3C> (vocational/pre-vocational upper secondary)\n",
    "\n",
    "(4) <ISCED level 3A> (general upper secondary) and/or <ISCED level 4> (non-tertiary post-secondary)\n",
    "\n",
    "(5) <ISCED level 5B> (vocational tertiary)\n",
    " \n",
    "(6) <ISCED level 5A> and/or <ISCED level 6> (theoretically oriented tertiary and post-graduate) \n",
    "\n",
    "https://www.oecd-ilibrary.org/sites/0a428b07-en/index.html?itemId=/content/component/0a428b07-en\n",
    "\n",
    "\n",
    "Replace the values as follow:\n",
    "\n",
    "\n",
    "0 None\n",
    "\n",
    "ISCED level 1 - primary education\n",
    "\n",
    "ISCED level 2 - lower secondary\n",
    "\n",
    "ISCED level 3B, C - pre-vocational/vocational upper secondary\n",
    "\n",
    "ISCED level 3A, 4 - general upper secondary/non-tertiary post-secondary\n",
    "\n",
    "ISCED level 5B - vocational tertiary\n",
    " \n",
    "ISCED level 5A, 6 -theoretically oriented tertiary/post-graduate"
   ]
  },
  {
   "cell_type": "markdown",
   "metadata": {},
   "source": [
    "#### Code"
   ]
  },
  {
   "cell_type": "code",
   "execution_count": 111,
   "metadata": {},
   "outputs": [],
   "source": [
    "# make copy\n",
    "pisa_data_df=pisa_df.copy()\n",
    "# create function to replace educational values\n",
    "def parent_education(parent):\n",
    "    if parent=='father':\n",
    "        parent='father_educational_level'\n",
    "    if parent=='mother':\n",
    "        parent='mother_educational_level'\n",
    "    pisa_data_df.loc[(pisa_data_df[parent]== 'ISCED 1'),parent] = 'Primary Education'\n",
    "    pisa_data_df.loc[(pisa_data_df[parent]== 'ISCED 2'),parent] = 'Lower Secondary'\n",
    "    pisa_data_df.loc[(pisa_data_df[parent]== 'ISCED 3B, C'),parent] = 'Upper Secondary'\n",
    "    pisa_data_df.loc[(pisa_data_df[parent]== 'ISCED 3A, ISCED 4'),parent] = 'Post Secondary'\n",
    "    pisa_data_df.loc[(pisa_data_df[parent]== 'ISCED 5B'),parent] = 'Vocational Tertiary'\n",
    "    pisa_data_df.loc[(pisa_data_df[parent]== 'ISCED 5A, 6'),parent] = 'Post Graduate'"
   ]
  },
  {
   "cell_type": "code",
   "execution_count": 112,
   "metadata": {},
   "outputs": [],
   "source": [
    "# rename father educational values\n",
    "parent_education('father')  "
   ]
  },
  {
   "cell_type": "code",
   "execution_count": 113,
   "metadata": {},
   "outputs": [],
   "source": [
    "# rename mother educational values\n",
    "parent_education('mother')  "
   ]
  },
  {
   "cell_type": "code",
   "execution_count": null,
   "metadata": {},
   "outputs": [],
   "source": [
    "pisa_data_df.head(5)"
   ]
  },
  {
   "cell_type": "code",
   "execution_count": 115,
   "metadata": {},
   "outputs": [],
   "source": [
    "# drop rows with duplicate values\n",
    "pisa_clean_df=pisa_data_df.dropna(how='all', axis=1)"
   ]
  },
  {
   "cell_type": "code",
   "execution_count": 116,
   "metadata": {},
   "outputs": [],
   "source": [
    "groupby_cols=[\n",
    "    'country',\n",
    "    'student_id', \n",
    "     \n",
    "    'oecd', \n",
    "    'international_grade', \n",
    "    'gender',  \n",
    "    'student_age', \n",
    "    'father_educational_level',\n",
    "    'mother_educational_level', \n",
    "    'school_desktop_computer', \n",
    "    'home_desktop_computer',\n",
    "    'parents_believe_maths_is_important'\n",
    "    ] #'school_id',\n",
    "\n",
    "\n",
    "other_cols=[\n",
    "       'perseverance',\n",
    "       'attitude_towards_school_learning_outcomes',\n",
    "       'sense_of_belonging_to_school', \n",
    "       'home_possessions',\n",
    "       'ICT_use_at_home_for_school_tasks',\n",
    "\n",
    "       'social_economic&cultural_index_status', \n",
    "       'maths_teacher_classroom_management',\n",
    "       'ICT_at_school',\n",
    "\n",
    "       'maths_teacher_support', \n",
    "       'teacher_student_relations', \n",
    "       'teacher_support',\n",
    "\n",
    "       'score_in_mathematics', \n",
    "       'score_in_reading', \n",
    "       'score_in_science', \n",
    "       'total_score', \n",
    "       'date_of_birth'\n",
    "       ]"
   ]
  },
  {
   "cell_type": "code",
   "execution_count": null,
   "metadata": {},
   "outputs": [],
   "source": [
    "'''pisa_cleaned=pisa_clean_df.groupby(groupby_cols)[other_cols].mean().reset_index()\n",
    "pisa_cleaned'''"
   ]
  },
  {
   "cell_type": "code",
   "execution_count": 118,
   "metadata": {},
   "outputs": [],
   "source": [
    "# Map similar countries to a single unified country name\n",
    "country_mapping = {\n",
    "    'Hong Kong-China': 'China',\n",
    "    'Macao-China': 'China',\n",
    "    'China-Shanghai': 'China',\n",
    "    'Connecticut (USA)': 'United States of America',\n",
    "    'Florida (USA)': 'United States of America',\n",
    "    'Massachusetts (USA)': 'United States of America',\n",
    "    'Perm(Russian Federation)': 'Russian Federation'\n",
    "}"
   ]
  },
  {
   "cell_type": "code",
   "execution_count": null,
   "metadata": {},
   "outputs": [],
   "source": [
    "pisa_clean_map = pisa_clean_df.copy()\n",
    "# Apply mapping to the 'country' column\n",
    "pisa_clean_map['country'] = pisa_clean_map['country'].replace(country_mapping)\n",
    "pisa_clean_map"
   ]
  },
  {
   "cell_type": "code",
   "execution_count": null,
   "metadata": {},
   "outputs": [],
   "source": [
    "pisa_clean_map['country'].value_counts().index"
   ]
  },
  {
   "cell_type": "code",
   "execution_count": 121,
   "metadata": {},
   "outputs": [],
   "source": [
    "pisa_cleaned=pisa_clean_map.copy()\n",
    "# save pisa_df as pisa_clean.csv\n",
    "pisa_cleaned.reset_index().to_csv('pisa_clean.csv', index=False)"
   ]
  },
  {
   "cell_type": "markdown",
   "metadata": {},
   "source": [
    "#### Test"
   ]
  },
  {
   "cell_type": "code",
   "execution_count": null,
   "metadata": {},
   "outputs": [],
   "source": [
    "pisa_df['father_educational_level'].value_counts()"
   ]
  },
  {
   "cell_type": "code",
   "execution_count": null,
   "metadata": {},
   "outputs": [],
   "source": [
    "pisa_df['mother_educational_level'].value_counts()"
   ]
  },
  {
   "cell_type": "code",
   "execution_count": null,
   "metadata": {},
   "outputs": [],
   "source": [
    "path_clean= 'C:/Users/Davie/Documents/GitHub/Pisa2012_data_analysis/'\n",
    "pisa_clean=pd.read_csv(path_clean + 'pisa_clean.csv')\n",
    "#pisa_clean.dropna(how='all', inplace=True)\n",
    "pisa_clean"
   ]
  },
  {
   "cell_type": "code",
   "execution_count": null,
   "metadata": {},
   "outputs": [],
   "source": [
    "pisa_clean['country'].value_counts().index"
   ]
  },
  {
   "cell_type": "markdown",
   "metadata": {},
   "source": [
    "## Univariate Exploration\n",
    "\n",
    "> This section investigates the distributions of individual variables for unusual points or outliers. The features of interest are divided into two, categorical and numeric variables. For categorical variables, count plots, pie charts, donut plots, waffle counts, and bar graphs are used. The distributions of numeric variables of interest are investigated using histogram, and box plots."
   ]
  },
  {
   "cell_type": "markdown",
   "metadata": {},
   "source": [
    "### Categorical Variables"
   ]
  },
  {
   "cell_type": "code",
   "execution_count": 126,
   "metadata": {},
   "outputs": [],
   "source": [
    "# create categorical variables\n",
    "categoric_vars = ['country','oecd','school_id','student_id','international_grade','gender',\n",
    "                  'student_age','school_desktop_computer', 'home_desktop_computer',\n",
    "                  'mother_educational_level', 'father_educational_level', \n",
    "                  'parents_believe_maths_is_important', 'date_of_birth']"
   ]
  },
  {
   "cell_type": "markdown",
   "metadata": {},
   "source": [
    "### Question 1: How many students took the pisa test per gender and per grade?\n",
    "\n",
    "Use a histogram to check the distribution, normality, or skewness of scores per each subject category as well as total_score."
   ]
  },
  {
   "cell_type": "markdown",
   "metadata": {},
   "source": [
    "### Visualization\n",
    "\n",
    "Create count plots for gender and grade level"
   ]
  },
  {
   "cell_type": "code",
   "execution_count": null,
   "metadata": {},
   "outputs": [],
   "source": [
    "pisa_pie=pisa_clean.copy()\n",
    "# columns with wrong data type (float) to be changed to string\n",
    "num_type=['international_grade']\n",
    "# change data type to string\n",
    "pisa_pie[num_type]=pisa_pie[num_type].astype(str)\n",
    "# replace code 96 with ungraded\n",
    "pisa_pie['international_grade']=pisa_pie['international_grade'].replace(['96'], '(ungraded)')\n",
    "pisa_pie['gender'].value_counts()"
   ]
  },
  {
   "cell_type": "code",
   "execution_count": null,
   "metadata": {},
   "outputs": [],
   "source": [
    "# set plot dimensions\n",
    "#plt.figure(figsize=[14, 8])\n",
    "width_in_pixels = 1150\n",
    "height_in_pixels =730\n",
    "dpi = 130\n",
    "fig = plt.figure(figsize=(width_in_pixels/dpi, height_in_pixels/dpi))\n",
    "\n",
    "# Returns a Series\n",
    "plt.subplot(2,2,1)\n",
    "\n",
    "# Count the occurrences of each gender based on the specified order\n",
    "gender_counts = pisa_clean['gender'].value_counts().reindex()\n",
    "\n",
    "# Plot the pie chart\n",
    "plt.pie(\n",
    "    gender_counts, \n",
    "    labels=['Female', 'Male'],\n",
    "    autopct='%1.1f%%',  # Show percentages\n",
    "    startangle=90  # Start angle for better readability\n",
    ")\n",
    "plt.title('Gender Distribution', fontsize=16, fontweight='bold')\n",
    "\n",
    "plt.subplot(2,2,2)\n",
    "# Returns a Series\n",
    "freq = pisa_clean['international_grade'].value_counts()\n",
    "# order the grades\n",
    "grade_order =['7', '8', '9', '10', '11', '12', '(ungraded)']#freq.index\n",
    "# plot countplot\n",
    "sb.countplot(data=pisa_pie, x=pisa_pie['international_grade'], palette='Spectral', order=grade_order)\n",
    "plt.title('Count per Grade', fontsize=16, fontweight='bold')\n",
    "plt.xlabel('International Grade')\n",
    "\n",
    "plt.tight_layout() \n",
    "# Saving the plot\n",
    "plt.savefig('gender&grade_count.jpg', dpi=dpi, bbox_inches='tight')\n",
    "\n",
    "plt.show();"
   ]
  },
  {
   "cell_type": "markdown",
   "metadata": {},
   "source": [
    "### Observation\n",
    "\n",
    "From the visualization, it is evident that there were more female students as compared to male students who took part in the pisa interview. Inaddition, most of the students interviwed were from grade 10 and 9 respectivley"
   ]
  },
  {
   "cell_type": "markdown",
   "metadata": {},
   "source": [
    "### Question 2: What is the proportion of parents who believe that mathematics is important to their children?\n",
    "\n",
    "Use a pie chart to compute the percent in each category."
   ]
  },
  {
   "cell_type": "markdown",
   "metadata": {},
   "source": [
    "### Visualization"
   ]
  },
  {
   "cell_type": "code",
   "execution_count": null,
   "metadata": {},
   "outputs": [],
   "source": [
    "# set plot dimensions\n",
    "#plt.figure(figsize=[6, 6])\n",
    "width_in_pixels =900\n",
    "height_in_pixels =730\n",
    "dpi = 150\n",
    "fig = plt.figure(figsize=(width_in_pixels/dpi, height_in_pixels/dpi))\n",
    "\n",
    "# create labels\n",
    "labels=['Strongly disagree', 'Disagree', 'Agree', 'Strongly agree']\n",
    "\n",
    "# reindex the labels\n",
    "values=pisa_clean['parents_believe_maths_is_important'].value_counts().reindex(labels)\n",
    "\n",
    "colors = sb.color_palette('pastel')[2:8] # variety of colors\n",
    "explode = (0.1, 0.1, 0.1, 0.1) # explodes each category from each other\n",
    "\n",
    "# plot pie\n",
    "plt.pie(values, colors=colors, counterclock=False, autopct='%1.1f%%'); #shadow=True, explode=explode,\n",
    "plt.title('Percentage Parental preference \\n for Mathematics', fontsize=16, fontweight='bold');\n",
    "plt.legend(labels, loc='upper left', fontsize=10, bbox_to_anchor=(1,1))\n",
    "\n",
    "plt.tight_layout() \n",
    "# Saving the plot\n",
    "plt.savefig('math_prefer.jpg', dpi=dpi, bbox_inches='tight')\n",
    "\n",
    "plt.show();"
   ]
  },
  {
   "cell_type": "markdown",
   "metadata": {},
   "source": [
    "### Observation\n",
    "\n",
    "Of the total number of students interviewed, 53.0 percent agree whereas 35.8 strongly agree that their parents believe that mathematics is important for their career."
   ]
  },
  {
   "cell_type": "markdown",
   "metadata": {},
   "source": [
    "### Question 3: What is the percentage proportion of students interviewed by grade?\n",
    "\n",
    "Use bar graph and order the percentages by age."
   ]
  },
  {
   "cell_type": "markdown",
   "metadata": {},
   "source": [
    "### Visualization"
   ]
  },
  {
   "cell_type": "code",
   "execution_count": 130,
   "metadata": {},
   "outputs": [],
   "source": [
    "pisa_count=pisa_pie.copy()\n",
    "pisa_count.dropna(how='any', inplace=True)"
   ]
  },
  {
   "cell_type": "code",
   "execution_count": null,
   "metadata": {},
   "outputs": [],
   "source": [
    "\n",
    "# set plot dimensions\n",
    "plt.figure(figsize=[10,5])\n",
    "\n",
    "# Recalculating the grade counts\n",
    "grade_counts = pisa_count['international_grade'].value_counts()\n",
    "\n",
    "# Returns the sum of all not-null values in `type` column\n",
    "n_pisa = pisa_count['international_grade'].value_counts().sum()\n",
    "\n",
    "# plot count plots\n",
    "sb.countplot(data=pisa_count, x='international_grade', color=sb.color_palette()[7], order=grade_order);\n",
    "plt.xlabel('Grade')\n",
    "plt.title('Percentage Proportion by Grade', fontsize=16, fontweight='bold')\n",
    "plt.gca().axes.get_yaxis().set_visible(False)\n",
    "\n",
    "# get the current tick locations and labels\n",
    "locs, labels = plt.xticks(rotation=0) \n",
    "\n",
    "# loop through each pair of locations and labels\n",
    "for loc, label in zip(locs, labels):\n",
    "\n",
    "    # get the text property for the label to get the correct count\n",
    "    count = grade_counts[label.get_text()]\n",
    "    pct_string = '{:0.1f}%'.format(100*count/n_pisa)\n",
    "\n",
    "    # print the annotation just below the top of the bar\n",
    "    plt.text(loc, count+2, pct_string, ha = 'center', color = 'black')"
   ]
  },
  {
   "cell_type": "markdown",
   "metadata": {},
   "source": [
    "### Observation\n",
    "\n",
    "There is a greater percentage of students in grade 10 who took part in the pisa test."
   ]
  },
  {
   "cell_type": "markdown",
   "metadata": {},
   "source": [
    "### Question 4: What is the percentage proportion for the level of education for the mother?\n",
    "\n",
    "In this case, I want to use a donut plot to show different categories within the mother education level column."
   ]
  },
  {
   "cell_type": "markdown",
   "metadata": {},
   "source": [
    "### Visualization"
   ]
  },
  {
   "cell_type": "code",
   "execution_count": null,
   "metadata": {},
   "outputs": [],
   "source": [
    "pisa_clean"
   ]
  },
  {
   "cell_type": "code",
   "execution_count": null,
   "metadata": {},
   "outputs": [],
   "source": [
    "# drop education values which are None\n",
    "pisa_edum=pisa_clean['mother_educational_level'].dropna(how='any', inplace=True)\n",
    "pisa_edum=pisa_clean.loc[pisa_clean['mother_educational_level']!='0']\n",
    "pisa_edum['mother_educational_level'].value_counts()"
   ]
  },
  {
   "cell_type": "code",
   "execution_count": null,
   "metadata": {},
   "outputs": [],
   "source": [
    "# set plot dimensions\n",
    "plt.figure(figsize=[6,6])\n",
    "\n",
    "# get value counts and sort them\n",
    "sorted_counts = pisa_edum['mother_educational_level'].value_counts().sort_values()\n",
    "\n",
    "# explosion\n",
    "explodes = (0.02, 0.02, 0.02, 0.02, 0.02, 0.02, 0.02)\n",
    "\n",
    "# plot a simple donut plot\n",
    "plt.pie(sorted_counts, labels = sorted_counts.index, autopct='%1.1f%%', pctdistance=0.75, explode=explodes,\n",
    "        startangle = 90, wedgeprops = {'width' : 0.5},counterclock = False)\n",
    "plt.title('Mother Level of Education', fontsize=16, fontweight='bold')\n",
    "plt.axis('square')\n",
    "\n",
    "plt.show();"
   ]
  },
  {
   "cell_type": "markdown",
   "metadata": {},
   "source": [
    "### Observation\n",
    "\n",
    "The majority of the mothers had post-secondary and post-graduate education."
   ]
  },
  {
   "cell_type": "markdown",
   "metadata": {},
   "source": [
    "### Question 5: What is the percentage proportion for the level of education for the father of students who took pisa test?\n",
    "\n",
    "Use waffle plot"
   ]
  },
  {
   "cell_type": "markdown",
   "metadata": {},
   "source": [
    "### Visualization"
   ]
  },
  {
   "cell_type": "code",
   "execution_count": 135,
   "metadata": {},
   "outputs": [],
   "source": [
    "# drop None values in father level of education column\n",
    "df=pisa_clean.loc[~pisa_clean['father_educational_level'].isna()]\n",
    "\n",
    "# define and creat a function to calculate percentages, count, and create quata\n",
    "def percentage_blocks(df, var):\n",
    "    # compute base quotas\n",
    "    percentages = 100 * df[var].value_counts() / df.shape[0]\n",
    "    counts = np.floor(percentages).astype(int) # integer part = minimum quota\n",
    "    decimal = (percentages - counts).sort_values(ascending = False)\n",
    "\n",
    "    # add in additional counts to reach 100\n",
    "    rem = 100 - counts.sum()\n",
    "    for edu in decimal.index[:rem]:\n",
    "        counts[edu] += 1\n",
    "\n",
    "    return counts"
   ]
  },
  {
   "cell_type": "code",
   "execution_count": null,
   "metadata": {},
   "outputs": [],
   "source": [
    "# set plot dimensions\n",
    "plt.figure(figsize=[6,6])\n",
    "waffle_counts = percentage_blocks(df, 'father_educational_level')\n",
    "\n",
    "prev_count = 0\n",
    "\n",
    "# for each category,\n",
    "for category in range(waffle_counts.shape[0]):\n",
    "    # get the block indices\n",
    "    blocks = np.arange(prev_count, prev_count + waffle_counts[category])\n",
    "    # and put a block at each index's location\n",
    "    x = blocks % 10 # use mod operation to get ones digit\n",
    "    y = blocks // 10 # use floor division to get tens digit\n",
    "    \n",
    "    plt.bar(x = y, height = 0.8, width = 0.8, bottom = x)\n",
    "    prev_count += waffle_counts[category]\n",
    "    \n",
    "# aesthetic wrangling\n",
    "plt.legend(waffle_counts.index, bbox_to_anchor = (1, 0.5), loc = 6)\n",
    "plt.title('Father Level of Education', fontsize=16, fontweight='bold')\n",
    "plt.axis('off')\n",
    "plt.axis('square');"
   ]
  },
  {
   "cell_type": "markdown",
   "metadata": {},
   "source": [
    "### Observation\n",
    "\n",
    "The majority of the fathers had post-secondary and post-graduate education."
   ]
  },
  {
   "cell_type": "markdown",
   "metadata": {},
   "source": [
    "### Question 6: How many students access computers at home and school and use them?"
   ]
  },
  {
   "cell_type": "markdown",
   "metadata": {},
   "source": [
    "Wrangle pisa_clean to rename the text 'donÂt' for home_desktop_computer and school_desktop_computer "
   ]
  },
  {
   "cell_type": "code",
   "execution_count": null,
   "metadata": {},
   "outputs": [],
   "source": [
    "pisa_com=pisa_clean.copy()\n",
    "pisa_com.loc[pisa_com['home_desktop_computer'] == \"Yes, but I donÂt use it\", 'home_desktop_computer'] = \"Yes, but I don't use it\"\n",
    "pisa_com.loc[pisa_com['school_desktop_computer'] == \"Yes, but I donÂt use it\", 'school_desktop_computer'] = \"Yes, but I don't use it\"\n",
    "pisa_com.head(5)"
   ]
  },
  {
   "cell_type": "markdown",
   "metadata": {},
   "source": [
    "### Visualization\n",
    "\n",
    "Use bar graphs"
   ]
  },
  {
   "cell_type": "code",
   "execution_count": null,
   "metadata": {},
   "outputs": [],
   "source": [
    "com=pisa_com[~pisa_com['home_desktop_computer'].isna()]\n",
    "com[~com['school_desktop_computer'].isna()]"
   ]
  },
  {
   "cell_type": "code",
   "execution_count": null,
   "metadata": {},
   "outputs": [],
   "source": [
    "# Reshape the data to long format\n",
    "com_melted = com.melt(\n",
    "    value_vars=['home_desktop_computer', 'school_desktop_computer'],\n",
    "    var_name='Category',\n",
    "    value_name='Usage'\n",
    ")\n",
    "com_melted.value_counts().reset_index()"
   ]
  },
  {
   "cell_type": "code",
   "execution_count": null,
   "metadata": {},
   "outputs": [],
   "source": [
    "# set plot dimensions\n",
    "#plt.figure(figsize=[9, 5])\n",
    "width_in_pixels =1050\n",
    "height_in_pixels =730\n",
    "dpi = 120\n",
    "fig = plt.figure(figsize=(width_in_pixels/dpi, height_in_pixels/dpi))\n",
    "plt.tight_layout() \n",
    "# Saving the plot\n",
    "plt.savefig('math_prefer.jpg', dpi=dpi, bbox_inches='tight')\n",
    "\n",
    "# create labels\n",
    "labels=['No', 'Yes, and I use it', 'Yes, but I don\\'t use it']\n",
    "\n",
    "# Create the barplot\n",
    "sb.barplot(data=com_melted.value_counts().reset_index(), x='Usage', y=0, hue='Category', order=labels, palette='viridis')\n",
    "\n",
    "# Add labels and title\n",
    "plt.xlabel('Usage', fontsize=12)\n",
    "plt.ylabel('Count', fontsize=12)\n",
    "plt.title('Comparison of Desktop Computer Usage \\n at Home and School', fontsize=15, fontweight='bold')\n",
    "plt.legend(bbox_to_anchor=(1,1), loc='upper left', fontsize=10)\n",
    "\n",
    "plt.tight_layout() \n",
    "# Saving the plot\n",
    "plt.savefig('comp_usage.jpg', dpi=dpi, bbox_inches='tight')\n",
    "\n",
    "plt.show()"
   ]
  },
  {
   "cell_type": "code",
   "execution_count": null,
   "metadata": {},
   "outputs": [],
   "source": [
    "# set plot dimensions\n",
    "plt.figure(figsize=[14, 6])\n",
    "\n",
    "plt.subplot(2,2,1)\n",
    "#plot bar\n",
    "com['school_desktop_computer'].value_counts().sort_index().plot(kind='bar', color='#8D918D')\n",
    "plt.title('School Desktop Computer Usage', fontsize=16, fontweight='bold')\n",
    "plt.ylabel('Count')\n",
    "plt.xticks(rotation=0)\n",
    "\n",
    "plt.subplot(2,2,2)\n",
    "# plotrbar\n",
    "com['home_desktop_computer'].value_counts().sort_index().plot(kind='bar', color='#8D918D')\n",
    "plt.title('Home Desktop Computer Usage', fontsize=16, fontweight='bold')\n",
    "plt.ylabel('Count')\n",
    "plt.xticks(rotation=0)\n",
    "\n",
    "plt.show();"
   ]
  },
  {
   "cell_type": "markdown",
   "metadata": {},
   "source": [
    "### Observation\n",
    "\n",
    "The number of students who access and use computers at school and home exceeds those who access and don't use them as well as those who don't have access to computers at all"
   ]
  },
  {
   "cell_type": "markdown",
   "metadata": {},
   "source": [
    "### Numeric Variables"
   ]
  },
  {
   "cell_type": "code",
   "execution_count": 142,
   "metadata": {},
   "outputs": [],
   "source": [
    "# create numrical variables list\n",
    "numeric_vars_other = ['perseverance',\n",
    "                'sense_of_belonging_to_school',\n",
    "                'attitude_towards_school_learning_outcomes',\n",
    "                'ICT_at_school',\n",
    "                #'ICT_use_at_school',\n",
    "                'maths_teacher_support',\n",
    "                'teacher_student_relations',\n",
    "                'teacher_support',\n",
    "                'maths_teacher_classroom_management',    \n",
    "                'social_economic&cultural_index_status', \n",
    "                'home_possessions']\n",
    "\n",
    "numeric_vars_scores=['score_in_mathematics',\n",
    "                     'score_in_reading', \n",
    "                     'score_in_science',\n",
    "                     'total_score']"
   ]
  },
  {
   "cell_type": "markdown",
   "metadata": {},
   "source": [
    "### Question 7: What is the distribution of the scores?\n",
    "\n",
    "Use histogram to check the distribution, normality or skewness of scores per each subject category as well as total_score."
   ]
  },
  {
   "cell_type": "markdown",
   "metadata": {},
   "source": [
    "### Visualization\n",
    "\n",
    "Create function to plot mathematics, reading, science and total scores and then plot the four histograms"
   ]
  },
  {
   "cell_type": "code",
   "execution_count": 143,
   "metadata": {},
   "outputs": [],
   "source": [
    "# create function to plot histograms\n",
    "def hist_plot(col,binsize):\n",
    "    bins = np.arange(0, pisa_clean[col].max()+binsize, binsize) # create bin sizes\n",
    "    plt.hist(data=pisa_clean, x = col, color='grey', bins = bins, alpha=0.7) # plot hist\n",
    "    plt.axvline(x=pisa_clean[col].median(), color='b') # blue line to check for skewness\n",
    "    plt.ylabel('Student count')"
   ]
  },
  {
   "cell_type": "code",
   "execution_count": null,
   "metadata": {},
   "outputs": [],
   "source": [
    "# set plot dimensions\n",
    "plt.figure(figsize=[14, 8])\n",
    "\n",
    "# plot the distibutions\n",
    "# mathematics score distribution  \n",
    "plt.subplot(2, 2, 1)\n",
    "hist_plot(col='score_in_mathematics', binsize=15)\n",
    "txt='Mathematics Score'\n",
    "plt.title(txt);\n",
    "\n",
    "# reading score distribution\n",
    "plt.subplot(2, 2, 2)\n",
    "hist_plot(col='score_in_reading', binsize=20)\n",
    "txt='Reading Score'\n",
    "plt.title(txt);\n",
    "\n",
    "# science score distribution\n",
    "plt.subplot(2, 2, 3)\n",
    "hist_plot(col='score_in_science', binsize=20)\n",
    "txt='Science Score'\n",
    "plt.title(txt);\n",
    "\n",
    "# total score distribution\n",
    "plt.subplot(2, 2, 4)\n",
    "hist_plot(col='total_score', binsize=50)\n",
    "txt='Total Score'\n",
    "plt.title(txt)\n",
    "\n",
    "plt.show();"
   ]
  },
  {
   "cell_type": "markdown",
   "metadata": {},
   "source": [
    "### Observation\n",
    "\n",
    "All the distributions for the scores are normal"
   ]
  },
  {
   "cell_type": "markdown",
   "metadata": {},
   "source": [
    "### Question 8: What is the distribution of other numeric variables?\n",
    "\n",
    "Use box plot to maintain the distribution of quantitative variables in the data."
   ]
  },
  {
   "cell_type": "markdown",
   "metadata": {},
   "source": [
    "### Visualization"
   ]
  },
  {
   "cell_type": "code",
   "execution_count": 145,
   "metadata": {},
   "outputs": [],
   "source": [
    "# Identify numeric variables\n",
    "pisa_num = pisa_clean[numeric_vars_other]\n",
    "\n",
    "# Function to remove outliers using IQR\n",
    "def remove_outliers(df, columns):\n",
    "    for col in columns:\n",
    "        Q1 = df[col].quantile(0.25)  # First quartile (25th percentile)\n",
    "        Q3 = df[col].quantile(0.75)  # Third quartile (75th percentile)\n",
    "        IQR = Q3 - Q1  # Interquartile range\n",
    "        \n",
    "        # Define bounds for outliers\n",
    "        lower_bound = Q1 - 1.5 * IQR\n",
    "        upper_bound = Q3 + 1.5 * IQR\n",
    "        \n",
    "        # Filter out outliers\n",
    "        df = df[(df[col] >= lower_bound) & (df[col] <= upper_bound)]\n",
    "    return df\n",
    "\n",
    "# Remove outliers from numeric variables\n",
    "pisa_num_clean = remove_outliers(pisa_num, numeric_vars_other)"
   ]
  },
  {
   "cell_type": "code",
   "execution_count": null,
   "metadata": {},
   "outputs": [],
   "source": [
    "# set plot dimensions\n",
    "plt.figure(figsize=[12, 10])\n",
    "\n",
    "# plot box plot\n",
    "#pisa_num=pisa_clean[numeric_vars_other]\n",
    "sb.boxplot(data=pisa_num_clean,orient=\"h\", color=sb.color_palette()[0])\n",
    "plt.title('Box plots for diferent Numerical Variables', fontsize=16, fontweight='bold')\n",
    "plt.xlabel('Values')\n",
    "\n",
    "plt.show();"
   ]
  },
  {
   "cell_type": "markdown",
   "metadata": {},
   "source": [
    "### Observation\n",
    "\n",
    "All the numeric columns have outliers. Whereas most of the features are normally distributed, perserverence, attitude of the students towards the school, ICT used at school, and mathematics teacher classroom management are slightly skewed."
   ]
  },
  {
   "cell_type": "markdown",
   "metadata": {},
   "source": [
    "## Discussion\n",
    "\n",
    "The columns are grouped into two, categorical features and numerical features. \n",
    "\n",
    "The categorical variables include country of origin, school and student identification, gender, grade, student age and month and year of birth, use of desktop computers at school and home, parent educational level, and whether parents believe that mathematics is important to their children's careers. The count plots visualizations for the country, grade levels, and gender show that Mexico has the highest number of students interviewed. Most of the students interviewed were female while a greater number of grade 10 level students took part in the Pisa test as compared to other grades. \n",
    "\n",
    "The majority of the students access and use a desktop computer at school and home. There is a greater percentage proportion of respondents who agree that their parents believe that mathematics is important for their career. Also, students born after June 1996 are the majority in terms of the percentage proportion of students interviewed by date of birth. For parents' educational levels, the majority of the parents had post-secondary and post-graduate education as shown in the donut chart and waffle counts.\n",
    "\n",
    "The quantitative variables considered comprise perseverance of the students, sense of belonging to the school, attitude towards the school, use of ICT, teacher support and teacher-student relations, home possessions, socio-economic and cultural status, and subject scores obtained from the plausible values. From the visualization plotted in this case, it is clear that all the features have outliers. Whereas most of the features are normally distributed, perseverance, the attitude of the students towards the school, ICT used at school, and mathematics teacher classroom management are slightly skewed.\n",
    "\n",
    "Some of the visualizations could not be plotted with the data initially stored and therefore had to be readjusted and changed. For instance, in determining the number of students who took the Pisa test per grade, the grade level 96, had to be removed due to validity issues. Also, for the percentage proportion of students interviewed by date of birth, the column for date of birth has a value of 99, which is not valid. Finally, the donut chart and waffle counts on the percentage proportion for the level of education of the parents were done after the removal of None values."
   ]
  },
  {
   "cell_type": "markdown",
   "metadata": {},
   "source": [
    "## Bivariate Exploration\n",
    "\n",
    "> This section investigates relationships between pairs of variables in the data. The distribution of all the variables under this section has been explored under univariate exploration. Heatmaps, bar plots, regplots, violin plots, and box plots are used in this section."
   ]
  },
  {
   "cell_type": "markdown",
   "metadata": {},
   "source": [
    "### Question 9: How many students took the pisa test per country?\n",
    "\n",
    "Use barplot or horizontal bar graph to display the frequency or counts of each participating country"
   ]
  },
  {
   "cell_type": "code",
   "execution_count": null,
   "metadata": {},
   "outputs": [],
   "source": [
    "pisa_clean[pisa_clean['country']=='United State of America']"
   ]
  },
  {
   "cell_type": "code",
   "execution_count": null,
   "metadata": {},
   "outputs": [],
   "source": [
    "student_count=pisa_clean.groupby('country')['student_id'].count().reset_index().sort_values(by='student_id', ascending=False)\n",
    "student_count"
   ]
  },
  {
   "cell_type": "code",
   "execution_count": null,
   "metadata": {},
   "outputs": [],
   "source": [
    "gen_order = student_count['country']\n",
    "\n",
    "# set plot dimensions\n",
    "plt.figure(figsize=[8, 12])\n",
    "\n",
    "# plot countplot\n",
    "sb.barplot(data=student_count, y='country',  x='student_id', palette='crest_r') #edgecolor='blue', color='grey',\n",
    "plt.grid(axis='x', color ='grey', linestyle ='-.', linewidth = 0.2, alpha = 0.4) # b=True - for both x and y axes\n",
    "\n",
    "plt.title('Number of students per Country', fontsize=16, fontweight='bold')\n",
    "plt.xlabel('Count', fontsize=12)\n",
    "\n",
    "plt.show();"
   ]
  },
  {
   "cell_type": "markdown",
   "metadata": {},
   "source": [
    "### Observation\n",
    "\n",
    "The top three countries with the highest number of students who took part in the pisa test are Mexico, Italy, and Spain, with Liechtenstein having the least number of respondence."
   ]
  },
  {
   "cell_type": "markdown",
   "metadata": {},
   "source": [
    "### Question 10: What is the total number of students who access and use a computer at school and home?"
   ]
  },
  {
   "cell_type": "markdown",
   "metadata": {},
   "source": [
    "### Visualization\n",
    "\n",
    "use heatmap to show relationships between the use of home desktop computer and school desktop computer by students."
   ]
  },
  {
   "cell_type": "code",
   "execution_count": null,
   "metadata": {},
   "outputs": [],
   "source": [
    "# set plot dimensions\n",
    "plt.figure(figsize=[10, 6])\n",
    "\n",
    "# make counts for home desktop computer and school desktop computer\n",
    "com_counts = pisa_com.groupby(['home_desktop_computer', 'school_desktop_computer']).size()\n",
    "com_counts = com_counts.reset_index(name='count')\n",
    "com_counts = com_counts.pivot(index = 'home_desktop_computer', columns = 'school_desktop_computer', values = 'count')\n",
    "# plot heatmap\n",
    "sb.heatmap(com_counts, linewidth = 1, cmap='gist_heat_r', annot = True, fmt = 'd')\n",
    "plt.title('Home and School Computer Usage', fontsize=14, fontweight='bold')\n",
    "plt.xlabel('School Desktop Computer')\n",
    "plt.ylabel('Home Desktop Computer')\n",
    "\n",
    "plt.show();"
   ]
  },
  {
   "cell_type": "markdown",
   "metadata": {},
   "source": [
    "### Observation\n",
    "\n",
    "The number of students who access and use computers is 42043, which is higher than those who don't use a computer at home whether they access the computers or not."
   ]
  },
  {
   "cell_type": "markdown",
   "metadata": {},
   "source": [
    "### Question 11: What is the proportion in terms of gender, access and use desktop computers at school?"
   ]
  },
  {
   "cell_type": "markdown",
   "metadata": {},
   "source": [
    "## Visualization\n",
    "\n",
    "Use heatmap"
   ]
  },
  {
   "cell_type": "code",
   "execution_count": null,
   "metadata": {},
   "outputs": [],
   "source": [
    "# set plot dimensions\n",
    "plt.figure(figsize=[10, 6])\n",
    "\n",
    "#pisa_n=pisa_clean.dropna(axis=0)\n",
    "cg_count = com.groupby(['school_desktop_computer', 'gender']).size()\n",
    "cg_counts=cg_count*100/(pisa_clean['gender'].count())\n",
    "\n",
    "cg_counts = cg_counts.reset_index(name='count')\n",
    "cg_counts = cg_counts.pivot(index = 'school_desktop_computer', columns = 'gender', values = 'count')\n",
    "# plot heatmap\n",
    "sb.heatmap(cg_counts, linewidth = 1, cmap='viridis_r', annot = True, fmt = '0.1f', cbar_kws={'format': '%.1f%%'})\n",
    "plt.title('Proportion of School Computer Usage by Gender', fontsize=14, fontweight='bold')\n",
    "plt.xlabel('Gender')\n",
    "plt.ylabel('School Desktop Computer')\n",
    "\n",
    "plt.show();"
   ]
  },
  {
   "cell_type": "markdown",
   "metadata": {},
   "source": [
    "### Observation\n",
    "\n",
    "About 33 percent of female students access and use desktop computers at school compared to 32 percent of male students."
   ]
  },
  {
   "cell_type": "markdown",
   "metadata": {},
   "source": [
    "### Question 12: What is the proportion in terms of age, access and use desktop computers at home?"
   ]
  },
  {
   "cell_type": "markdown",
   "metadata": {},
   "source": [
    "### Visualization\n",
    "\n",
    "Use heatmap"
   ]
  },
  {
   "cell_type": "code",
   "execution_count": null,
   "metadata": {},
   "outputs": [],
   "source": [
    "com"
   ]
  },
  {
   "cell_type": "code",
   "execution_count": null,
   "metadata": {},
   "outputs": [],
   "source": [
    "# set plot dimensions\n",
    "plt.figure(figsize=[12, 6])\n",
    "\n",
    "cage_count = pisa_com.groupby(['home_desktop_computer', 'student_age']).size()\n",
    "cage_counts=cage_count *100/(pisa_clean['student_age'].count())\n",
    "cage_counts = cage_counts.reset_index(name='count')\n",
    "cage_counts = cage_counts.pivot(index = 'home_desktop_computer', columns = 'student_age', values = 'count')\n",
    "sb.heatmap(cage_counts, linewidth = 1, cmap='Blues', annot = True, fmt = '0.2f', cbar_kws={'format': '%.1f%%'})\n",
    "plt.title('Proportion of Home Computer Usage by Age', fontsize=14, fontweight='bold')\n",
    "plt.xlabel('Age')\n",
    "plt.ylabel('home Desktop Computer')\n",
    "\n",
    "plt.show();"
   ]
  },
  {
   "cell_type": "markdown",
   "metadata": {},
   "source": [
    "### Observation\n",
    "\n",
    "The majority of students, about 6.1 percent who use a desktop computer at home were born between July and Agust 1996."
   ]
  },
  {
   "cell_type": "markdown",
   "metadata": {},
   "source": [
    "### Question 13: Is there differences in perfomance based on gender or between OECD and non-OECD?"
   ]
  },
  {
   "cell_type": "code",
   "execution_count": null,
   "metadata": {},
   "outputs": [],
   "source": [
    "\n",
    "# Data\n",
    "pisa_mean=pisa_clean.groupby(['gender', 'oecd'])['total_score'].mean().reset_index().sort_values(by='total_score', ascending=False) \n",
    "\n",
    "width_in_pixels =1050\n",
    "height_in_pixels =730\n",
    "dpi = 150\n",
    "fig = plt.figure(figsize=(width_in_pixels/dpi, height_in_pixels/dpi))\n",
    "\n",
    "sb.barplot(data=pisa_mean, y='total_score', x='oecd', hue='gender')\n",
    "plt.title('OECD and NON-OECD Performance by Gender', fontsize=16, fontweight='bold')\n",
    "plt.ylabel('Avergae Score', fontsize=11)\n",
    "plt.xlabel('Oecd', fontsize=11)\n",
    "plt.legend(title='Gender', fontsize=11, loc='upper left', bbox_to_anchor=(1,1))\n",
    "\n",
    "plt.tight_layout() \n",
    "# Saving the plot\n",
    "plt.savefig('oecd_performance.jpg', dpi=dpi, bbox_inches='tight')\n",
    "\n",
    "plt.show();"
   ]
  },
  {
   "cell_type": "markdown",
   "metadata": {},
   "source": [
    "### Observation\n",
    "\n",
    "There is no significant different in performance in average total score between OECD and Non-OECD. However, female performance was superior to male students."
   ]
  },
  {
   "cell_type": "markdown",
   "metadata": {},
   "source": [
    "### Question 14: Is there differences in perfomance based on the country of origin?"
   ]
  },
  {
   "cell_type": "markdown",
   "metadata": {},
   "source": [
    "### Visualization"
   ]
  },
  {
   "cell_type": "code",
   "execution_count": null,
   "metadata": {},
   "outputs": [],
   "source": [
    "# set plot dimensions\n",
    "#plt.figure(figsize=[8, 6])\n",
    "width_in_pixels =1050\n",
    "height_in_pixels =730\n",
    "dpi = 100\n",
    "fig = plt.figure(figsize=(width_in_pixels/dpi, height_in_pixels/dpi))\n",
    "\n",
    "pisa_mean=com.groupby('country')['total_score'].mean().sort_values(ascending=False)\n",
    "x=pisa_mean.values\n",
    "y=pisa_mean.index\n",
    "\n",
    "sb.barplot(data=pisa_clean, y=y, x=x, palette='viridis')\n",
    "plt.title('Mean Performance by Country', fontsize=16, fontweight='bold')\n",
    "plt.ylabel('Country')\n",
    "plt.xlabel('Avearge Score')\n",
    "\n",
    "plt.tight_layout() \n",
    "# Saving the plot\n",
    "plt.savefig('country-perfomance.jpg', dpi=dpi, bbox_inches='tight')\n",
    "\n",
    "plt.show();"
   ]
  },
  {
   "cell_type": "markdown",
   "metadata": {},
   "source": [
    "### Observation\n",
    "\n",
    "China_Shanghai has the best perfomance"
   ]
  },
  {
   "cell_type": "markdown",
   "metadata": {},
   "source": [
    "### Question 15: What factors contribute to higher perfomance?\n",
    "\n",
    "This question seeks to examine the relationships between the numerical variables, and investigate factors that have a positive influence on student performance among different regional countries that are either OECD or Non-OECD members."
   ]
  },
  {
   "cell_type": "markdown",
   "metadata": {},
   "source": [
    "**Wrangle the data** \n",
    "\n",
    "\n",
    "Check the correction among the quantitative features\n",
    "\n",
    "### Visualization\n",
    "\n",
    "Use heatmap to show correlations"
   ]
  },
  {
   "cell_type": "code",
   "execution_count": 175,
   "metadata": {},
   "outputs": [],
   "source": [
    "lst=numeric_vars_other.copy()"
   ]
  },
  {
   "cell_type": "code",
   "execution_count": 176,
   "metadata": {},
   "outputs": [],
   "source": [
    "labels=['total score',\n",
    "        'perseverance',\n",
    "        'sense of \\n belonging \\n to school',\n",
    "        'attitude \\n towards school \\n learning \\n outcomes',\n",
    "        'ICT at \\n school',\n",
    "        'maths teacher \\n support',\n",
    "        'teacher student \\n relations',\n",
    "        'teacher \\n support',\n",
    "        'maths teacher \\n classroom \\n management',\n",
    "        'social_economic \\n &cultural \\n indexstatus',\n",
    "        'home \\n possessions']"
   ]
  },
  {
   "cell_type": "code",
   "execution_count": 177,
   "metadata": {},
   "outputs": [],
   "source": [
    "num_cols=['total_score']\n",
    "\n",
    "for item in lst:\n",
    "    num_cols.append(item)"
   ]
  },
  {
   "cell_type": "code",
   "execution_count": null,
   "metadata": {},
   "outputs": [],
   "source": [
    "# Data\n",
    "pisa_heat=pisa_clean.copy()\n",
    "pisa_heat=pisa_heat[num_cols]\n",
    "pisa_heat.dropna(how='any', inplace=True)"
   ]
  },
  {
   "cell_type": "code",
   "execution_count": 186,
   "metadata": {},
   "outputs": [],
   "source": [
    "# Remove outliers\n",
    "pisa_heat_clean = remove_outliers(pisa_heat, num_cols)"
   ]
  },
  {
   "cell_type": "code",
   "execution_count": null,
   "metadata": {},
   "outputs": [],
   "source": [
    "width_in_pixels =1050\n",
    "height_in_pixels =730\n",
    "dpi = 100\n",
    "fig = plt.figure(figsize=(width_in_pixels/dpi, height_in_pixels/dpi))\n",
    "\n",
    "# correlation plot\n",
    "sb.heatmap(pisa_heat_clean.corr(), annot = True, fmt = '.1f', cmap = 'vlag_r', center = 0, xticklabels=labels, yticklabels=labels)\n",
    "#plt.xticks(ticks=np.arange(-0.1, 0.3, step=0.1), labels=labels)\n",
    "plt.tight_layout() \n",
    "# Saving the plot\n",
    "plt.savefig('corr_heat.jpg', dpi=dpi, bbox_inches='tight')\n",
    "\n",
    "plt.show();"
   ]
  },
  {
   "cell_type": "markdown",
   "metadata": {},
   "source": [
    "### Observation\n",
    "\n",
    "From the correlation matrix visual shown, most features have a positive correlation with each other."
   ]
  },
  {
   "cell_type": "code",
   "execution_count": null,
   "metadata": {},
   "outputs": [],
   "source": [
    "'''data=pisa_clean.copy()\n",
    "score='total_score'\n",
    "numeric_vars = ['perseverance',\n",
    "                'sense_of_belonging_to_school',\n",
    "                'teacher_student_relations',\n",
    "                'teacher_support',\n",
    "                'home_possessions'\n",
    "                ]\n",
    "\n",
    "data_samp = data.groupby(numeric_vars)[score].mean()\n",
    "data_samp.reset_index()'''"
   ]
  },
  {
   "cell_type": "code",
   "execution_count": 189,
   "metadata": {},
   "outputs": [],
   "source": [
    "data=pisa_clean.copy()\n",
    "\n",
    "score='total_score'\n",
    "numeric_vars = ['perseverance',\n",
    "                'sense_of_belonging_to_school',\n",
    "                'teacher_student_relations',\n",
    "                'teacher_support',\n",
    "                'home_possessions',\n",
    "                score]\n",
    "data[numeric_vars]\n",
    "data['score']=np.log(data['total_score'])"
   ]
  },
  {
   "cell_type": "code",
   "execution_count": 190,
   "metadata": {},
   "outputs": [],
   "source": [
    "# Remove outliers\n",
    "pisa_data = remove_outliers(data, numeric_vars)"
   ]
  },
  {
   "cell_type": "code",
   "execution_count": null,
   "metadata": {},
   "outputs": [],
   "source": [
    "#score='total_score'\n",
    "numeric_vars = ['perseverance',\n",
    "                'sense_of_belonging_to_school',\n",
    "                'teacher_student_relations',\n",
    "                'teacher_support',\n",
    "                'home_possessions',\n",
    "                'score']\n",
    "\n",
    "data_samp = pisa_data.groupby(numeric_vars).mean().reset_index().sample(300)\n",
    "g = sb.PairGrid(data = data_samp, vars = numeric_vars)\n",
    "g = g.map_diag(plt.hist, bins = 20)\n",
    "g.map_offdiag(plt.scatter)\n",
    "\n",
    "plt.show();  "
   ]
  },
  {
   "cell_type": "markdown",
   "metadata": {},
   "source": [
    "### Observation\n",
    "\n",
    "Most of the data concentrate around zero, further investigation will reveal more detail about this trend."
   ]
  },
  {
   "cell_type": "markdown",
   "metadata": {},
   "source": [
    "Filter observations from OECD, where students access and use desktop computers and have positive teacher support."
   ]
  },
  {
   "cell_type": "markdown",
   "metadata": {},
   "source": [
    "**_Countries by region_**\n",
    "\n",
    "#western_europe=['Austria','Belgium' ,'France','Germany','Liechtenstein','Luxembourg','Netherlands', 'Switzerland']\n",
    "\n",
    "#northern_europe=['Denmark','Estonia','Finland','Iceland','Ireland','Latvia','Lithuania','Norway','Sweden','United Kingdom']\n",
    "\n",
    "#transcontinental_countries=['Kazakhstan','Russian Federation','Turkey'] \n",
    "\n",
    "#east_asia=['China-Shanghai', 'Chinese Taipei', 'Macao-China', 'Hong Kong-China', 'Japan']\n",
    "\n",
    "#north_america_subregion=['Canada', 'Mexico', 'United States of America']\n",
    "\n",
    "https://www.worldatlas.com/articles/how-many-countries-are-in-europe.html"
   ]
  },
  {
   "cell_type": "code",
   "execution_count": 193,
   "metadata": {},
   "outputs": [],
   "source": [
    "# ccreate subregions for the countries\n",
    "transcontinental_countries= ['Kazakhstan', 'Russian Federation', 'Turkey', 'Perm(Russian Federation)']\n",
    "northern_europe= ['Denmark', 'Estonia', 'Finland', 'Iceland', 'Ireland', 'Latvia', 'Norway', 'Sweden', 'United Kingdom']\n",
    "north_america_subregion= ['Canada', 'Mexico', 'United States of America'],\n",
    "western_europe= ['Austria', 'Belgium', 'France', 'Germany', 'Liechtenstein', 'Luxembourg', 'Netherlands', 'Switzerland']\n",
    "east_asia= ['China-Shanghai', 'Chinese Taipei', 'Macao-China', 'Hong Kong-China', 'Japan', 'Korea', 'Singapore']\n",
    "southern_europe= ['Greece', 'Italy', 'Portugal', 'Spain'],\n",
    "eastern_europe= ['Czech Republic', 'Hungary', 'Poland', 'Slovak Republic', 'Slovenia', 'Croatia', 'Serbia']\n",
    "oceania= ['Australia', 'New Zealand']\n",
    "latin_america= ['Chile', 'Costa Rica', 'Uruguay']\n",
    "middle_east= ['Israel', 'Jordan']"
   ]
  },
  {
   "cell_type": "code",
   "execution_count": 194,
   "metadata": {},
   "outputs": [],
   "source": [
    "# pisa above avergae perfomance students\n",
    "def data_df(region):\n",
    "    #filter regional data\n",
    "    pisa_region=pisa_clean.loc[pisa_clean['country']. isin (region)]\n",
    "    subregion=pisa_region\n",
    "    return subregion"
   ]
  },
  {
   "cell_type": "markdown",
   "metadata": {},
   "source": [
    "#### Factor 1: Social-Cultural and Economic status\n",
    "\n",
    "### Visualization"
   ]
  },
  {
   "cell_type": "code",
   "execution_count": 196,
   "metadata": {},
   "outputs": [],
   "source": [
    "# data for transcontinental_countries oecd countries\n",
    "t_countries=data_df(region=transcontinental_countries)\n",
    "# Remove outliers\n",
    "t_countries_clean = remove_outliers(t_countries, ['social_economic&cultural_index_status'])\n",
    "\n",
    "# Data\n",
    "t_countries_ana=t_countries_clean.groupby('social_economic&cultural_index_status')['total_score'].mean().reset_index()"
   ]
  },
  {
   "cell_type": "code",
   "execution_count": null,
   "metadata": {},
   "outputs": [],
   "source": [
    "# set plot dimensions\n",
    "#plt.figure(figsize=[14, 6])\n",
    "width_in_pixels =1050\n",
    "height_in_pixels =730\n",
    "dpi = 147\n",
    "fig = plt.figure(figsize=(width_in_pixels/dpi, height_in_pixels/dpi))\n",
    "\n",
    "# plot scatter\n",
    "sb.regplot(data = t_countries_ana, x = 'social_economic&cultural_index_status', y = 'total_score', \n",
    "           truncate=False, scatter_kws={'s':1}, line_kws={'color':'orange'})\n",
    "\n",
    "plt.title('Socio-Economic and Cultural status vs. Score in \\n Transcontinental Region', fontsize=15, fontweight='bold')\n",
    "plt.ylabel('Average Score')\n",
    "plt.xlabel('Socio-Economic and Cultural status index')    \n",
    "#plt.xlim(-2,2)\n",
    "plt.tight_layout() \n",
    "# Saving the plot\n",
    "plt.savefig('social_vs_trans_region.jpg', dpi=dpi, bbox_inches='tight')\n",
    "\n",
    "plt.show();"
   ]
  },
  {
   "cell_type": "markdown",
   "metadata": {},
   "source": [
    "### Observation\n",
    "\n",
    "From the visualization above, it is clear that there is a linear positive relationship between student scores and social, economic, and cultural status. Positive social-cultural and economic status have a positive impact on student performance among OECD countries in the transcontinental region."
   ]
  },
  {
   "cell_type": "markdown",
   "metadata": {},
   "source": [
    "#### Factor 2: Perseverance\n",
    "\n",
    "### Visualization"
   ]
  },
  {
   "cell_type": "code",
   "execution_count": 198,
   "metadata": {},
   "outputs": [],
   "source": [
    "# data for countries in northern europe\n",
    "n_europe=data_df(region=northern_europe)\n",
    "# Remove outliers\n",
    "n_europe_clean = remove_outliers(n_europe, ['perseverance'])\n",
    "\n",
    "# Data\n",
    "n_europe_ana=n_europe_clean.groupby('perseverance')['total_score'].mean().reset_index()"
   ]
  },
  {
   "cell_type": "code",
   "execution_count": null,
   "metadata": {},
   "outputs": [],
   "source": [
    "# set plot dimensions\n",
    "plt.figure(figsize=[14, 6])\n",
    "\n",
    "sb.lmplot(data = n_europe_ana, x = 'perseverance', y = 'total_score', #hue='oecd',\n",
    "           truncate=False, scatter_kws={'s':1}, line_kws={'color':'orange'})\n",
    "plt.title('Perserverence vs. Students Perfomance \\n in Northern Europe', fontsize=16, fontweight='bold')\n",
    "plt.ylabel('Score')\n",
    "plt.xlabel('Perserverence')\n",
    "\n",
    "plt.show();"
   ]
  },
  {
   "cell_type": "markdown",
   "metadata": {},
   "source": [
    "### Observation\n",
    "\n",
    "There is a slight positive relationship between student scores and perseverance among countries in Northern Europe, though a lot of data seem to concentrate at zero suggesting that perseverance might not be a major factor for higher scores in this region."
   ]
  },
  {
   "cell_type": "markdown",
   "metadata": {},
   "source": [
    "#### Factor 3: Teacher and student relations\n",
    "\n",
    "### Visualization"
   ]
  },
  {
   "cell_type": "code",
   "execution_count": null,
   "metadata": {},
   "outputs": [],
   "source": [
    "con=pisa_clean['country'].unique()\n",
    "ct_list=[]\n",
    "\n",
    "for country in con:\n",
    "    ct_list.append(country)\n",
    "print(ct_list)"
   ]
  },
  {
   "cell_type": "code",
   "execution_count": null,
   "metadata": {},
   "outputs": [],
   "source": [
    "'''n_america=data_df(region=north_america_subregion)\n",
    "# Remove outliers\n",
    "#n_america_clean = remove_outliers(n_america, ['teacher_student_relations'])\n",
    "n_america'''"
   ]
  },
  {
   "cell_type": "code",
   "execution_count": null,
   "metadata": {},
   "outputs": [],
   "source": [
    "# data for countries in northern europe\n",
    "n_america=data_df(region=north_america_subregion)\n",
    "# Remove outliers\n",
    "n_america_clean = remove_outliers(n_america, ['teacher_student_relations'])\n",
    "\n",
    "# Data\n",
    "n_america_ana=n_america_clean.groupby('teacher_student_relations')['total_score'].mean().reset_index()\n",
    "n_america_ana"
   ]
  },
  {
   "cell_type": "code",
   "execution_count": null,
   "metadata": {},
   "outputs": [],
   "source": [
    "# set plot dimensions\n",
    "#plt.figure(figsize=[14, 6])\n",
    "width_in_pixels =1050\n",
    "height_in_pixels =730\n",
    "dpi = 147\n",
    "fig = plt.figure(figsize=(width_in_pixels/dpi, height_in_pixels/dpi))\n",
    "\n",
    "sb.regplot(data = n_america_ana, x = 'teacher_student_relations', y = 'total_score',\n",
    "           truncate=False, scatter_kws={'s':1}, line_kws={'color':'orange'})\n",
    "plt.title('Teacher-Student Relations vs. Score in \\n North America Region', fontsize=15, fontweight='bold')\n",
    "plt.ylabel('Average Score')\n",
    "plt.xlabel('Teacher-Student Relations')\n",
    "\n",
    "plt.tight_layout() \n",
    "# Saving the plot\n",
    "plt.savefig('relation_vs_score.jpg', dpi=dpi, bbox_inches='tight')\n",
    "\n",
    "plt.show();"
   ]
  },
  {
   "cell_type": "markdown",
   "metadata": {},
   "source": [
    "### Observation\n",
    "\n",
    "A lot of data concentrates from zero to 1, suggesting that positive relations between students and teachers impact positively on the student scores in North American countries, which are members of OECD."
   ]
  },
  {
   "cell_type": "markdown",
   "metadata": {},
   "source": [
    "#### Factor 4: Home Possessions\n",
    "\n",
    "### Visualization"
   ]
  },
  {
   "cell_type": "code",
   "execution_count": 136,
   "metadata": {},
   "outputs": [],
   "source": [
    "# data for counties in western europe\n",
    "w_europe=data_df(region=western_europe)\n",
    "# Remove outliers\n",
    "w_europe_clean = remove_outliers(w_europe, ['home_possessions'])\n",
    "\n",
    "# Data\n",
    "w_europe_ana=w_europe_clean.groupby('home_possessions')['total_score'].mean().reset_index()"
   ]
  },
  {
   "cell_type": "code",
   "execution_count": null,
   "metadata": {},
   "outputs": [],
   "source": [
    "# set plot dimensions\n",
    "#plt.figure(figsize=[14, 6])\n",
    "width_in_pixels =1050\n",
    "height_in_pixels =730\n",
    "dpi = 147\n",
    "fig = plt.figure(figsize=(width_in_pixels/dpi, height_in_pixels/dpi))\n",
    "\n",
    "# plot regplot\n",
    "sb.regplot(data = w_europe_ana, x = 'home_possessions', y = 'total_score', \n",
    "           truncate=False, scatter_kws={'s':1}, line_kws={'color':'orange'})\n",
    "plt.title('Home Possessions vs. Score in \\n Western Europe', fontsize=16, fontweight='bold')\n",
    "plt.ylabel('Score')\n",
    "plt.xlabel('Home Possessions')\n",
    "plt.tight_layout() \n",
    "# Saving the plot\n",
    "plt.savefig('posession_score_in_WE.jpg', dpi=dpi, bbox_inches='tight')\n",
    "\n",
    "plt.show();"
   ]
  },
  {
   "cell_type": "markdown",
   "metadata": {},
   "source": [
    "### Observation\n",
    "\n",
    "There is a linear positive relationship between student scores and home possessions. Positive home possessions have a positive impact on student performance among OECD countries in Western Europe."
   ]
  },
  {
   "cell_type": "markdown",
   "metadata": {},
   "source": [
    "#### Factor 5: Students sense of belonging to school\n",
    "\n",
    "### Visualization"
   ]
  },
  {
   "cell_type": "code",
   "execution_count": 145,
   "metadata": {},
   "outputs": [],
   "source": [
    "# data for east asia\n",
    "e_asia=data_df(region=east_asia)\n",
    "# Remove outliers\n",
    "e_asia_clean = remove_outliers(e_asia, ['sense_of_belonging_to_school'])\n",
    "\n",
    "# Data\n",
    "e_asia_ana=e_asia_clean.groupby('sense_of_belonging_to_school')['total_score'].mean().reset_index()"
   ]
  },
  {
   "cell_type": "code",
   "execution_count": null,
   "metadata": {},
   "outputs": [],
   "source": [
    "# set plot dimensions\n",
    "#plt.figure(figsize=[14, 6])\n",
    "width_in_pixels =1050\n",
    "height_in_pixels =730\n",
    "dpi = 147\n",
    "fig = plt.figure(figsize=(width_in_pixels/dpi, height_in_pixels/dpi))\n",
    "\n",
    "\n",
    "sb.regplot(data = e_asia_ana, x = 'sense_of_belonging_to_school', y = 'total_score', \n",
    "           truncate=False, scatter_kws={'s':1}, line_kws={'color':'orange'})\n",
    "plt.title('Sense of belonging to school vs. Score in \\n Eastern Asia', fontsize=16, fontweight='bold')\n",
    "plt.ylabel('Score')\n",
    "plt.xlabel('Students sense of belonging to school')\n",
    "plt.tight_layout() \n",
    "# Saving the plot\n",
    "plt.savefig('sense_WA.jpg', dpi=dpi, bbox_inches='tight')\n",
    "\n",
    "plt.show();"
   ]
  },
  {
   "cell_type": "markdown",
   "metadata": {},
   "source": [
    "### Observation\n",
    "\n",
    "A lot of data concentrates from zero to 1, suggesting that student positive feelings about their school impact positively on their scores in East Asia countries, which are members of OECD."
   ]
  },
  {
   "cell_type": "markdown",
   "metadata": {},
   "source": [
    "#### Factor 6: ICT usage at school\n",
    "\n",
    "In this case, I want to consider ICT usage in all Non-OECD, which participated in the pisa2012 test.\n",
    "\n",
    "### Visualization"
   ]
  },
  {
   "cell_type": "code",
   "execution_count": 148,
   "metadata": {},
   "outputs": [],
   "source": [
    "df=pisa_clean\n",
    "# Remove outliers\n",
    "df_clean = remove_outliers(df, ['ICT_at_school'])\n",
    "\n",
    "# Data\n",
    "df_ana=df_clean.groupby('ICT_at_school')['total_score'].mean().reset_index()"
   ]
  },
  {
   "cell_type": "code",
   "execution_count": null,
   "metadata": {
    "scrolled": true
   },
   "outputs": [],
   "source": [
    "# set plot dimensions\n",
    "plt.figure(figsize=[14, 6])\n",
    "\n",
    "# plot regplot\n",
    "sb.regplot(data = df_ana, x = 'ICT_at_school', y = 'total_score', \n",
    "           truncate=False, scatter_kws={'s':1}, line_kws={'color':'orange'})\n",
    "\n",
    "plt.title('Use of ICT vs. Students Perfomance', fontsize=16, fontweight='bold')\n",
    "plt.ylabel('Score')\n",
    "plt.xlabel('ICT usage')\n",
    "\n",
    "plt.show();"
   ]
  },
  {
   "cell_type": "markdown",
   "metadata": {},
   "source": [
    "### Observation\n",
    "\n",
    "There is a slight linear negative relationship between student scores and student usage of ICT at school within Non-OECD states."
   ]
  },
  {
   "cell_type": "markdown",
   "metadata": {},
   "source": [
    "### Question 16: Does teachers' support has a positive impact on students' scores?"
   ]
  },
  {
   "cell_type": "markdown",
   "metadata": {},
   "source": [
    "### Visualization"
   ]
  },
  {
   "cell_type": "code",
   "execution_count": null,
   "metadata": {},
   "outputs": [],
   "source": [
    "ts=pisa_clean.copy()\n",
    "\n",
    "# Remove outliers\n",
    "ts_clean = remove_outliers(ts, ['teacher_support'])\n",
    "\n",
    "# Data\n",
    "ts_ana=ts_clean.groupby('teacher_support')['total_score'].mean().reset_index()"
   ]
  },
  {
   "cell_type": "code",
   "execution_count": null,
   "metadata": {},
   "outputs": [],
   "source": [
    "# set plot dimensions\n",
    "plt.figure(figsize=[10, 7])\n",
    "\n",
    "# plot heatmap\n",
    "plt.hist2d(data = ts_ana, x = 'teacher_support', y = 'total_score', cmin=0.5, cmap='viridis_r')\n",
    "plt.colorbar()\n",
    "plt.title('Teacher support vs. Students Perfomance', fontsize=16, fontweight='bold')\n",
    "plt.xlabel('teacher support')\n",
    "plt.ylabel('Score')\n",
    "\n",
    "plt.show();"
   ]
  },
  {
   "cell_type": "markdown",
   "metadata": {},
   "source": [
    "### Observation\n",
    "\n",
    "A lot of data concentrates from zero to about 0.8, suggesting that positive teacher support impacts positively on students' scores."
   ]
  },
  {
   "cell_type": "markdown",
   "metadata": {},
   "source": [
    "### Question 17: Does classroom management have a positive impact on students' scores in mathematics?"
   ]
  },
  {
   "cell_type": "markdown",
   "metadata": {},
   "source": [
    "### Visualization"
   ]
  },
  {
   "cell_type": "code",
   "execution_count": 155,
   "metadata": {},
   "outputs": [],
   "source": [
    "mat_cm=pisa_clean.copy()\n",
    "\n",
    "# Remove outliers\n",
    "mat_clean = remove_outliers(mat_cm, ['maths_teacher_classroom_management'])\n",
    "\n",
    "# Data\n",
    "mat_ana=mat_clean.groupby('maths_teacher_classroom_management')['score_in_mathematics'].mean().reset_index()"
   ]
  },
  {
   "cell_type": "code",
   "execution_count": null,
   "metadata": {},
   "outputs": [],
   "source": [
    "# set plot dimensions\n",
    "plt.figure(figsize=[10, 7])\n",
    "\n",
    "# plot heatmap\n",
    "plt.hist2d(data = mat_ana, x = 'maths_teacher_classroom_management', \n",
    "           y = 'score_in_mathematics', cmin=0.5, cmap='vlag_r')\n",
    "plt.colorbar()\n",
    "plt.title('Mathematics Teacher support vs. \\n Students Perfomance', fontsize=16, fontweight='bold')\n",
    "plt.xlabel('Mathematics teacher support')\n",
    "plt.ylabel('Mathematics score')\n",
    "\n",
    "plt.show();"
   ]
  },
  {
   "cell_type": "markdown",
   "metadata": {},
   "source": [
    "### Observation\n",
    "\n",
    "A lot of data concentrates below zero upto -0.5, suggesting that classroom management has little or no significant positive impact on students' mathematics scores."
   ]
  },
  {
   "cell_type": "markdown",
   "metadata": {},
   "source": [
    "### Question 18: Is there any difference in performance distribution between OECD and Non-OECD countries?"
   ]
  },
  {
   "cell_type": "markdown",
   "metadata": {},
   "source": [
    "### Visualization\n",
    "\n",
    "Use box plot"
   ]
  },
  {
   "cell_type": "code",
   "execution_count": null,
   "metadata": {},
   "outputs": [],
   "source": [
    "# set plot dimensions\n",
    "plt.figure(figsize = [7, 5])\n",
    "base_color = sb.color_palette()[0]\n",
    "sb.boxplot(data=pisa_clean, x='oecd', y='total_score', color=base_color)\n",
    "plt.title('Performance Distribution for OECD and Non-OECD', fontsize=16, fontweight='bold')\n",
    "plt.ylabel('Score')\n",
    "\n",
    "plt.show();"
   ]
  },
  {
   "cell_type": "markdown",
   "metadata": {},
   "source": [
    "### Observation\n",
    "\n",
    "The median performance is the same in both OECD and Non-OECD countries. Many students scored between 25% and 75% scores in Non-OECD than in OECD countries."
   ]
  },
  {
   "cell_type": "markdown",
   "metadata": {},
   "source": [
    "### Question 19: Is there any difference in performance distribution female and male students?"
   ]
  },
  {
   "cell_type": "markdown",
   "metadata": {},
   "source": [
    "### Visualization\n",
    "\n",
    "Use violin plot"
   ]
  },
  {
   "cell_type": "code",
   "execution_count": null,
   "metadata": {},
   "outputs": [],
   "source": [
    "# set plot dimensions\n",
    "plt.figure(figsize=[7,5])\n",
    "\n",
    "base_color = sb.color_palette()[0]\n",
    "# violin plot\n",
    "sb.violinplot(data=pisa_clean, x='gender', y='total_score', color=base_color, inner=None) # none removes boxplot\n",
    "plt.title('Perfomance Distribution for Gender', fontsize=16, fontweight='bold')\n",
    "plt.ylabel('Score')\n",
    "\n",
    "plt.show();"
   ]
  },
  {
   "cell_type": "markdown",
   "metadata": {},
   "source": [
    "### Observation\n",
    "\n",
    "Female students who scored about 1500, are more than male students."
   ]
  },
  {
   "cell_type": "markdown",
   "metadata": {},
   "source": [
    "### Question 20: Is there any relationship between mother educational level and home possessions?\n",
    "\n",
    "### Visualization\n",
    "\n",
    "Use point plot"
   ]
  },
  {
   "cell_type": "code",
   "execution_count": 98,
   "metadata": {},
   "outputs": [],
   "source": [
    "# data for transcontinental_countries oecd countries\n",
    "t_countries=data_df(region=transcontinental_countries)\n",
    "# Remove outliers\n",
    "t_countries_clean = remove_outliers(t_countries, ['social_economic&cultural_index_status'])\n",
    "\n",
    "# Data\n",
    "t_countries_ana=t_countries_clean.groupby('social_economic&cultural_index_status')['total_score'].mean().reset_index()"
   ]
  },
  {
   "cell_type": "code",
   "execution_count": null,
   "metadata": {},
   "outputs": [],
   "source": [
    "# set plot dimensions\n",
    "plt.figure(figsize=[12,5])\n",
    "\n",
    "# drop none\n",
    "pisa_mother=pisa_clean.loc[pisa_clean['mother_educational_level'] !='None']\n",
    "edu_order = ['Primary Education', 'Lower Secondary', 'Upper Secondary', 'Post Secondary', \n",
    "             'Vocational Tertiary', 'Post Graduate']\n",
    "sb.pointplot(data=pisa_mother, x='mother_educational_level', y='home_possessions', \n",
    "             color=base_color, \n",
    "            errorbar='sd', order=edu_order) \n",
    "plt.title('Educational level vs. Home possessions', fontsize=16, fontweight='bold')\n",
    "plt.ylabel('Home Possession Score')\n",
    "\n",
    "plt.show();"
   ]
  },
  {
   "cell_type": "markdown",
   "metadata": {},
   "source": [
    "### Observation\n",
    "\n",
    "Lower education level imply low score for home possession"
   ]
  },
  {
   "cell_type": "markdown",
   "metadata": {},
   "source": [
    "## Discussion\n",
    "\n",
    "Like in the previous exploration, I consider the relationship among the categorical features, numeric features, and between categorical and numeric variables. \n",
    "\n",
    "For the main features of interest, the project seeks to investigate how different factors influence performance among students in different regions, which are either members of OECD or Non-OECD. From the visualization created, it is clear that there is a linear positive relationship between student scores and social, economic, and cultural status. Positive social-cultural and economic status have a positive impact on student performance among OECD countries in the transcontinental region. Another factor that influences scores is perseverance. Student scores among countries in Northern Europe seem to concentrate at zero suggesting that perseverance might not be a major factor for higher scores in this region even though the graph shows a slight linear trend. it is also evident that positive home possessions have a positive impact on student performance among OECD countries in Western Europe as shown by the linear positive relationship between student scores and home possessions. In addition, teacher-student relations and student sense of belonging to school also influence students' scores in certain regions. This is because, a lot of data tend to concentrate from zero to 1, which may suggest that positive relations between students and teachers, and teachers' support have a slight influence on positive student scores.\n",
    "\n",
    "Other features considered are gender, use of desktop computers at school, home possessions, and education level of parents among members of OECD and Non-members. The number of students who access and use computers is 42043, which is higher than those who don't use a computer at home whether they access the computers or not. In the case of gender, about 33 percent of female students access and use desktop computers at school compared to 32 percent of male students. comparing home possessions and parent level of education, it is clear from the visualization that a lower education level implies a low score for home possession. lastly, the median performance is the same in both OECD and Non-OECD countries, though many students scored between 25% and 75% scores in non-OECD than in OECD countries. however, it is important to note that, there is no significant difference in performance among females and males as well as between OECD and non-OECD."
   ]
  },
  {
   "cell_type": "markdown",
   "metadata": {},
   "source": [
    "## Multivariate Exploration\n",
    "\n",
    "> In this section, plots of three or more variables have been created to investigate further the previous findings. Several plots such as implot, stripplot, box plot, factor plot, point plot, and facetgrid have been used."
   ]
  },
  {
   "cell_type": "markdown",
   "metadata": {},
   "source": [
    "### Question 21: Is there any difference i performance between gender and grade?\n",
    "\n",
    "### Visualization\n",
    "\n",
    "Use box plot"
   ]
  },
  {
   "cell_type": "code",
   "execution_count": null,
   "metadata": {},
   "outputs": [],
   "source": [
    "# set plot dimensions\n",
    "plt.figure(figsize=[12,5])\n",
    "\n",
    "# plot box\n",
    "ax=sb.boxplot(data=pisa_clean, x='international_grade', y='total_score', hue='gender', order=grade_order)\n",
    "ax.set_title(\"Gender and Grade Performance Comparison\", fontsize=14, fontweight='bold');\n",
    "ax.set(ylabel='Score')\n",
    "# clean and position the legend\n",
    "box = ax.get_position()\n",
    "ax.set_position([box.x0, box.y0, box.width, box.height])\n",
    "ax.legend(title=\"Gender\", loc='center left', bbox_to_anchor=(1.1, 0.08))\n",
    "\n",
    "plt.show();"
   ]
  },
  {
   "cell_type": "markdown",
   "metadata": {},
   "source": [
    "### Observation\n",
    "\n",
    "Grade 10 males have the most spread in performance"
   ]
  },
  {
   "cell_type": "markdown",
   "metadata": {},
   "source": [
    "### Question 22: How does perseverance relate to gender performance?\n",
    "\n",
    "### Visualization\n",
    "\n",
    "Use faceted heat maps"
   ]
  },
  {
   "cell_type": "code",
   "execution_count": 101,
   "metadata": {},
   "outputs": [],
   "source": [
    "# data for transcontinental_countries oecd countries\n",
    "t_countries=data_df(region=transcontinental_countries)\n",
    "# Remove outliers\n",
    "t_countries_clean = remove_outliers(t_countries, ['social_economic&cultural_index_status'])\n",
    "\n",
    "# Data\n",
    "t_countries_ana=t_countries_clean.groupby('social_economic&cultural_index_status')['total_score'].mean().reset_index()"
   ]
  },
  {
   "cell_type": "code",
   "execution_count": 102,
   "metadata": {},
   "outputs": [],
   "source": [
    "def hist2dgrid(x, y, **kwargs):\n",
    "    '\"create function to return two dimension histogram\"'\n",
    "    palette = kwargs.pop('color')\n",
    "    bins_x = np.arange(-2, 2+0.2,0.2)\n",
    "    bins_y = np.arange(pisa_clean['total_score'].min(), pisa_clean['total_score'].max()+100, 100)\n",
    "    plt.hist2d(x, y, bins = [bins_x, bins_y], cmap = palette, cmin = 0.5)"
   ]
  },
  {
   "cell_type": "code",
   "execution_count": null,
   "metadata": {},
   "outputs": [],
   "source": [
    "# create faceted heat maps on gender\n",
    "g = sb.FacetGrid(data = pisa_clean, col = 'gender', col_wrap = 2)\n",
    "g.map(hist2dgrid, 'perseverance', 'total_score', color = 'inferno')\n",
    "g.set_xlabels(\"perseverance\")\n",
    "g.set_ylabels('Score')\n",
    "# set plot dimensions\n",
    "g.fig.set_size_inches(12, 6)\n",
    "\n",
    "plt.show();"
   ]
  },
  {
   "cell_type": "markdown",
   "metadata": {},
   "source": [
    "### Observation\n",
    "\n",
    "The score tends to concentrate at zero, implying that the effect of perseverance on student performance is not significantly different for both male and female students."
   ]
  },
  {
   "cell_type": "markdown",
   "metadata": {},
   "source": [
    "### Question 23: How do teacher-student relations and students' sense of belonging to school among affect gender performance?\n",
    "\n",
    "### Visualization\n",
    "\n",
    "Use faceted heat maps"
   ]
  },
  {
   "cell_type": "code",
   "execution_count": 104,
   "metadata": {},
   "outputs": [],
   "source": [
    "# data for transcontinental_countries oecd countries\n",
    "t_countries=data_df(region=transcontinental_countries)\n",
    "# Remove outliers\n",
    "t_countries_clean = remove_outliers(t_countries, ['social_economic&cultural_index_status'])\n",
    "\n",
    "# Data\n",
    "t_countries_ana=t_countries_clean.groupby('social_economic&cultural_index_status')['total_score'].mean().reset_index()"
   ]
  },
  {
   "cell_type": "code",
   "execution_count": null,
   "metadata": {},
   "outputs": [],
   "source": [
    "# create faceted heat maps on oecd\n",
    "g = sb.FacetGrid(data = pisa_clean, col = 'gender', col_wrap = 2)\n",
    "g.map(hist2dgrid, 'sense_of_belonging_to_school', 'total_score', color = 'viridis_r') \n",
    "g.set_xlabels(\"Student's Sense of belonging to school\")\n",
    "g.set_ylabels('Score')\n",
    "g.fig.set_size_inches(12, 6);\n",
    "\n",
    "# create faceted heat maps on oecd\n",
    "g = sb.FacetGrid(data = pisa_clean, col = 'gender', col_wrap = 2)\n",
    "g.map(hist2dgrid, 'teacher_student_relations', 'total_score', color = 'inferno_r')\n",
    "g.set_xlabels(\"Teacher-Student Relations\")\n",
    "g.set_ylabels('Score')#Teacheer student Relations\n",
    "g.fig.set_size_inches(12, 6)\n",
    "\n",
    "plt.show();"
   ]
  },
  {
   "cell_type": "markdown",
   "metadata": {},
   "source": [
    "### Observation\n",
    "\n",
    "Performance of male students seems to be positively influenced by teacher-student relations as compared to female students while there are no significant differences in performance in the case of student's sense of belonging to school."
   ]
  },
  {
   "cell_type": "code",
   "execution_count": 106,
   "metadata": {},
   "outputs": [],
   "source": [
    "# data for transcontinental_countries oecd countries\n",
    "t_countries=data_df(region=transcontinental_countries)\n",
    "# Remove outliers\n",
    "t_countries_clean = remove_outliers(t_countries, ['social_economic&cultural_index_status'])\n",
    "\n",
    "# Data\n",
    "t_countries_ana=t_countries_clean.groupby('social_economic&cultural_index_status')['total_score'].mean().reset_index()"
   ]
  },
  {
   "cell_type": "code",
   "execution_count": null,
   "metadata": {},
   "outputs": [],
   "source": [
    "def hist2dgrid(x, y, **kwargs):\n",
    "    '\"create function to return two dimension histogram\"'\n",
    "    palette = kwargs.pop('color')\n",
    "    bins_x = np.arange(-2, 2+0.2,0.2)\n",
    "    bins_y = np.arange(-2, 2+0.2, 0.2)\n",
    "    plt.hist2d(x, y, bins = [bins_x, bins_y], cmap = palette, cmin = 0.5)\n",
    "    \n",
    "# create sample data\n",
    "pisa_og=pisa_clean.sample(2000)\n",
    "\n",
    "# create faceted heat maps on oecd\n",
    "g = sb.FacetGrid(data = pisa_og, col = 'oecd', col_wrap = 2)\n",
    "g.map(hist2dgrid, 'sense_of_belonging_to_school', 'teacher_student_relations', color = 'inferno_r')\n",
    "g.set_xlabels(\"Student's Sense of belonging to school\")\n",
    "g.set_ylabels('Teacheer student Relations')\n",
    "# set plot dimensions\n",
    "g.fig.set_size_inches(10,4)\n",
    "\n",
    "# create faceted heat maps on oecd\n",
    "g = sb.FacetGrid(data = pisa_og, col = 'gender', col_wrap = 2)\n",
    "g.map(hist2dgrid, 'sense_of_belonging_to_school', 'teacher_student_relations', color = 'inferno_r')\n",
    "g.set_xlabels(\"Students' sense of belonging to school\")\n",
    "g.set_ylabels('Teacheer student Relations')\n",
    "# set plot dimensions\n",
    "g.fig.set_size_inches(10,4)\n",
    "\n",
    "plt.show();"
   ]
  },
  {
   "cell_type": "markdown",
   "metadata": {},
   "source": [
    "The relationship between teacher-student relations and a sense of belonging is a linear trend for both males and females as well as among the OECD members and non-members."
   ]
  },
  {
   "cell_type": "code",
   "execution_count": 108,
   "metadata": {},
   "outputs": [],
   "source": [
    "# data for transcontinental_countries oecd countries\n",
    "t_countries=data_df(region=transcontinental_countries)\n",
    "# Remove outliers\n",
    "t_countries_clean = remove_outliers(t_countries, ['social_economic&cultural_index_status'])\n",
    "\n",
    "# Data\n",
    "t_countries_ana=t_countries_clean.groupby('social_economic&cultural_index_status')['total_score'].mean().reset_index()"
   ]
  },
  {
   "cell_type": "code",
   "execution_count": 109,
   "metadata": {},
   "outputs": [],
   "source": [
    "pisa_var=pisa_clean.groupby(['sense_of_belonging_to_school', 'teacher_student_relations', 'gender'])['total_score'].mean()\n"
   ]
  },
  {
   "cell_type": "code",
   "execution_count": 110,
   "metadata": {},
   "outputs": [],
   "source": [
    "def lmplot_graph(col):\n",
    "    # create sample\n",
    "    pisa_clean.loc[(pisa_clean['oecd']=='OECD') & (pisa_clean['school_desktop_computer']==\"Yes, and I use it\") & \n",
    "                             (pisa_clean['teacher_support']>=0)]\n",
    "    pisa_var=pisa_clean.groupby(['sense_of_belonging_to_school', 'teacher_student_relations', 'gender'])['total_score'].mean().reset_index()\n",
    "    #pisa_var = pisa_clean.sample(400)\n",
    "    sb.lmplot(x=col, y=\"total_score\", hue=\"gender\", data=pisa_var,  \n",
    "          palette='inferno_r',  markers=['v', 'x'], truncate=True, legend=\"full\", fit_reg=False)"
   ]
  },
  {
   "cell_type": "code",
   "execution_count": null,
   "metadata": {},
   "outputs": [],
   "source": [
    "# set plot dimensions\n",
    "plt.figure(figsize = [16, 10])\n",
    "# create implot\n",
    "lmplot_graph(col='sense_of_belonging_to_school')\n",
    "plt.title('Sense of belongning to school vs. Score', fontsize=16, fontweight='bold')\n",
    "plt.xlabel('Sense of belongning to school');\n",
    "\n",
    "lmplot_graph(col='teacher_student_relations')\n",
    "plt.title('Teacher-Student Relations vs. Score', fontsize=16, fontweight='bold')\n",
    "plt.xlabel('Teacher-Student Relations')\n",
    "\n",
    "plt.show();"
   ]
  },
  {
   "cell_type": "markdown",
   "metadata": {},
   "source": [
    "Performance of male students seems to be positively influenced by sense of belonging to school as compared to male students while that of female students seems to be positively influenced by teacher-student relations as compared to male students "
   ]
  },
  {
   "cell_type": "markdown",
   "metadata": {},
   "source": [
    "### Question 24: How does the use of a school desktop computer relate to scores for different grades?\n",
    "\n",
    "\n",
    "### Visualization\n",
    "\n",
    "Use factor plot"
   ]
  },
  {
   "cell_type": "code",
   "execution_count": null,
   "metadata": {},
   "outputs": [],
   "source": [
    "# factor plot\n",
    "g=sb.catplot(data=pisa_clean, x=\"international_grade\", y=\"total_score\", hue=\"school_desktop_computer\",\n",
    "                kind='bar', order=grade_order)\n",
    "plt.title('School computer usage vs. Grade scores', fontsize=16, fontweight='bold')\n",
    "g.set_xlabels(\"Grade\")\n",
    "g.set_ylabels('Score')\n",
    "g.fig.set_size_inches(10, 5)\n",
    "\n",
    "plt.show();"
   ]
  },
  {
   "cell_type": "markdown",
   "metadata": {},
   "source": [
    "### Observation\n",
    "\n",
    "In grade 12, students who access or are in schools with desktop computers but don't use them have the lowest scores as compared to the performance of students who are in schools with no desktop computers. The score for students who use school computers has remained high in all the grades."
   ]
  },
  {
   "cell_type": "markdown",
   "metadata": {},
   "source": [
    "### Question 25: How does the use of a school desktop computer affect scores for different ages?\n",
    "\n",
    "### Visualization\n",
    "\n",
    "Use point plot"
   ]
  },
  {
   "cell_type": "code",
   "execution_count": 113,
   "metadata": {},
   "outputs": [],
   "source": [
    "# Data\n",
    "pisa_ict=pisa_clean.groupby(['international_grade', 'school_desktop_computer'])['total_score'].mean()\n",
    "pisa_ict=pisa_ict.reset_index()"
   ]
  },
  {
   "cell_type": "code",
   "execution_count": null,
   "metadata": {},
   "outputs": [],
   "source": [
    "# set plot dimensions\n",
    "#plt.figure(figsize = [10,6])\n",
    "width_in_pixels = 1200\n",
    "height_in_pixels =730\n",
    "dpi = 120\n",
    "fig = plt.figure(figsize=(width_in_pixels/dpi, height_in_pixels/dpi))\n",
    "\n",
    "# plot point plot\n",
    "sb.pointplot(data = pisa_ict, x = 'international_grade', y = 'total_score', hue = 'school_desktop_computer', \n",
    "                  palette = 'Blues', linestyles = '', dodge = 0.4, order=grade_order)\n",
    "plt.title('Performance across Grade and School desktop computer', fontsize=16, fontweight='bold')\n",
    "plt.ylabel('Score')\n",
    "plt.xlabel('Grade')\n",
    "\n",
    "plt.tight_layout() \n",
    "# Saving the plot\n",
    "plt.savefig('score_by_ict_grade.jpg', dpi=dpi, bbox_inches='tight')\n",
    "\n",
    "plt.show();"
   ]
  },
  {
   "cell_type": "markdown",
   "metadata": {},
   "source": [
    "### Observation\n",
    "\n",
    "Students who have no access to computer have constant low scores across all grades."
   ]
  },
  {
   "cell_type": "markdown",
   "metadata": {},
   "source": [
    "### Question 26: How does the use of a school desktop computer affect scores for different ages?\n",
    "\n",
    "### Visualization\n",
    "\n",
    "Use point plot"
   ]
  },
  {
   "cell_type": "code",
   "execution_count": null,
   "metadata": {},
   "outputs": [],
   "source": [
    "# Data\n",
    "pisa_gender=pisa_clean.groupby(['international_grade', 'gender'])['total_score'].mean()\n",
    "pisa_gender=pisa_gender.reset_index()\n",
    "pisa_gender"
   ]
  },
  {
   "cell_type": "code",
   "execution_count": null,
   "metadata": {},
   "outputs": [],
   "source": [
    "# set plot dimensions\n",
    "#plt.figure(figsize = [10,6])\n",
    "width_in_pixels = 1200\n",
    "height_in_pixels =730\n",
    "dpi = 120\n",
    "fig = plt.figure(figsize=(width_in_pixels/dpi, height_in_pixels/dpi))\n",
    "\n",
    "ax = sb.pointplot(data = pisa_gender, x = 'international_grade', y = 'total_score',hue = 'gender', \n",
    "                  palette = 'cividis', linestyles = '', dodge = 0.4, order=grade_order)\n",
    "plt.title('Gender vs. Grade performance', fontsize=16, fontweight='bold')\n",
    "plt.ylabel('Average Score')\n",
    "plt.xlabel('Grade')\n",
    "\n",
    "plt.tight_layout() \n",
    "# Saving the plot\n",
    "plt.savefig('score_by_gender_grade.jpg', dpi=dpi, bbox_inches='tight')\n",
    "\n",
    "plt.show();"
   ]
  },
  {
   "cell_type": "markdown",
   "metadata": {},
   "source": [
    "### Observation\n",
    "\n",
    "Male students in grade 7 performed lower than those in grade 12 compared to their female counterparts. There is no significant difference in scores among female and male students in the other grades."
   ]
  },
  {
   "cell_type": "markdown",
   "metadata": {},
   "source": [
    "### Question 27: How does the parent level of education affect gender scores?\n",
    "\n",
    "### Visualization\n",
    "\n",
    "Use strip plot"
   ]
  },
  {
   "cell_type": "code",
   "execution_count": null,
   "metadata": {},
   "outputs": [],
   "source": [
    "# Data\n",
    "pisa_mom=pisa_clean.groupby(['father_educational_level', 'mother_educational_level', 'gender'])['total_score'].mean()\n",
    "pisa_mom=pisa_mom.reset_index()\n",
    "pisa_mom"
   ]
  },
  {
   "cell_type": "code",
   "execution_count": null,
   "metadata": {},
   "outputs": [],
   "source": [
    "# Combine both father and mother education levels into one DataFrame\n",
    "data = pisa_mom.melt(\n",
    "    id_vars=[\"total_score\", \"gender\"],\n",
    "    value_vars=[\"father_educational_level\", \"mother_educational_level\"],\n",
    "    var_name=\"Parent\",\n",
    "    value_name=\"Education Level\"\n",
    ")\n",
    "\n",
    "#edu_order = ['No Education', 'Primary', 'Secondary', 'Tertiary']\n",
    "\n",
    "# Create a violin plot\n",
    "sb.violinplot(\n",
    "    x=\"Education Level\",\n",
    "    y=\"total_score\",\n",
    "    hue=\"gender\",\n",
    "    data=data,\n",
    "    split=True,\n",
    "    order=edu_order,\n",
    "    inner=\"quartile\"\n",
    ")\n",
    "plt.title(\"Gender Scores by Parental Education Level\", fontsize=16, fontweight=\"bold\")\n",
    "plt.xlabel(\"Education Level\", fontsize=12)\n",
    "plt.ylabel(\"Total Score\", fontsize=12)\n",
    "plt.xticks(rotation=45)\n",
    "plt.legend(title=\"Gender\")\n",
    "plt.tight_layout()\n",
    "plt.show()\n"
   ]
  },
  {
   "cell_type": "code",
   "execution_count": null,
   "metadata": {},
   "outputs": [],
   "source": [
    "# set plot dimensions\n",
    "#plt.figure(figsize = [12,6])\n",
    "width_in_pixels = 1200\n",
    "height_in_pixels =730\n",
    "dpi = 120\n",
    "fig = plt.figure(figsize=(width_in_pixels/dpi, height_in_pixels/dpi))\n",
    "\n",
    "# create a sample\n",
    "#pisa_mom = pisa_edum.sample(10000)\n",
    "\n",
    "# plot\n",
    "sb.stripplot(x= 'mother_educational_level', y=\"total_score\", hue=\"gender\", data=pisa_mom, \n",
    "                jitter=0.35, size=2, dodge=True, order=edu_order)#dodge resolves overlapping, jitter cannot be used for cont var\n",
    "plt.title('Gender Scores by Mother Education Level', fontsize=16, fontweight='bold')\n",
    "plt.ylabel('Score')\n",
    "plt.xlabel('Mother Education Level')\n",
    "\n",
    "plt.tight_layout() \n",
    "# Saving the plot\n",
    "plt.savefig('score_by_mo_edu.jpg', dpi=dpi, bbox_inches='tight')\n",
    "\n",
    "plt.show();"
   ]
  },
  {
   "cell_type": "code",
   "execution_count": null,
   "metadata": {},
   "outputs": [],
   "source": [
    "region = {\n",
    "    'transcontinental_countries': ['Kazakhstan', 'Russian Federation', 'Turkey', 'Perm(Russian Federation)'],\n",
    "    'northern_europe': ['Denmark', 'Estonia', 'Finland', 'Iceland', 'Ireland', 'Latvia', 'Norway', 'Sweden', 'United Kingdom'],\n",
    "    'north_america_subregion': ['Canada', 'Mexico', 'United States of America'],\n",
    "    'western_europe': ['Austria', 'Belgium', 'France', 'Germany', 'Liechtenstein', 'Luxembourg', 'Netherlands', 'Switzerland'],\n",
    "    'east_asia': ['China-Shanghai', 'Chinese Taipei', 'Macao-China', 'Hong Kong-China', 'Japan', 'Korea', 'Singapore'],\n",
    "    'southern_europe': ['Greece', 'Italy', 'Portugal', 'Spain'],\n",
    "    'eastern_europe': ['Czech Republic', 'Hungary', 'Poland', 'Slovak Republic', 'Slovenia', 'Croatia', 'Serbia'],\n",
    "    'oceania': ['Australia', 'New Zealand'],\n",
    "    'latin_america': ['Chile', 'Costa Rica', 'Uruguay'],\n",
    "    'middle_east': ['Israel', 'Jordan']\n",
    "}\n",
    "\n",
    "# Copy\n",
    "#pisa_clean['country'] = pisa_clean['country'].str.strip()\n",
    "pisa_region=pisa_clean.copy()\n",
    "# Create a reverse mapping of country to region\n",
    "country_to_region = {country: region_name for region_name, countries in region.items() for country in countries}\n",
    "\n",
    "# Add the region column to pisa_clean\n",
    "pisa_region['region'] = pisa_region['country'].map(country_to_region).fillna('Unknown Region')\n",
    "\n",
    "pisa_region"
   ]
  },
  {
   "cell_type": "code",
   "execution_count": 121,
   "metadata": {},
   "outputs": [],
   "source": [
    "# data for transcontinental_countries oecd countries\n",
    "t_countries=data_df(region=transcontinental_countries)\n",
    "# Remove outliers\n",
    "t_countries_clean = remove_outliers(t_countries, ['social_economic&cultural_index_status'])\n",
    "\n",
    "# Data\n",
    "t_countries_ana=t_countries_clean.groupby('social_economic&cultural_index_status')['total_score'].mean().reset_index()"
   ]
  },
  {
   "cell_type": "code",
   "execution_count": null,
   "metadata": {},
   "outputs": [],
   "source": [
    "t_countries=pisa_clean.groupby(['oecd', 'social_economic&cultural_index_status'])['total_score'].mean().reset_index()\n",
    "t_countries"
   ]
  },
  {
   "cell_type": "code",
   "execution_count": null,
   "metadata": {},
   "outputs": [],
   "source": [
    "width_in_pixels =1050\n",
    "height_in_pixels =736\n",
    "dpi = 150\n",
    "fig = plt.figure(figsize=(width_in_pixels/dpi, height_in_pixels/dpi))\n",
    "\n",
    "# Example Bubble Chart\n",
    "sb.scatterplot(\n",
    "    data=t_countries,\n",
    "    x='social_economic&cultural_index_status',\n",
    "    y='total_score',\n",
    "    hue='oecd',  # Categorical grouping by color\n",
    "    size='total_score',  # Third variable to represent bubble size\n",
    "    sizes=(5, 200),  # Adjust the minimum and maximum bubble sizes\n",
    "    #palette='tab10',  # Color palette for regions\n",
    "    alpha=0.3,  # Transparency for better visibility\n",
    "    legend=True,\n",
    "    palette='cividis'\n",
    ")\n",
    "\n",
    "# Add labels and title\n",
    "plt.title(\"Bubble Chart: Socio-Economic Status vs Total Score by Region\")\n",
    "plt.xlabel(\"Social Economic & Cultural Index Status\")\n",
    "plt.ylabel(\"Average Score\")\n",
    "plt.xlim(-0.2,3.2)\n",
    "plt.legend(bbox_to_anchor=(1.05, 1), loc='upper left')  # Move legend outside the plot\n",
    "plt.tight_layout()  # Adjust layout to avoid clipping\n",
    "plt.show()\n"
   ]
  },
  {
   "cell_type": "code",
   "execution_count": null,
   "metadata": {},
   "outputs": [],
   "source": [
    "pisa_reg=pisa_region.groupby(['region', 'country'])['total_score'].mean().reset_index().sort_values(by='total_score', ascending=False)\n",
    "pisa_reg"
   ]
  },
  {
   "cell_type": "code",
   "execution_count": null,
   "metadata": {},
   "outputs": [],
   "source": [
    "sb.barplot(data=pisa_reg, y='country', x='total_score', hue='region', dodge=False)\n",
    "plt.show();"
   ]
  },
  {
   "cell_type": "markdown",
   "metadata": {},
   "source": [
    "### Observation\n",
    "\n",
    "Most of the students, males, and females who scored highest on the Pisa test had mothers attaining at least post-secondary education."
   ]
  },
  {
   "cell_type": "markdown",
   "metadata": {},
   "source": [
    "## Discussion\n",
    "\n",
    "In multivariate exploration, just like it's been observed earlier, teacher-student relations have a direct impact on the student's sense of belonging to a school for both genders in OECD and Non-OECD countries. It is also observed that in grade 12, students who access or are in schools with desktop computers but don't use them have the lowest scores as compared to the performance of students who are in schools with no desktop computers. The score for students who use school computers has remained high in all the grades. In addition, students who were born in April 1997 and do not have access to a desktop computer at school have the lowest score. The same trend is observed for other dates of birth except those born in March 1997. Interestingly, most of the students who scored highest on the Pisa test had their mothers having post-graduate education.\n",
    "\n",
    "Surprising interactions observed is that grade 10 males have the most spread in performance compared to other grades. Whereas perseverance has been shown to influence performance positively under bivariate exploration, in this case, the effect of perseverance on student performance is not significantly different for both male and female students. Lastly, male students in grade 7 performed lower than those in grade 12 compared to their female counterparts."
   ]
  },
  {
   "cell_type": "markdown",
   "metadata": {},
   "source": [
    "## Conclusions\n",
    "\n",
    ">The project sought to investigate (a) how the choice of a school play into academic performance (b) whether there are differences in achievement based on gender, location, or student attitudes, and (c) whether there are differences in achievement based on teacher practices and attitudes. Since the dataset is complex, my main features of interest in the dataset are the plausible values for mathematics, science, and reading and how these values are influenced by different factors under study. According to the Pisa2012 report, these plausible values are not the real scores for the listed subjects but are imputed values, which resemble individual test scores and have nearly the same distribution as the latent trait being measured. Many different factors can impact these scores and therefore the average of these estimates across the subgroups has been computed to give the best estimates of the group-level statistics of interest. Features in the dataset that will help support my investigations include the student's country of residence, country economic level (OECD or not), gender, parents' level of education, access to a computer at school and at home, home possession, age, perseverance, sense of Belonging to School, teacher-student relations, teacher support, and socio-economic and cultural status index.\n",
    "\n",
    "> From the univariate exploration, it is evident that Mexico has the highest number of students interviewed and that female students were mostly interviewed. Also, the majority of the students access and use a desktop computer at school and home as compared to those who don’t access or use the computer. Of the quantitative variables considered it is clear that all the features have outliers despite most of them being normally distributed. Some of the visualizations could not be plotted with the data initially stored and therefore had to be readjusted and changed by dropping missing values.\n",
    "\n",
    "> Bivariate exploration seeks to investigate how different factors influence performance among students in different regions, which are either members of OECD or Non-OECD. Visualization created in this case shows that there is a linear positive relationship between student scores and social, economic, and cultural status. Positive social-cultural and economic status have a positive impact on student performance among OECD countries in the transcontinental region. Another factor that influences scores is perseverance. student scores among countries in Northern Europe seem to concentrate at zero suggesting that perseverance has a slight effect on student performance. It is also evident that positive home possessions have a positive impact on student performance among OECD countries in Western Europe as shown by the linear positive relationship between student scores and home possessions. In addition, teacher-student relations and student sense of belonging to school also influence students' scores in certain regions. This is because, a lot of data tend to concentrate from zero to 1, which may suggest that positive relations between students and teachers, and teachers' support have a slight influence on positive student scores. It is also significant to note that in the case of gender, about 33 percent of female students access and use desktop computers at school compared to 32 percent of male students. Whereas the median performance is the same in both OECD and Non-OECD countries, many students scored between 25% and 75% scores in non-OECD than in OECD countries. However, it is important to note that, there is no significant difference in performance among females and males as well as between OECD and non-OECD. Comparing home possessions and parent level of education, it is clear from the visualization that a lower education level implies a low score for home possession. \n",
    "\n",
    "> Further exploration through multivariate visualization reveals that the the choice of a school play into academic performance as such students scores are high in schools with desktop computer, which are used by students. It is also observed that in grade 12, students who access or are in schools with desktop computers but don't use them have the lowest scores as compared to the performance of students who are in schools with no desktop computers. The score for students who use school computers has remained high in all the grades. \n",
    "\n",
    "> As to whether there are differences in achievement based on gender, location, or student attitudes, what is evident is that positive social-cultural and economic status have a positive impact on student performance among OECD countries. However, it is important to note that, there is no significant difference in performance among females and males as well as between OECD and non-OECD.\n",
    "\n",
    "> Lastly, there are differences in achievement based on teacher practices and attitudes. It is been confirmed in the multivariate exploration, just like it's been observed earlier that teacher-student relations have a direct impact on the student's sense of belonging to a school for both genders in OECD and Non-OECD countries. Such positive relations and student sense of belonging to school positively influence students' scores in certain regions. This is because, a lot of data tend to concentrate from zero to 1, which may suggest that positive relations between students and teachers, and teachers' support have a slight influence on positive student scores."
   ]
  }
 ],
 "metadata": {
  "kernelspec": {
   "display_name": "base",
   "language": "python",
   "name": "python3"
  },
  "language_info": {
   "codemirror_mode": {
    "name": "ipython",
    "version": 3
   },
   "file_extension": ".py",
   "mimetype": "text/x-python",
   "name": "python",
   "nbconvert_exporter": "python",
   "pygments_lexer": "ipython3",
   "version": "3.9.12"
  }
 },
 "nbformat": 4,
 "nbformat_minor": 2
}
